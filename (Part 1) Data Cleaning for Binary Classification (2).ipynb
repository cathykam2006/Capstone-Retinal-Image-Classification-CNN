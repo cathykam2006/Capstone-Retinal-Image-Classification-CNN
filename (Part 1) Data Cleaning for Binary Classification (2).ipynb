{
 "cells": [
  {
   "cell_type": "markdown",
   "id": "8e77d30d",
   "metadata": {},
   "source": [
    "# Data maneuvering"
   ]
  },
  {
   "cell_type": "code",
   "execution_count": null,
   "id": "b9125c7a",
   "metadata": {},
   "outputs": [],
   "source": [
    "import pandas as pd\n",
    "import numpy as np"
   ]
  },
  {
   "cell_type": "code",
   "execution_count": 52,
   "id": "7e3a008f-2015-4e26-a0e4-44a3906cdb0a",
   "metadata": {},
   "outputs": [
    {
     "data": {
      "text/plain": [
       "'/Users/kamwingsze/GA/project-capstone (Illuminado Capstone Project)'"
      ]
     },
     "execution_count": 52,
     "metadata": {},
     "output_type": "execute_result"
    }
   ],
   "source": [
    "pwd"
   ]
  },
  {
   "cell_type": "code",
   "execution_count": 4,
   "id": "fc80010d-a0d8-4733-b60d-afd70047660d",
   "metadata": {},
   "outputs": [
    {
     "name": "stdout",
     "output_type": "stream",
     "text": [
      "/Users/kamwingsze/GA\n"
     ]
    }
   ],
   "source": [
    "cd .."
   ]
  },
  {
   "cell_type": "code",
   "execution_count": 5,
   "id": "db47e253-04d0-4fc1-b729-43f8e3d18d2a",
   "metadata": {},
   "outputs": [
    {
     "name": "stdout",
     "output_type": "stream",
     "text": [
      "[Errno 2] No such file or directory: 'Train Set'\n",
      "/Users/kamwingsze/GA\n"
     ]
    }
   ],
   "source": [
    "cd Train Set"
   ]
  },
  {
   "cell_type": "code",
   "execution_count": 6,
   "id": "79bd3283-ebf3-49c6-8330-18615bb77d94",
   "metadata": {},
   "outputs": [
    {
     "name": "stdout",
     "output_type": "stream",
     "text": [
      "(Part 1) Data Cleaning-capstone.ipynb\r\n",
      "(Part 1) EDA -Copy1.ipynb\r\n",
      "(Part 2) Classification modeling + Model Evaluation-Copy1.ipynb\r\n",
      "(Part 2) Modeling and Binary Classification (Yes_disease, No_disease)-Copy1.ipynb\r\n",
      "(Part 2) Modeling and Classification-Capstone.ipynb\r\n",
      "\u001b[34m1.02-lesson-python-dtypes\u001b[m\u001b[m/\r\n",
      "\u001b[34m1.04-control-flow\u001b[m\u001b[m/\r\n",
      "\u001b[34m1.05-lesson-python-functions\u001b[m\u001b[m/\r\n",
      "\u001b[34m1.06_List_Comprehensions\u001b[m\u001b[m/\r\n",
      "\u001b[34m1.07-lesson-intro-to-pandas\u001b[m\u001b[m/\r\n",
      "\u001b[34m1.09_Data_Viz\u001b[m\u001b[m/\r\n",
      "\u001b[34m1.1-lab-python-ladder\u001b[m\u001b[m/\r\n",
      "\u001b[34m1.10_EDA\u001b[m\u001b[m/\r\n",
      "\u001b[34m10.01-lesson-sql-i\u001b[m\u001b[m/\r\n",
      "\u001b[34m10.02-lesson-sql-ii\u001b[m\u001b[m/\r\n",
      "\u001b[34m10.03-lesson-pyspark-dataframes\u001b[m\u001b[m/\r\n",
      "\u001b[34m10.04_Spark_ML\u001b[m\u001b[m/\r\n",
      "\u001b[34m10.05-lesson-pyspark-pipelines-cv\u001b[m\u001b[m/\r\n",
      "\u001b[34m10.06_Streamlit\u001b[m\u001b[m/\r\n",
      "\u001b[34m10.08_AWS\u001b[m\u001b[m/\r\n",
      "\u001b[34m10.1-lab-numpy-ladder\u001b[m\u001b[m/\r\n",
      "\u001b[34m10.B-lesson-sql-iii\u001b[m\u001b[m/\r\n",
      "\u001b[34m11.01-lesson-intro-to-bayes\u001b[m\u001b[m/\r\n",
      "\u001b[34m11.02-lesson-bayesian-inference\u001b[m\u001b[m/\r\n",
      "\u001b[34m11.03-lesson-mcmc\u001b[m\u001b[m/\r\n",
      "\u001b[34m11.04-lesson-pymc\u001b[m\u001b[m/\r\n",
      "\u001b[34m11.05_Bayes_estimation_AB_regression\u001b[m\u001b[m/\r\n",
      "\u001b[34m2.01-lesson-stats\u001b[m\u001b[m/\r\n",
      "\u001b[34m2.01B-lesson-intro-to-probability\u001b[m\u001b[m/\r\n",
      "\u001b[34m2.02-lesson-discrete-distributions\u001b[m\u001b[m/\r\n",
      "\u001b[34m2.03-lesson-continuous-distributions\u001b[m\u001b[m/\r\n",
      "\u001b[34m2.05-lesson-linear-regression\u001b[m\u001b[m/\r\n",
      "\u001b[34m2.06-lesson-hypothesis-testing\u001b[m\u001b[m/\r\n",
      "\u001b[34m2.08_regression_practice\u001b[m\u001b[m/\r\n",
      "\u001b[34m2.09_regression_metrics\u001b[m\u001b[m/\r\n",
      "\u001b[34m2.1-lab-titanic-pandas\u001b[m\u001b[m/\r\n",
      "\u001b[34m2.10_Bias_Variance\u001b[m\u001b[m/\r\n",
      "\u001b[34m2.2-lab-excel-madness\u001b[m\u001b[m/\r\n",
      "\u001b[34m2.4_Intro_to_inference\u001b[m\u001b[m/\r\n",
      "\u001b[34m3.01-lesson-train-test-split-cross-validation\u001b[m\u001b[m/\r\n",
      "\u001b[34m3.02-lesson-feature-engineering\u001b[m\u001b[m/\r\n",
      "\u001b[34m3.03-lesson-regularization\u001b[m\u001b[m/\r\n",
      "\u001b[34m3.04_pipelines_grid_searching\u001b[m\u001b[m/\r\n",
      "\u001b[34m3.05-lesson-model-workflow\u001b[m\u001b[m/\r\n",
      "\u001b[34m3.06_transformers\u001b[m\u001b[m/\r\n",
      "\u001b[34m3.08_Folium\u001b[m\u001b[m/\r\n",
      "\u001b[34m4.01-lesson-logistic-regression\u001b[m\u001b[m/\r\n",
      "\u001b[34m4.02-lesson-knn\u001b[m\u001b[m/\r\n",
      "\u001b[34m4.03-lesson-classification-metrics-i\u001b[m\u001b[m/\r\n",
      "\u001b[34m4.04-classification-metrics-II\u001b[m\u001b[m/\r\n",
      "\u001b[34m4.06_Imbalanced_Data\u001b[m\u001b[m/\r\n",
      "\u001b[34m4.08_APIS\u001b[m\u001b[m/\r\n",
      "\u001b[34m4.09_Plotly\u001b[m\u001b[m/\r\n",
      "\u001b[34m4.1-lab-classification-model-comparison\u001b[m\u001b[m/\r\n",
      "\u001b[34m4.10_Hackathon_I\u001b[m\u001b[m/\r\n",
      "\u001b[34m4.2-lab-classification-model-evaluation\u001b[m\u001b[m/\r\n",
      "\u001b[34m5.01-lab-webscraping\u001b[m\u001b[m/\r\n",
      "\u001b[34m5.01-lesson-flask\u001b[m\u001b[m/\r\n",
      "\u001b[34m5.02-lab-nlp-eda\u001b[m\u001b[m/\r\n",
      "\u001b[34m5.02-lesson-object-oriented-programming\u001b[m\u001b[m/\r\n",
      "\u001b[34m5.02-lesson-webscraping\u001b[m\u001b[m/\r\n",
      "\u001b[34m5.03-lesson-nlp-i\u001b[m\u001b[m/\r\n",
      "\u001b[34m5.04-lesson-nlp-ii\u001b[m\u001b[m/\r\n",
      "\u001b[34m5.04_Word_Vectors_SpaCy\u001b[m\u001b[m/\r\n",
      "\u001b[34m5.06-lesson-missing-data\u001b[m\u001b[m/\r\n",
      "\u001b[34m5.07_NLP_Hackathon\u001b[m\u001b[m/\r\n",
      "\u001b[34m6.01-lab-supervised-learning-models\u001b[m\u001b[m/\r\n",
      "\u001b[34m6.01-lesson-decision-trees\u001b[m\u001b[m/\r\n",
      "\u001b[34m6.03-Bagging\u001b[m\u001b[m/\r\n",
      "\u001b[34m6.04-lesson-random-forests\u001b[m\u001b[m/\r\n",
      "\u001b[34m6.05_Boosting\u001b[m\u001b[m/\r\n",
      "\u001b[34m6.06-lesson-support-vector-machines\u001b[m\u001b[m/\r\n",
      "\u001b[34m6.07_Gradient_Descent\u001b[m\u001b[m/\r\n",
      "\u001b[34m6.08_Lift_Gains_AUTOML\u001b[m\u001b[m/\r\n",
      "\u001b[34m7.01-lesson-kmeans\u001b[m\u001b[m/\r\n",
      "\u001b[34m7.02-lesson-dbscan\u001b[m\u001b[m/\r\n",
      "\u001b[34m7.03-lesson-recommender-systems\u001b[m\u001b[m/\r\n",
      "\u001b[34m7.04_PCA\u001b[m\u001b[m/\r\n",
      "\u001b[34m8.01-lesson-timeseries\u001b[m\u001b[m/\r\n",
      "\u001b[34m8.02-lesson-linear-time-series-modeling\u001b[m\u001b[m/\r\n",
      "\u001b[34m8.03-lesson-forecasting-i\u001b[m\u001b[m/\r\n",
      "\u001b[34m8.04-lesson-forecasting-ii\u001b[m\u001b[m/\r\n",
      "\u001b[34m8.05_Imbalanced_Data\u001b[m\u001b[m/\r\n",
      "\u001b[34m8.07_Hidden_Markov_Models\u001b[m\u001b[m/\r\n",
      "\u001b[34m8.1-lab-time-series-arima\u001b[m\u001b[m/\r\n",
      "\u001b[34m8.2-lab-neural-network-conceptual\u001b[m\u001b[m/\r\n",
      "\u001b[34m9.01-lesson-intro-neural-nets\u001b[m\u001b[m/\r\n",
      "\u001b[34m9.02-lesson-keras\u001b[m\u001b[m/\r\n",
      "\u001b[34m9.03-lesson-regularizing-NNs\u001b[m\u001b[m/\r\n",
      "\u001b[34m9.04-lesson-cnn\u001b[m\u001b[m/\r\n",
      "\u001b[34m9.05_Transfer_Learning\u001b[m\u001b[m/\r\n",
      "\u001b[34m9.06-lesson-rnn\u001b[m\u001b[m/\r\n",
      "\u001b[34m9.07_RNN_CNN_Text_Review\u001b[m\u001b[m/\r\n",
      "\u001b[34m9.1-lab-sql\u001b[m\u001b[m/\r\n",
      "\u001b[34mANN-Hackathon\u001b[m\u001b[m/\r\n",
      "Breakfast_hour - Creating and using virtual environments.ipynb\r\n",
      "Breakfast_hour_Codewar_challenge.ipynb\r\n",
      "\u001b[34mBreakfast_hour_probability\u001b[m\u001b[m/\r\n",
      "Cathy's cheatsheet.ipynb\r\n",
      "Copy_of_Sample_Pulley_Dataset-stakeholder_company.csv\r\n",
      "Enhance IT coding challenge.ipynb\r\n",
      "\u001b[34mForest Cover Type Dataset\u001b[m\u001b[m/\r\n",
      "Project-3_CathyKam(LatestBackup).ipynb\r\n",
      "\u001b[34mProject_1(Problematic)\u001b[m\u001b[m/\r\n",
      "\u001b[34mProject_2(Spare folder)\u001b[m\u001b[m/\r\n",
      "\u001b[34mPulley (Coding Challenge)\u001b[m\u001b[m/\r\n",
      "Pulley Data Analytics Challenge (by Cathy Kam).ipynb\r\n",
      "Pulley SQL Challenge-Copy-1.ipynb\r\n",
      "\u001b[34mQuiz-1\u001b[m\u001b[m/\r\n",
      "\u001b[34mQuiz-1-retake\u001b[m\u001b[m/\r\n",
      "\u001b[34mQuiz-2\u001b[m\u001b[m/\r\n",
      "\u001b[34mQuiz-2-Retake\u001b[m\u001b[m/\r\n",
      "\u001b[34mQuiz-3\u001b[m\u001b[m/\r\n",
      "\u001b[34mQuiz-4\u001b[m\u001b[m/\r\n",
      "\u001b[34mQuiz-4-Retake\u001b[m\u001b[m/\r\n",
      "\u001b[34mQuiz-5\u001b[m\u001b[m/\r\n",
      "\u001b[34mQuiz-6\u001b[m\u001b[m/\r\n",
      "\u001b[34mWeek_10_Breakfast_Hour_SQL\u001b[m\u001b[m/\r\n",
      "\u001b[34mWeek_11_Thinking_In_Code\u001b[m\u001b[m/\r\n",
      "\u001b[34mWeek_11_breakfast_hour_BigONOtation\u001b[m\u001b[m/\r\n",
      "\u001b[34mWeek_6_breakfast_hour (Webscrapping)\u001b[m\u001b[m/\r\n",
      "\u001b[34mWeek_7_Breakfast Hour (Model Optimization)\u001b[m\u001b[m/\r\n",
      "\u001b[34mWeek_8_breakfast_hour_LDA\u001b[m\u001b[m/\r\n",
      "\u001b[34mWeek_9 - Git: Branching and Merging\u001b[m\u001b[m/\r\n",
      "\u001b[34mcapstone\u001b[m\u001b[m/\r\n",
      "hop to last.ipynb\r\n",
      "\u001b[34mlab-3.01-linear-regression\u001b[m\u001b[m/\r\n",
      "\u001b[34mlab-3.02-cross_validation-regularization-regression\u001b[m\u001b[m/\r\n",
      "\u001b[34mlab-7.1-kmeans-isotopes\u001b[m\u001b[m/\r\n",
      "\u001b[34mlab-7.2-principal-component-analysis\u001b[m\u001b[m/\r\n",
      "\u001b[34mnlp-hackathon\u001b[m\u001b[m/\r\n",
      "\u001b[34mproject-1 2019 ACT & SAT Score Analysis \u001b[m\u001b[m/\r\n",
      "\u001b[34mproject-2 Ames Housing Analysis + Prediction\u001b[m\u001b[m/\r\n",
      "\u001b[34mproject-3 Pokemon Subreddits Sentiment Analysis + Classification\u001b[m\u001b[m/\r\n",
      "\u001b[34mproject-4 Movie Box Revenue Analysis + Prediction\u001b[m\u001b[m/\r\n",
      "\u001b[34mproject-5 Covid-19 Census Analysis + Prediction\u001b[m\u001b[m/\r\n",
      "\u001b[34mproject-capstone (Illuminado Capstone Project)\u001b[m\u001b[m/\r\n",
      "\u001b[34mproject-capstone (Illuminado Capstone Project) *Part 1 - binary classification\u001b[m\u001b[m/\r\n",
      "\u001b[34mproject-capstone (Illuminado Capstone Project) *Part 2 - multi classification\u001b[m\u001b[m/\r\n",
      "\u001b[34mproject-capstone (Illuminado Capstone Project) *Part 3 - Streamlit Deployment\u001b[m\u001b[m/\r\n",
      "\u001b[34mproject_5\u001b[m\u001b[m/\r\n"
     ]
    }
   ],
   "source": [
    "ls"
   ]
  },
  {
   "cell_type": "code",
   "execution_count": 53,
   "id": "acaa2b3f-2e26-4a60-b05b-dc035d0cd52a",
   "metadata": {},
   "outputs": [
    {
     "data": {
      "text/html": [
       "<div>\n",
       "<style scoped>\n",
       "    .dataframe tbody tr th:only-of-type {\n",
       "        vertical-align: middle;\n",
       "    }\n",
       "\n",
       "    .dataframe tbody tr th {\n",
       "        vertical-align: top;\n",
       "    }\n",
       "\n",
       "    .dataframe thead th {\n",
       "        text-align: right;\n",
       "    }\n",
       "</style>\n",
       "<table border=\"1\" class=\"dataframe\">\n",
       "  <thead>\n",
       "    <tr style=\"text-align: right;\">\n",
       "      <th></th>\n",
       "      <th>ID</th>\n",
       "      <th>Disease_Risk</th>\n",
       "      <th>DR</th>\n",
       "      <th>ARMD</th>\n",
       "      <th>MH</th>\n",
       "      <th>DN</th>\n",
       "      <th>MYA</th>\n",
       "      <th>BRVO</th>\n",
       "      <th>TSLN</th>\n",
       "      <th>ERM</th>\n",
       "      <th>...</th>\n",
       "      <th>CME</th>\n",
       "      <th>PTCR</th>\n",
       "      <th>CF</th>\n",
       "      <th>VH</th>\n",
       "      <th>MCA</th>\n",
       "      <th>VS</th>\n",
       "      <th>BRAO</th>\n",
       "      <th>PLQ</th>\n",
       "      <th>HPED</th>\n",
       "      <th>CL</th>\n",
       "    </tr>\n",
       "  </thead>\n",
       "  <tbody>\n",
       "    <tr>\n",
       "      <th>0</th>\n",
       "      <td>1</td>\n",
       "      <td>1</td>\n",
       "      <td>1</td>\n",
       "      <td>0</td>\n",
       "      <td>0</td>\n",
       "      <td>0</td>\n",
       "      <td>0</td>\n",
       "      <td>0</td>\n",
       "      <td>0</td>\n",
       "      <td>0</td>\n",
       "      <td>...</td>\n",
       "      <td>0</td>\n",
       "      <td>0</td>\n",
       "      <td>0</td>\n",
       "      <td>0</td>\n",
       "      <td>0</td>\n",
       "      <td>0</td>\n",
       "      <td>0</td>\n",
       "      <td>0</td>\n",
       "      <td>0</td>\n",
       "      <td>0</td>\n",
       "    </tr>\n",
       "    <tr>\n",
       "      <th>1</th>\n",
       "      <td>2</td>\n",
       "      <td>1</td>\n",
       "      <td>1</td>\n",
       "      <td>0</td>\n",
       "      <td>0</td>\n",
       "      <td>0</td>\n",
       "      <td>0</td>\n",
       "      <td>0</td>\n",
       "      <td>0</td>\n",
       "      <td>0</td>\n",
       "      <td>...</td>\n",
       "      <td>0</td>\n",
       "      <td>0</td>\n",
       "      <td>0</td>\n",
       "      <td>0</td>\n",
       "      <td>0</td>\n",
       "      <td>0</td>\n",
       "      <td>0</td>\n",
       "      <td>0</td>\n",
       "      <td>0</td>\n",
       "      <td>0</td>\n",
       "    </tr>\n",
       "    <tr>\n",
       "      <th>2</th>\n",
       "      <td>3</td>\n",
       "      <td>1</td>\n",
       "      <td>1</td>\n",
       "      <td>0</td>\n",
       "      <td>0</td>\n",
       "      <td>0</td>\n",
       "      <td>0</td>\n",
       "      <td>0</td>\n",
       "      <td>0</td>\n",
       "      <td>0</td>\n",
       "      <td>...</td>\n",
       "      <td>0</td>\n",
       "      <td>0</td>\n",
       "      <td>0</td>\n",
       "      <td>0</td>\n",
       "      <td>0</td>\n",
       "      <td>0</td>\n",
       "      <td>0</td>\n",
       "      <td>0</td>\n",
       "      <td>0</td>\n",
       "      <td>0</td>\n",
       "    </tr>\n",
       "    <tr>\n",
       "      <th>3</th>\n",
       "      <td>4</td>\n",
       "      <td>1</td>\n",
       "      <td>0</td>\n",
       "      <td>0</td>\n",
       "      <td>1</td>\n",
       "      <td>0</td>\n",
       "      <td>0</td>\n",
       "      <td>0</td>\n",
       "      <td>0</td>\n",
       "      <td>0</td>\n",
       "      <td>...</td>\n",
       "      <td>0</td>\n",
       "      <td>0</td>\n",
       "      <td>0</td>\n",
       "      <td>0</td>\n",
       "      <td>0</td>\n",
       "      <td>0</td>\n",
       "      <td>0</td>\n",
       "      <td>0</td>\n",
       "      <td>0</td>\n",
       "      <td>0</td>\n",
       "    </tr>\n",
       "    <tr>\n",
       "      <th>4</th>\n",
       "      <td>5</td>\n",
       "      <td>1</td>\n",
       "      <td>1</td>\n",
       "      <td>0</td>\n",
       "      <td>0</td>\n",
       "      <td>0</td>\n",
       "      <td>0</td>\n",
       "      <td>0</td>\n",
       "      <td>0</td>\n",
       "      <td>0</td>\n",
       "      <td>...</td>\n",
       "      <td>0</td>\n",
       "      <td>0</td>\n",
       "      <td>0</td>\n",
       "      <td>0</td>\n",
       "      <td>0</td>\n",
       "      <td>0</td>\n",
       "      <td>0</td>\n",
       "      <td>0</td>\n",
       "      <td>0</td>\n",
       "      <td>0</td>\n",
       "    </tr>\n",
       "    <tr>\n",
       "      <th>...</th>\n",
       "      <td>...</td>\n",
       "      <td>...</td>\n",
       "      <td>...</td>\n",
       "      <td>...</td>\n",
       "      <td>...</td>\n",
       "      <td>...</td>\n",
       "      <td>...</td>\n",
       "      <td>...</td>\n",
       "      <td>...</td>\n",
       "      <td>...</td>\n",
       "      <td>...</td>\n",
       "      <td>...</td>\n",
       "      <td>...</td>\n",
       "      <td>...</td>\n",
       "      <td>...</td>\n",
       "      <td>...</td>\n",
       "      <td>...</td>\n",
       "      <td>...</td>\n",
       "      <td>...</td>\n",
       "      <td>...</td>\n",
       "      <td>...</td>\n",
       "    </tr>\n",
       "    <tr>\n",
       "      <th>1915</th>\n",
       "      <td>1916</td>\n",
       "      <td>1</td>\n",
       "      <td>0</td>\n",
       "      <td>0</td>\n",
       "      <td>0</td>\n",
       "      <td>0</td>\n",
       "      <td>0</td>\n",
       "      <td>0</td>\n",
       "      <td>0</td>\n",
       "      <td>0</td>\n",
       "      <td>...</td>\n",
       "      <td>0</td>\n",
       "      <td>0</td>\n",
       "      <td>0</td>\n",
       "      <td>0</td>\n",
       "      <td>0</td>\n",
       "      <td>0</td>\n",
       "      <td>0</td>\n",
       "      <td>0</td>\n",
       "      <td>0</td>\n",
       "      <td>0</td>\n",
       "    </tr>\n",
       "    <tr>\n",
       "      <th>1916</th>\n",
       "      <td>1917</td>\n",
       "      <td>1</td>\n",
       "      <td>1</td>\n",
       "      <td>0</td>\n",
       "      <td>0</td>\n",
       "      <td>0</td>\n",
       "      <td>0</td>\n",
       "      <td>0</td>\n",
       "      <td>0</td>\n",
       "      <td>0</td>\n",
       "      <td>...</td>\n",
       "      <td>0</td>\n",
       "      <td>0</td>\n",
       "      <td>0</td>\n",
       "      <td>0</td>\n",
       "      <td>0</td>\n",
       "      <td>0</td>\n",
       "      <td>0</td>\n",
       "      <td>0</td>\n",
       "      <td>0</td>\n",
       "      <td>0</td>\n",
       "    </tr>\n",
       "    <tr>\n",
       "      <th>1917</th>\n",
       "      <td>1918</td>\n",
       "      <td>0</td>\n",
       "      <td>0</td>\n",
       "      <td>0</td>\n",
       "      <td>0</td>\n",
       "      <td>0</td>\n",
       "      <td>0</td>\n",
       "      <td>0</td>\n",
       "      <td>0</td>\n",
       "      <td>0</td>\n",
       "      <td>...</td>\n",
       "      <td>0</td>\n",
       "      <td>0</td>\n",
       "      <td>0</td>\n",
       "      <td>0</td>\n",
       "      <td>0</td>\n",
       "      <td>0</td>\n",
       "      <td>0</td>\n",
       "      <td>0</td>\n",
       "      <td>0</td>\n",
       "      <td>0</td>\n",
       "    </tr>\n",
       "    <tr>\n",
       "      <th>1918</th>\n",
       "      <td>1919</td>\n",
       "      <td>0</td>\n",
       "      <td>0</td>\n",
       "      <td>0</td>\n",
       "      <td>0</td>\n",
       "      <td>0</td>\n",
       "      <td>0</td>\n",
       "      <td>0</td>\n",
       "      <td>0</td>\n",
       "      <td>0</td>\n",
       "      <td>...</td>\n",
       "      <td>0</td>\n",
       "      <td>0</td>\n",
       "      <td>0</td>\n",
       "      <td>0</td>\n",
       "      <td>0</td>\n",
       "      <td>0</td>\n",
       "      <td>0</td>\n",
       "      <td>0</td>\n",
       "      <td>0</td>\n",
       "      <td>0</td>\n",
       "    </tr>\n",
       "    <tr>\n",
       "      <th>1919</th>\n",
       "      <td>1920</td>\n",
       "      <td>0</td>\n",
       "      <td>0</td>\n",
       "      <td>0</td>\n",
       "      <td>0</td>\n",
       "      <td>0</td>\n",
       "      <td>0</td>\n",
       "      <td>0</td>\n",
       "      <td>0</td>\n",
       "      <td>0</td>\n",
       "      <td>...</td>\n",
       "      <td>0</td>\n",
       "      <td>0</td>\n",
       "      <td>0</td>\n",
       "      <td>0</td>\n",
       "      <td>0</td>\n",
       "      <td>0</td>\n",
       "      <td>0</td>\n",
       "      <td>0</td>\n",
       "      <td>0</td>\n",
       "      <td>0</td>\n",
       "    </tr>\n",
       "  </tbody>\n",
       "</table>\n",
       "<p>1920 rows × 47 columns</p>\n",
       "</div>"
      ],
      "text/plain": [
       "        ID  Disease_Risk  DR  ARMD  MH  DN  MYA  BRVO  TSLN  ERM  ...  CME  \\\n",
       "0        1             1   1     0   0   0    0     0     0    0  ...    0   \n",
       "1        2             1   1     0   0   0    0     0     0    0  ...    0   \n",
       "2        3             1   1     0   0   0    0     0     0    0  ...    0   \n",
       "3        4             1   0     0   1   0    0     0     0    0  ...    0   \n",
       "4        5             1   1     0   0   0    0     0     0    0  ...    0   \n",
       "...    ...           ...  ..   ...  ..  ..  ...   ...   ...  ...  ...  ...   \n",
       "1915  1916             1   0     0   0   0    0     0     0    0  ...    0   \n",
       "1916  1917             1   1     0   0   0    0     0     0    0  ...    0   \n",
       "1917  1918             0   0     0   0   0    0     0     0    0  ...    0   \n",
       "1918  1919             0   0     0   0   0    0     0     0    0  ...    0   \n",
       "1919  1920             0   0     0   0   0    0     0     0    0  ...    0   \n",
       "\n",
       "      PTCR  CF  VH  MCA  VS  BRAO  PLQ  HPED  CL  \n",
       "0        0   0   0    0   0     0    0     0   0  \n",
       "1        0   0   0    0   0     0    0     0   0  \n",
       "2        0   0   0    0   0     0    0     0   0  \n",
       "3        0   0   0    0   0     0    0     0   0  \n",
       "4        0   0   0    0   0     0    0     0   0  \n",
       "...    ...  ..  ..  ...  ..   ...  ...   ...  ..  \n",
       "1915     0   0   0    0   0     0    0     0   0  \n",
       "1916     0   0   0    0   0     0    0     0   0  \n",
       "1917     0   0   0    0   0     0    0     0   0  \n",
       "1918     0   0   0    0   0     0    0     0   0  \n",
       "1919     0   0   0    0   0     0    0     0   0  \n",
       "\n",
       "[1920 rows x 47 columns]"
      ]
     },
     "execution_count": 53,
     "metadata": {},
     "output_type": "execute_result"
    }
   ],
   "source": [
    "train = pd.read_csv('RFMiD_Training_Labels.csv')\n",
    "train"
   ]
  },
  {
   "cell_type": "code",
   "execution_count": null,
   "id": "47fd583b-e852-4f5d-a82f-10ed4200e151",
   "metadata": {},
   "outputs": [],
   "source": [
    "#sort out the ID that has disease risk == 1 and convert them into a list"
   ]
  },
  {
   "cell_type": "code",
   "execution_count": 59,
   "id": "ee7532f1-6ddd-4464-8a5f-efe1d735e6a0",
   "metadata": {},
   "outputs": [
    {
     "data": {
      "text/plain": [
       "'5'"
      ]
     },
     "execution_count": 59,
     "metadata": {},
     "output_type": "execute_result"
    }
   ],
   "source": [
    "yes_disease = list(train.loc[train['Disease_Risk'] == 1]['ID'].astype(str))\n",
    "yes_disease[4]"
   ]
  },
  {
   "cell_type": "code",
   "execution_count": 57,
   "id": "1281fd2a-3c7c-4e8b-92b1-900dd1af1eb0",
   "metadata": {},
   "outputs": [
    {
     "data": {
      "text/plain": [
       "'28'"
      ]
     },
     "execution_count": 57,
     "metadata": {},
     "output_type": "execute_result"
    }
   ],
   "source": [
    "no_disease = list(train.loc[train['Disease_Risk'] == 0]['ID'].astype(str))\n",
    "no_disease[4]"
   ]
  },
  {
   "cell_type": "code",
   "execution_count": 10,
   "id": "bdcb2404-701d-403a-a5b0-a40411355185",
   "metadata": {},
   "outputs": [],
   "source": [
    "import os"
   ]
  },
  {
   "cell_type": "code",
   "execution_count": 60,
   "id": "fd0e2753-4123-4bcb-8d84-19d75e85928e",
   "metadata": {},
   "outputs": [
    {
     "data": {
      "text/plain": [
       "False"
      ]
     },
     "execution_count": 60,
     "metadata": {},
     "output_type": "execute_result"
    }
   ],
   "source": [
    "1178 in yes_disease"
   ]
  },
  {
   "cell_type": "code",
   "execution_count": 164,
   "id": "0f5a9ce9-45e6-4c40-a40e-ed8f93f222df",
   "metadata": {},
   "outputs": [],
   "source": [
    "#sorting the images into the Yes_disease pile\n",
    "\n",
    "ims = os.listdir()\n",
    "\n",
    "for im in ims:\n",
    "    if im.replace('.png', '') in yes_disease:\n",
    "        os.rename(im, f\"Yes_disease/{im}\")"
   ]
  },
  {
   "cell_type": "code",
   "execution_count": 165,
   "id": "c78e55c6-d041-41ed-8c5f-40601ce4783d",
   "metadata": {},
   "outputs": [],
   "source": [
    "#sorting the images into the No_disease pile\n",
    "\n",
    "for im in ims:\n",
    "    if im.replace('.png', '') in no_disease:\n",
    "        os.rename(im, f\"No_disease/{im}\")\n",
    "        \n",
    "        \n",
    "# os.rename(\"1920.png\", \"Yes_disease/1920.png\")   "
   ]
  },
  {
   "cell_type": "code",
   "execution_count": null,
   "id": "38d7c781-a5d6-483d-8e76-e7257450a77b",
   "metadata": {},
   "outputs": [],
   "source": []
  },
  {
   "cell_type": "code",
   "execution_count": null,
   "id": "af888fe6-044b-4a0f-addd-2b874b600612",
   "metadata": {},
   "outputs": [],
   "source": []
  },
  {
   "cell_type": "markdown",
   "id": "ce56d633-f514-4877-8b6c-6f3bf987c8a8",
   "metadata": {},
   "source": [
    "# Data Sorting and Cleaning for the Validation Set"
   ]
  },
  {
   "cell_type": "code",
   "execution_count": 166,
   "id": "5db0aad7-2fdb-46b7-96fb-5f54c687bf46",
   "metadata": {},
   "outputs": [
    {
     "data": {
      "text/plain": [
       "'/Users/kamwingsze/GA/project-capstone (Illuminado Capstone Project)/Train Set'"
      ]
     },
     "execution_count": 166,
     "metadata": {},
     "output_type": "execute_result"
    }
   ],
   "source": [
    "pwd"
   ]
  },
  {
   "cell_type": "code",
   "execution_count": 167,
   "id": "86e01757-1109-419c-aff7-e604bcaddf82",
   "metadata": {},
   "outputs": [
    {
     "name": "stdout",
     "output_type": "stream",
     "text": [
      "/Users/kamwingsze/GA/project-capstone (Illuminado Capstone Project)\n"
     ]
    }
   ],
   "source": [
    "cd .."
   ]
  },
  {
   "cell_type": "code",
   "execution_count": 168,
   "id": "33424a7f-4dc6-4215-b612-29705d1cea1e",
   "metadata": {},
   "outputs": [
    {
     "name": "stdout",
     "output_type": "stream",
     "text": [
      "/Users/kamwingsze/GA/project-capstone (Illuminado Capstone Project)/Validation Set\n"
     ]
    }
   ],
   "source": [
    "cd Validation Set"
   ]
  },
  {
   "cell_type": "code",
   "execution_count": 169,
   "id": "460da988-d59c-478c-9089-76ee216765d0",
   "metadata": {},
   "outputs": [
    {
     "name": "stdout",
     "output_type": "stream",
     "text": [
      "1.png                        39.png\n",
      "10.png                       390.png\n",
      "100.png                      391.png\n",
      "101.png                      392.png\n",
      "102.png                      393.png\n",
      "103.png                      394.png\n",
      "104.png                      395.png\n",
      "105.png                      396.png\n",
      "106.png                      397.png\n",
      "107.png                      398.png\n",
      "108.png                      399.png\n",
      "109.png                      4.png\n",
      "11.png                       40.png\n",
      "110.png                      400.png\n",
      "111.png                      401.png\n",
      "112.png                      402.png\n",
      "113.png                      403.png\n",
      "114.png                      404.png\n",
      "115.png                      405.png\n",
      "116.png                      406.png\n",
      "117.png                      407.png\n",
      "118.png                      408.png\n",
      "119.png                      409.png\n",
      "12.png                       41.png\n",
      "120.png                      410.png\n",
      "121.png                      411.png\n",
      "122.png                      412.png\n",
      "123.png                      413.png\n",
      "124.png                      414.png\n",
      "125.png                      415.png\n",
      "126.png                      416.png\n",
      "127.png                      417.png\n",
      "128.png                      418.png\n",
      "129.png                      419.png\n",
      "13.png                       42.png\n",
      "130.png                      420.png\n",
      "131.png                      421.png\n",
      "132.png                      422.png\n",
      "133.png                      423.png\n",
      "134.png                      424.png\n",
      "135.png                      425.png\n",
      "136.png                      426.png\n",
      "137.png                      427.png\n",
      "138.png                      428.png\n",
      "139.png                      429.png\n",
      "14.png                       43.png\n",
      "140.png                      430.png\n",
      "141.png                      431.png\n",
      "142.png                      432.png\n",
      "143.png                      433.png\n",
      "144.png                      434.png\n",
      "145.png                      435.png\n",
      "146.png                      436.png\n",
      "147.png                      437.png\n",
      "148.png                      438.png\n",
      "149.png                      439.png\n",
      "15.png                       44.png\n",
      "150.png                      440.png\n",
      "151.png                      441.png\n",
      "152.png                      442.png\n",
      "153.png                      443.png\n",
      "154.png                      444.png\n",
      "155.png                      445.png\n",
      "156.png                      446.png\n",
      "157.png                      447.png\n",
      "158.png                      448.png\n",
      "159.png                      449.png\n",
      "16.png                       45.png\n",
      "160.png                      450.png\n",
      "161.png                      451.png\n",
      "162.png                      452.png\n",
      "163.png                      453.png\n",
      "164.png                      454.png\n",
      "165.png                      455.png\n",
      "166.png                      456.png\n",
      "167.png                      457.png\n",
      "168.png                      458.png\n",
      "169.png                      459.png\n",
      "17.png                       46.png\n",
      "170.png                      460.png\n",
      "171.png                      461.png\n",
      "172.png                      462.png\n",
      "173.png                      463.png\n",
      "174.png                      464.png\n",
      "175.png                      465.png\n",
      "176.png                      466.png\n",
      "177.png                      467.png\n",
      "178.png                      468.png\n",
      "179.png                      469.png\n",
      "18.png                       47.png\n",
      "180.png                      470.png\n",
      "181.png                      471.png\n",
      "182.png                      472.png\n",
      "183.png                      473.png\n",
      "184.png                      474.png\n",
      "185.png                      475.png\n",
      "186.png                      476.png\n",
      "187.png                      477.png\n",
      "188.png                      478.png\n",
      "189.png                      479.png\n",
      "19.png                       48.png\n",
      "190.png                      480.png\n",
      "191.png                      481.png\n",
      "192.png                      482.png\n",
      "193.png                      483.png\n",
      "194.png                      484.png\n",
      "195.png                      485.png\n",
      "196.png                      486.png\n",
      "197.png                      487.png\n",
      "198.png                      488.png\n",
      "199.png                      489.png\n",
      "2.png                        49.png\n",
      "20.png                       490.png\n",
      "200.png                      491.png\n",
      "201.png                      492.png\n",
      "202.png                      493.png\n",
      "203.png                      494.png\n",
      "204.png                      495.png\n",
      "205.png                      496.png\n",
      "206.png                      497.png\n",
      "207.png                      498.png\n",
      "208.png                      499.png\n",
      "209.png                      5.png\n",
      "21.png                       50.png\n",
      "210.png                      500.png\n",
      "211.png                      501.png\n",
      "212.png                      502.png\n",
      "213.png                      503.png\n",
      "214.png                      504.png\n",
      "215.png                      505.png\n",
      "216.png                      506.png\n",
      "217.png                      507.png\n",
      "218.png                      508.png\n",
      "219.png                      509.png\n",
      "22.png                       51.png\n",
      "220.png                      510.png\n",
      "221.png                      511.png\n",
      "222.png                      512.png\n",
      "223.png                      513.png\n",
      "224.png                      514.png\n",
      "225.png                      515.png\n",
      "226.png                      516.png\n",
      "227.png                      517.png\n",
      "228.png                      518.png\n",
      "229.png                      519.png\n",
      "23.png                       52.png\n",
      "230.png                      520.png\n",
      "231.png                      521.png\n",
      "232.png                      522.png\n",
      "233.png                      523.png\n",
      "234.png                      524.png\n",
      "235.png                      525.png\n",
      "236.png                      526.png\n",
      "237.png                      527.png\n",
      "238.png                      528.png\n",
      "239.png                      529.png\n",
      "24.png                       53.png\n",
      "240.png                      530.png\n",
      "241.png                      531.png\n",
      "242.png                      532.png\n",
      "243.png                      533.png\n",
      "244.png                      534.png\n",
      "245.png                      535.png\n",
      "246.png                      536.png\n",
      "247.png                      537.png\n",
      "248.png                      538.png\n",
      "249.png                      539.png\n",
      "25.png                       54.png\n",
      "250.png                      540.png\n",
      "251.png                      541.png\n",
      "252.png                      542.png\n",
      "253.png                      543.png\n",
      "254.png                      544.png\n",
      "255.png                      545.png\n",
      "256.png                      546.png\n",
      "257.png                      547.png\n",
      "258.png                      548.png\n",
      "259.png                      549.png\n",
      "26.png                       55.png\n",
      "260.png                      550.png\n",
      "261.png                      551.png\n",
      "262.png                      552.png\n",
      "263.png                      553.png\n",
      "264.png                      554.png\n",
      "265.png                      555.png\n",
      "266.png                      556.png\n",
      "267.png                      557.png\n",
      "268.png                      558.png\n",
      "269.png                      559.png\n",
      "27.png                       56.png\n",
      "270.png                      560.png\n",
      "271.png                      561.png\n",
      "272.png                      562.png\n",
      "273.png                      563.png\n",
      "274.png                      564.png\n",
      "275.png                      565.png\n",
      "276.png                      566.png\n",
      "277.png                      567.png\n",
      "278.png                      568.png\n",
      "279.png                      569.png\n",
      "28.png                       57.png\n",
      "280.png                      570.png\n",
      "281.png                      571.png\n",
      "282.png                      572.png\n",
      "283.png                      573.png\n",
      "284.png                      574.png\n",
      "285.png                      575.png\n",
      "286.png                      576.png\n",
      "287.png                      577.png\n",
      "288.png                      578.png\n",
      "289.png                      579.png\n",
      "29.png                       58.png\n",
      "290.png                      580.png\n",
      "291.png                      581.png\n",
      "292.png                      582.png\n",
      "293.png                      583.png\n",
      "294.png                      584.png\n",
      "295.png                      585.png\n",
      "296.png                      586.png\n",
      "297.png                      587.png\n",
      "298.png                      588.png\n",
      "299.png                      589.png\n",
      "3.png                        59.png\n",
      "30.png                       590.png\n",
      "300.png                      591.png\n",
      "301.png                      592.png\n",
      "302.png                      593.png\n",
      "303.png                      594.png\n",
      "304.png                      595.png\n",
      "305.png                      596.png\n",
      "306.png                      597.png\n",
      "307.png                      598.png\n",
      "308.png                      599.png\n",
      "309.png                      6.png\n",
      "31.png                       60.png\n",
      "310.png                      600.png\n",
      "311.png                      601.png\n",
      "312.png                      602.png\n",
      "313.png                      603.png\n",
      "314.png                      604.png\n",
      "315.png                      605.png\n",
      "316.png                      606.png\n",
      "317.png                      607.png\n",
      "318.png                      608.png\n",
      "319.png                      609.png\n",
      "32.png                       61.png\n",
      "320.png                      610.png\n",
      "321.png                      611.png\n",
      "322.png                      612.png\n",
      "323.png                      613.png\n",
      "324.png                      614.png\n",
      "325.png                      615.png\n",
      "326.png                      616.png\n",
      "327.png                      617.png\n",
      "328.png                      618.png\n",
      "329.png                      619.png\n",
      "33.png                       62.png\n",
      "330.png                      620.png\n",
      "331.png                      621.png\n",
      "332.png                      622.png\n",
      "333.png                      623.png\n",
      "334.png                      624.png\n",
      "335.png                      625.png\n",
      "336.png                      626.png\n",
      "337.png                      627.png\n",
      "338.png                      628.png\n",
      "339.png                      629.png\n",
      "34.png                       63.png\n",
      "340.png                      630.png\n",
      "341.png                      631.png\n",
      "342.png                      632.png\n",
      "343.png                      633.png\n",
      "344.png                      634.png\n",
      "345.png                      635.png\n",
      "346.png                      636.png\n",
      "347.png                      637.png\n",
      "348.png                      638.png\n",
      "349.png                      639.png\n",
      "35.png                       64.png\n",
      "350.png                      640.png\n",
      "351.png                      65.png\n",
      "352.png                      66.png\n",
      "353.png                      67.png\n",
      "354.png                      68.png\n",
      "355.png                      69.png\n",
      "356.png                      7.png\n",
      "357.png                      70.png\n",
      "358.png                      71.png\n",
      "359.png                      72.png\n",
      "36.png                       73.png\n",
      "360.png                      74.png\n",
      "361.png                      75.png\n",
      "362.png                      76.png\n",
      "363.png                      77.png\n",
      "364.png                      78.png\n",
      "365.png                      79.png\n",
      "366.png                      8.png\n",
      "367.png                      80.png\n",
      "368.png                      81.png\n",
      "369.png                      82.png\n",
      "37.png                       83.png\n",
      "370.png                      84.png\n",
      "371.png                      85.png\n",
      "372.png                      86.png\n",
      "373.png                      87.png\n",
      "374.png                      88.png\n",
      "375.png                      89.png\n",
      "376.png                      9.png\n",
      "377.png                      90.png\n",
      "378.png                      91.png\n",
      "379.png                      92.png\n",
      "38.png                       93.png\n",
      "380.png                      94.png\n",
      "381.png                      95.png\n",
      "382.png                      96.png\n",
      "383.png                      97.png\n",
      "384.png                      98.png\n",
      "385.png                      99.png\n",
      "386.png                      \u001b[34mNo_disease\u001b[m\u001b[m/\n",
      "387.png                      RFMiD_Validation_Labels.csv\n",
      "388.png                      \u001b[34mYes_disease\u001b[m\u001b[m/\n",
      "389.png\n"
     ]
    }
   ],
   "source": [
    "ls"
   ]
  },
  {
   "cell_type": "code",
   "execution_count": null,
   "id": "2f4c87ca-e2e2-430b-baed-1c8808eececb",
   "metadata": {},
   "outputs": [],
   "source": []
  },
  {
   "cell_type": "code",
   "execution_count": 171,
   "id": "f809f3b6-febb-4144-b9a1-6f5d817161df",
   "metadata": {},
   "outputs": [],
   "source": [
    "validation = pd.read_csv('RFMiD_Validation_Labels.csv')"
   ]
  },
  {
   "cell_type": "code",
   "execution_count": 172,
   "id": "4e69c1b0-3190-4195-bfd2-0f98f6872e52",
   "metadata": {},
   "outputs": [],
   "source": [
    "#sort out the ID that has disease risk == 1 and convert them into a list"
   ]
  },
  {
   "cell_type": "code",
   "execution_count": 173,
   "id": "058977eb-b7e0-4993-a91f-04a11884158e",
   "metadata": {},
   "outputs": [
    {
     "data": {
      "text/plain": [
       "'1'"
      ]
     },
     "execution_count": 173,
     "metadata": {},
     "output_type": "execute_result"
    }
   ],
   "source": [
    "yes_disease = list(validation.loc[validation['Disease_Risk'] == 1]['ID'].astype(str))\n",
    "yes_disease[0]"
   ]
  },
  {
   "cell_type": "code",
   "execution_count": 174,
   "id": "2f6a779b-638f-41c0-abe7-99b067c75e9d",
   "metadata": {},
   "outputs": [
    {
     "data": {
      "text/plain": [
       "'116'"
      ]
     },
     "execution_count": 174,
     "metadata": {},
     "output_type": "execute_result"
    }
   ],
   "source": [
    "no_disease = list(validation.loc[validation['Disease_Risk'] == 0]['ID'].astype(str))\n",
    "no_disease[0]"
   ]
  },
  {
   "cell_type": "code",
   "execution_count": 175,
   "id": "3eaa215e-001d-4035-bad5-311edd25b253",
   "metadata": {},
   "outputs": [],
   "source": [
    "import os"
   ]
  },
  {
   "cell_type": "code",
   "execution_count": 176,
   "id": "2b8a400d-be6d-4c38-9705-24708e3f99c6",
   "metadata": {},
   "outputs": [],
   "source": [
    "#sorting the images into the Yes_disease pile\n",
    "\n",
    "ims = os.listdir()\n",
    "\n",
    "for im in ims:\n",
    "    if im.replace('.png', '') in yes_disease:\n",
    "        os.rename(im, f\"Yes_disease/{im}\")"
   ]
  },
  {
   "cell_type": "code",
   "execution_count": 177,
   "id": "346ea72d-7fca-4af4-932f-1eaff91cee49",
   "metadata": {},
   "outputs": [],
   "source": [
    "#sorting the images into the No_disease pile\n",
    "\n",
    "for im in ims:\n",
    "    if im.replace('.png', '') in no_disease:\n",
    "        os.rename(im, f\"No_disease/{im}\")\n",
    "        \n",
    "        \n",
    "# os.rename(\"1920.png\", \"Yes_disease/1920.png\")   "
   ]
  },
  {
   "cell_type": "code",
   "execution_count": null,
   "id": "4de8218c-8591-403d-a22b-aa49adf88f3e",
   "metadata": {},
   "outputs": [],
   "source": []
  },
  {
   "cell_type": "code",
   "execution_count": null,
   "id": "a05736c5-573c-4f06-8f8f-da9d4bd02c3a",
   "metadata": {},
   "outputs": [],
   "source": []
  },
  {
   "cell_type": "markdown",
   "id": "ff1844ce-8d70-4975-a229-e408e44a9dc9",
   "metadata": {},
   "source": [
    "# Data Cleaning and Sorting for the Testing Set"
   ]
  },
  {
   "cell_type": "code",
   "execution_count": 17,
   "id": "94709fda-b2ac-4c7f-bb2c-e3ef62be7f3a",
   "metadata": {},
   "outputs": [
    {
     "data": {
      "text/plain": [
       "'/Users/kamwingsze/GA'"
      ]
     },
     "execution_count": 17,
     "metadata": {},
     "output_type": "execute_result"
    }
   ],
   "source": [
    "pwd"
   ]
  },
  {
   "cell_type": "code",
   "execution_count": 18,
   "id": "b2dcbe9e-b17f-4b75-af8a-706f5bc6393f",
   "metadata": {},
   "outputs": [
    {
     "name": "stdout",
     "output_type": "stream",
     "text": [
      "/Users/kamwingsze\n"
     ]
    }
   ],
   "source": [
    "cd .."
   ]
  },
  {
   "cell_type": "code",
   "execution_count": 19,
   "id": "196b43f8-3f9f-406a-aab3-f47f5012d56c",
   "metadata": {},
   "outputs": [
    {
     "name": "stdout",
     "output_type": "stream",
     "text": [
      "[Errno 2] No such file or directory: 'Test Set'\n",
      "/Users/kamwingsze\n"
     ]
    }
   ],
   "source": [
    "cd Test Set\n"
   ]
  },
  {
   "cell_type": "code",
   "execution_count": 20,
   "id": "ba9dd505",
   "metadata": {},
   "outputs": [
    {
     "name": "stdout",
     "output_type": "stream",
     "text": [
      "/Users/kamwingsze/GA\n"
     ]
    }
   ],
   "source": [
    "cd GA"
   ]
  },
  {
   "cell_type": "code",
   "execution_count": 21,
   "id": "c2ba14a2",
   "metadata": {},
   "outputs": [
    {
     "name": "stdout",
     "output_type": "stream",
     "text": [
      "/Users/kamwingsze/GA/project-capstone (Illuminado Capstone Project)\n"
     ]
    }
   ],
   "source": [
    "cd project-capstone (Illuminado Capstone Project)"
   ]
  },
  {
   "cell_type": "code",
   "execution_count": 22,
   "id": "2e1e3161-9830-44c1-ab2a-b97f0bab17af",
   "metadata": {},
   "outputs": [
    {
     "name": "stdout",
     "output_type": "stream",
     "text": [
      "(Part 1) Data Cleaning for Binary Classification.ipynb\r\n",
      "(Part 2) Modeling and Binary Classification (Yes_disease, No_disease).ipynb\r\n",
      "EDA.ipynb\r\n",
      "\u001b[34mImages\u001b[m\u001b[m/\r\n",
      "RFMiD_Testing_Labels.csv\r\n",
      "RFMiD_Training_Labels.csv\r\n",
      "\u001b[34mTest Set\u001b[m\u001b[m/\r\n",
      "\u001b[34mTrain Set\u001b[m\u001b[m/\r\n",
      "Untitled.ipynb\r\n",
      "\u001b[34mValidation Set\u001b[m\u001b[m/\r\n",
      "readme.md\r\n"
     ]
    }
   ],
   "source": [
    "ls"
   ]
  },
  {
   "cell_type": "code",
   "execution_count": 23,
   "id": "f5117593-7036-40d7-8db9-b6cf1891b93a",
   "metadata": {},
   "outputs": [],
   "source": [
    "test = pd.read_csv('RFMiD_Testing_Labels.csv')"
   ]
  },
  {
   "cell_type": "code",
   "execution_count": 15,
   "id": "29986e21-6abc-4dd4-8572-36238976427d",
   "metadata": {},
   "outputs": [],
   "source": [
    "#sort out the ID that has disease risk == 1 and convert them into a list"
   ]
  },
  {
   "cell_type": "code",
   "execution_count": 61,
   "id": "36497d69-6219-494e-ae09-3fbcc820cd6b",
   "metadata": {},
   "outputs": [
    {
     "data": {
      "text/plain": [
       "'1'"
      ]
     },
     "execution_count": 61,
     "metadata": {},
     "output_type": "execute_result"
    }
   ],
   "source": [
    "yes_disease = list(test.loc[test['Disease_Risk'] == 1]['ID'].astype(str))\n",
    "yes_disease[0]"
   ]
  },
  {
   "cell_type": "code",
   "execution_count": 63,
   "id": "03f25e91-082c-473a-a9a0-e782ef31ea0b",
   "metadata": {},
   "outputs": [
    {
     "data": {
      "text/plain": [
       "'245'"
      ]
     },
     "execution_count": 63,
     "metadata": {},
     "output_type": "execute_result"
    }
   ],
   "source": [
    "no_disease = list(test.loc[test['Disease_Risk'] == 0]['ID'].astype(str))\n",
    "no_disease[0]"
   ]
  },
  {
   "cell_type": "code",
   "execution_count": 185,
   "id": "45f83c7b-3ed1-4c4d-9360-bada728f99c3",
   "metadata": {},
   "outputs": [],
   "source": [
    "import os"
   ]
  },
  {
   "cell_type": "code",
   "execution_count": 186,
   "id": "bd7a5fdf-2ad6-4ebf-8251-4ba66449eff1",
   "metadata": {},
   "outputs": [
    {
     "data": {
      "text/plain": [
       "'/Users/kamwingsze/GA/project-capstone (Illuminado Capstone Project)/Test Set'"
      ]
     },
     "execution_count": 186,
     "metadata": {},
     "output_type": "execute_result"
    }
   ],
   "source": [
    "pwd"
   ]
  },
  {
   "cell_type": "code",
   "execution_count": 187,
   "id": "bca6e976-c81b-4545-b21a-18bc8c1dcc88",
   "metadata": {},
   "outputs": [],
   "source": [
    "#sorting the images into the Yes_disease pile\n",
    "\n",
    "ims = os.listdir()\n",
    "\n",
    "for im in ims:\n",
    "    if im.replace('.png', '') in yes_disease:\n",
    "        os.rename(im, f\"Yes_disease/{im}\")"
   ]
  },
  {
   "cell_type": "code",
   "execution_count": 188,
   "id": "d0735019-5927-40ad-8ff7-8f86e683b77a",
   "metadata": {},
   "outputs": [],
   "source": [
    "#sorting the images into the No_disease pile\n",
    "\n",
    "for im in ims:\n",
    "    if im.replace('.png', '') in no_disease:\n",
    "        os.rename(im, f\"No_disease/{im}\")\n",
    "        \n",
    "        \n",
    "# os.rename(\"1920.png\", \"Yes_disease/1920.png\")  "
   ]
  },
  {
   "cell_type": "code",
   "execution_count": null,
   "id": "10246310-134c-4497-9d08-8b787459e1bd",
   "metadata": {},
   "outputs": [],
   "source": []
  },
  {
   "cell_type": "code",
   "execution_count": null,
   "id": "9b7a569b-398c-4cce-b110-df5d929213cc",
   "metadata": {},
   "outputs": [],
   "source": []
  },
  {
   "cell_type": "code",
   "execution_count": null,
   "id": "c608fb21-2169-4489-9e6e-a5a443d00af8",
   "metadata": {},
   "outputs": [],
   "source": []
  }
 ],
 "metadata": {
  "kernelspec": {
   "display_name": "Python 3 (ipykernel)",
   "language": "python",
   "name": "python3"
  },
  "language_info": {
   "codemirror_mode": {
    "name": "ipython",
    "version": 3
   },
   "file_extension": ".py",
   "mimetype": "text/x-python",
   "name": "python",
   "nbconvert_exporter": "python",
   "pygments_lexer": "ipython3",
   "version": "3.9.15"
  }
 },
 "nbformat": 4,
 "nbformat_minor": 5
}
