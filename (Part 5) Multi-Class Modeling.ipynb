{
 "cells": [
  {
   "cell_type": "code",
   "execution_count": 3,
   "id": "591da3f7",
   "metadata": {},
   "outputs": [
    {
     "name": "stderr",
     "output_type": "stream",
     "text": [
      "2023-01-09 22:27:03.387212: I tensorflow/core/platform/cpu_feature_guard.cc:193] This TensorFlow binary is optimized with oneAPI Deep Neural Network Library (oneDNN) to use the following CPU instructions in performance-critical operations:  AVX2 FMA\n",
      "To enable them in other operations, rebuild TensorFlow with the appropriate compiler flags.\n"
     ]
    }
   ],
   "source": [
    "# Import libraries and modules\n",
    "import numpy as np\n",
    "import matplotlib.pyplot as plt\n",
    "import pandas as pd\n",
    "\n",
    "# For reproducibility\n",
    "np.random.seed(42)\n",
    "\n",
    "from tensorflow.keras.models import Sequential\n",
    "from tensorflow.keras.layers import Dense, Dropout, Flatten, Conv2D, MaxPooling2D\n",
    "from tensorflow.keras import utils\n",
    "from tensorflow.keras.datasets import mnist\n",
    " \n",
    "\n",
    "from keras.preprocessing.image import ImageDataGenerator\n"
   ]
  },
  {
   "cell_type": "code",
   "execution_count": 4,
   "id": "de63b6da",
   "metadata": {},
   "outputs": [
    {
     "data": {
      "text/plain": [
       "'/Users/kamwingsze/GA/project-capstone (Illuminado Capstone Project) *Part 2 - multi classification'"
      ]
     },
     "execution_count": 4,
     "metadata": {},
     "output_type": "execute_result"
    }
   ],
   "source": [
    "pwd"
   ]
  },
  {
   "cell_type": "code",
   "execution_count": 5,
   "id": "1ac854c7",
   "metadata": {},
   "outputs": [
    {
     "name": "stdout",
     "output_type": "stream",
     "text": [
      "/Users/kamwingsze/GA/project-capstone (Illuminado Capstone Project) *Part 2 - multi classification/Train Set\n"
     ]
    }
   ],
   "source": [
    "cd Train Set"
   ]
  },
  {
   "cell_type": "markdown",
   "id": "40ae12ad",
   "metadata": {},
   "source": [
    "# Training Set"
   ]
  },
  {
   "cell_type": "code",
   "execution_count": 6,
   "id": "00c98263",
   "metadata": {},
   "outputs": [],
   "source": [
    "train_gen = ImageDataGenerator(rescale = 1/255.)\n"
   ]
  },
  {
   "cell_type": "code",
   "execution_count": 7,
   "id": "c84771e4",
   "metadata": {},
   "outputs": [
    {
     "name": "stdout",
     "output_type": "stream",
     "text": [
      "Found 724 images belonging to 3 classes.\n"
     ]
    }
   ],
   "source": [
    "train_data = train_gen.flow_from_directory('/Users/kamwingsze/GA/project-capstone (Illuminado Capstone Project) *Part 2 - multi classification/Train Set')"
   ]
  },
  {
   "cell_type": "markdown",
   "id": "4f94cac9",
   "metadata": {},
   "source": [
    "# Testing Set"
   ]
  },
  {
   "cell_type": "code",
   "execution_count": 8,
   "id": "488844ea",
   "metadata": {},
   "outputs": [
    {
     "name": "stdout",
     "output_type": "stream",
     "text": [
      "Found 220 images belonging to 3 classes.\n"
     ]
    }
   ],
   "source": [
    "test_data = train_gen.flow_from_directory('/Users/kamwingsze/GA/project-capstone (Illuminado Capstone Project) *Part 2 - multi classification/Test Set')"
   ]
  },
  {
   "cell_type": "markdown",
   "id": "c69c7111",
   "metadata": {},
   "source": [
    "# Data Cleaning"
   ]
  },
  {
   "cell_type": "code",
   "execution_count": 9,
   "id": "6c495fdb",
   "metadata": {},
   "outputs": [
    {
     "name": "stdout",
     "output_type": "stream",
     "text": [
      "[Errno 2] No such file or directory: 'Train Set'\n",
      "/Users/kamwingsze/GA/project-capstone (Illuminado Capstone Project) *Part 2 - multi classification/Train Set\n"
     ]
    }
   ],
   "source": [
    "cd Train Set"
   ]
  },
  {
   "cell_type": "code",
   "execution_count": 193,
   "id": "13a2bcb9",
   "metadata": {},
   "outputs": [
    {
     "name": "stdout",
     "output_type": "stream",
     "text": [
      "\u001b[34m.\u001b[m\u001b[m/   \u001b[34m..\u001b[m\u001b[m/  \u001b[34mDR\u001b[m\u001b[m/  \u001b[34mMH\u001b[m\u001b[m/  \u001b[34mODC\u001b[m\u001b[m/\r\n"
     ]
    }
   ],
   "source": [
    "ls -a"
   ]
  },
  {
   "cell_type": "code",
   "execution_count": 194,
   "id": "3c104a48",
   "metadata": {},
   "outputs": [],
   "source": [
    "rm -rf .ipynb_checkpoints/"
   ]
  },
  {
   "cell_type": "code",
   "execution_count": 195,
   "id": "fd243f55",
   "metadata": {},
   "outputs": [
    {
     "name": "stdout",
     "output_type": "stream",
     "text": [
      "\u001b[34m.\u001b[m\u001b[m/   \u001b[34m..\u001b[m\u001b[m/  \u001b[34mDR\u001b[m\u001b[m/  \u001b[34mMH\u001b[m\u001b[m/  \u001b[34mODC\u001b[m\u001b[m/\r\n"
     ]
    }
   ],
   "source": [
    "ls -a"
   ]
  },
  {
   "cell_type": "code",
   "execution_count": 196,
   "id": "7588ed40",
   "metadata": {},
   "outputs": [
    {
     "name": "stdout",
     "output_type": "stream",
     "text": [
      "/Users/kamwingsze/GA/project-capstone (Illuminado Capstone Project) *Part 2 - multi classification\n"
     ]
    }
   ],
   "source": [
    "cd ..\n"
   ]
  },
  {
   "cell_type": "code",
   "execution_count": 197,
   "id": "3d4794e6",
   "metadata": {},
   "outputs": [
    {
     "name": "stdout",
     "output_type": "stream",
     "text": [
      "/Users/kamwingsze/GA/project-capstone (Illuminado Capstone Project) *Part 2 - multi classification/Test Set\n"
     ]
    }
   ],
   "source": [
    "cd Test Set"
   ]
  },
  {
   "cell_type": "code",
   "execution_count": 198,
   "id": "66583bd1",
   "metadata": {},
   "outputs": [
    {
     "name": "stdout",
     "output_type": "stream",
     "text": [
      "\u001b[34m.\u001b[m\u001b[m/   \u001b[34m..\u001b[m\u001b[m/  \u001b[34mDR\u001b[m\u001b[m/  \u001b[34mMH\u001b[m\u001b[m/  \u001b[34mODC\u001b[m\u001b[m/\r\n"
     ]
    }
   ],
   "source": [
    "ls -a"
   ]
  },
  {
   "cell_type": "code",
   "execution_count": 199,
   "id": "10931c22",
   "metadata": {},
   "outputs": [],
   "source": [
    "rm -rf .ipynb_checkpoints/"
   ]
  },
  {
   "cell_type": "code",
   "execution_count": 200,
   "id": "5300b593",
   "metadata": {},
   "outputs": [
    {
     "name": "stdout",
     "output_type": "stream",
     "text": [
      "\u001b[34m.\u001b[m\u001b[m/   \u001b[34m..\u001b[m\u001b[m/  \u001b[34mDR\u001b[m\u001b[m/  \u001b[34mMH\u001b[m\u001b[m/  \u001b[34mODC\u001b[m\u001b[m/\r\n"
     ]
    }
   ],
   "source": [
    "ls -a"
   ]
  },
  {
   "cell_type": "markdown",
   "id": "991eb05c",
   "metadata": {},
   "source": [
    "# Data Augmentation"
   ]
  },
  {
   "cell_type": "code",
   "execution_count": 244,
   "id": "0b2ad27e",
   "metadata": {},
   "outputs": [],
   "source": [
    "train_augmented = ImageDataGenerator(rescale = 1/255.,\n",
    "                                     shear_range= 0.1,\n",
    "                                     zoom_range= 0.2,\n",
    "                                     horizontal_flip = True,\n",
    "                                     vertical_flip = True)"
   ]
  },
  {
   "cell_type": "code",
   "execution_count": 245,
   "id": "d6462784",
   "metadata": {},
   "outputs": [
    {
     "name": "stdout",
     "output_type": "stream",
     "text": [
      "Found 724 images belonging to 3 classes.\n"
     ]
    }
   ],
   "source": [
    "train_data_augmented = train_augmented.flow_from_directory('/Users/kamwingsze/GA/project-capstone (Illuminado Capstone Project) *Part 2 - multi classification/Train Set')"
   ]
  },
  {
   "cell_type": "code",
   "execution_count": 246,
   "id": "70f4d081",
   "metadata": {},
   "outputs": [],
   "source": [
    "test_augmented = ImageDataGenerator(rescale = 1/255.)"
   ]
  },
  {
   "cell_type": "code",
   "execution_count": 247,
   "id": "c4549389",
   "metadata": {},
   "outputs": [
    {
     "name": "stdout",
     "output_type": "stream",
     "text": [
      "Found 220 images belonging to 3 classes.\n"
     ]
    }
   ],
   "source": [
    "test_data_augmented = test_augmented.flow_from_directory('/Users/kamwingsze/GA/project-capstone (Illuminado Capstone Project) *Part 2 - multi classification/Test Set')"
   ]
  },
  {
   "cell_type": "markdown",
   "id": "bf77fe3f",
   "metadata": {},
   "source": [
    "# 1. Tesing Out Prebuilt Networks -  InceptionV3 as convolution base"
   ]
  },
  {
   "cell_type": "code",
   "execution_count": 248,
   "id": "c8ed752a",
   "metadata": {},
   "outputs": [],
   "source": [
    "from keras.applications import MobileNetV2, VGG16, InceptionV3, Xception\n",
    "from keras import metrics"
   ]
  },
  {
   "cell_type": "code",
   "execution_count": 282,
   "id": "2de111e2",
   "metadata": {},
   "outputs": [],
   "source": [
    "conv_base = InceptionV3(include_top = False, input_shape = (1424, 2144, 3), weights = 'imagenet')"
   ]
  },
  {
   "cell_type": "code",
   "execution_count": 283,
   "id": "cd1f3207",
   "metadata": {},
   "outputs": [],
   "source": [
    "from keras.utils import plot_model"
   ]
  },
  {
   "cell_type": "code",
   "execution_count": 284,
   "id": "9b5d2959",
   "metadata": {},
   "outputs": [
    {
     "name": "stdout",
     "output_type": "stream",
     "text": [
      "You must install pydot (`pip install pydot`) and install graphviz (see instructions at https://graphviz.gitlab.io/download/) for plot_model to work.\n"
     ]
    }
   ],
   "source": [
    "plot_model(conv_base)"
   ]
  },
  {
   "cell_type": "markdown",
   "id": "d98d85ee",
   "metadata": {},
   "source": [
    "# X-train, X-test, y-train, y-test"
   ]
  },
  {
   "cell_type": "code",
   "execution_count": 252,
   "id": "2422c6b6",
   "metadata": {},
   "outputs": [
    {
     "name": "stdout",
     "output_type": "stream",
     "text": [
      "23/23 [==============================] - 89s 4s/step\n"
     ]
    }
   ],
   "source": [
    "X_train = conv_base.predict(train_data_augmented)"
   ]
  },
  {
   "cell_type": "code",
   "execution_count": 253,
   "id": "b69067ce",
   "metadata": {},
   "outputs": [
    {
     "name": "stdout",
     "output_type": "stream",
     "text": [
      "7/7 [==============================] - 17s 2s/step\n"
     ]
    }
   ],
   "source": [
    "X_test = conv_base.predict(test_data_augmented)"
   ]
  },
  {
   "cell_type": "code",
   "execution_count": 254,
   "id": "b8b52565",
   "metadata": {},
   "outputs": [],
   "source": [
    "y_train = train_data_augmented.labels"
   ]
  },
  {
   "cell_type": "code",
   "execution_count": 255,
   "id": "c28f9f21",
   "metadata": {},
   "outputs": [],
   "source": [
    "y_test = test_data_augmented.labels"
   ]
  },
  {
   "cell_type": "code",
   "execution_count": 256,
   "id": "34e987ca",
   "metadata": {},
   "outputs": [
    {
     "data": {
      "text/plain": [
       "(724, 6, 6, 2048)"
      ]
     },
     "execution_count": 256,
     "metadata": {},
     "output_type": "execute_result"
    }
   ],
   "source": [
    "X_train.shape"
   ]
  },
  {
   "cell_type": "code",
   "execution_count": 257,
   "id": "05ad0f58",
   "metadata": {},
   "outputs": [
    {
     "data": {
      "text/plain": [
       "(724,)"
      ]
     },
     "execution_count": 257,
     "metadata": {},
     "output_type": "execute_result"
    }
   ],
   "source": [
    "y_train.shape"
   ]
  },
  {
   "cell_type": "code",
   "execution_count": 258,
   "id": "c2b9775e",
   "metadata": {},
   "outputs": [
    {
     "data": {
      "text/plain": [
       "(220, 6, 6, 2048)"
      ]
     },
     "execution_count": 258,
     "metadata": {},
     "output_type": "execute_result"
    }
   ],
   "source": [
    "X_test.shape"
   ]
  },
  {
   "cell_type": "code",
   "execution_count": 259,
   "id": "eeabf91b",
   "metadata": {},
   "outputs": [
    {
     "data": {
      "text/plain": [
       "(220,)"
      ]
     },
     "execution_count": 259,
     "metadata": {},
     "output_type": "execute_result"
    }
   ],
   "source": [
    "y_test.shape"
   ]
  },
  {
   "cell_type": "code",
   "execution_count": null,
   "id": "55b151c5",
   "metadata": {},
   "outputs": [],
   "source": []
  },
  {
   "cell_type": "markdown",
   "id": "90f68b8c",
   "metadata": {},
   "source": [
    "# Putting InceptionV3 in the convolutional network model\n"
   ]
  },
  {
   "cell_type": "code",
   "execution_count": 285,
   "id": "46b00b6f",
   "metadata": {},
   "outputs": [],
   "source": [
    "from keras.layers import GlobalAveragePooling2D\n",
    "from tensorflow.keras.layers import Conv2D\n",
    "from keras.utils import to_categorical\n",
    "import tensorflow\n",
    "from tensorflow.keras.callbacks import EarlyStopping"
   ]
  },
  {
   "cell_type": "code",
   "execution_count": 286,
   "id": "586f1827",
   "metadata": {},
   "outputs": [],
   "source": [
    "top_layer = Sequential()\n",
    "top_layer.add(Flatten())\n",
    "top_layer.add(Dense(3, activation = 'softmax'))"
   ]
  },
  {
   "cell_type": "code",
   "execution_count": 287,
   "id": "63b23536",
   "metadata": {},
   "outputs": [],
   "source": [
    "top_layer.compile(loss='sparse_categorical_crossentropy',\n",
    "              optimizer='adam', metrics = ['accuracy']) # precision-recall curve\n"
   ]
  },
  {
   "cell_type": "code",
   "execution_count": 288,
   "id": "5431ceb0",
   "metadata": {},
   "outputs": [],
   "source": [
    "early_stop = EarlyStopping(monitor = 'val_accuracy', min_delta=0, patience = 10, restore_best_weights=True, verbose=1)"
   ]
  },
  {
   "cell_type": "code",
   "execution_count": 290,
   "id": "3f2d58e7",
   "metadata": {},
   "outputs": [
    {
     "name": "stdout",
     "output_type": "stream",
     "text": [
      "Epoch 1/50\n",
      "23/23 [==============================] - 0s 10ms/step - loss: 1.9846 - accuracy: 0.6257 - val_loss: 3.9429 - val_accuracy: 0.3909\n",
      "Epoch 2/50\n",
      "23/23 [==============================] - 0s 8ms/step - loss: 1.1930 - accuracy: 0.7486 - val_loss: 4.5546 - val_accuracy: 0.2864\n",
      "Epoch 3/50\n",
      "23/23 [==============================] - 0s 8ms/step - loss: 0.5472 - accuracy: 0.8494 - val_loss: 3.8138 - val_accuracy: 0.4182\n",
      "Epoch 4/50\n",
      "23/23 [==============================] - 0s 8ms/step - loss: 0.2433 - accuracy: 0.9185 - val_loss: 3.5543 - val_accuracy: 0.3455\n",
      "Epoch 5/50\n",
      "23/23 [==============================] - 0s 8ms/step - loss: 0.1561 - accuracy: 0.9434 - val_loss: 4.2264 - val_accuracy: 0.4000\n",
      "Epoch 6/50\n",
      "23/23 [==============================] - 0s 8ms/step - loss: 0.0300 - accuracy: 0.9890 - val_loss: 3.3030 - val_accuracy: 0.3818\n",
      "Epoch 7/50\n",
      "23/23 [==============================] - 0s 8ms/step - loss: 0.0146 - accuracy: 0.9972 - val_loss: 3.3275 - val_accuracy: 0.3955\n",
      "Epoch 8/50\n",
      "23/23 [==============================] - 0s 8ms/step - loss: 0.0048 - accuracy: 1.0000 - val_loss: 3.2940 - val_accuracy: 0.3773\n",
      "Epoch 9/50\n",
      "23/23 [==============================] - 0s 8ms/step - loss: 0.0021 - accuracy: 1.0000 - val_loss: 3.3444 - val_accuracy: 0.3864\n",
      "Epoch 10/50\n",
      "23/23 [==============================] - 0s 8ms/step - loss: 0.0014 - accuracy: 1.0000 - val_loss: 3.2651 - val_accuracy: 0.4000\n",
      "Epoch 11/50\n",
      "23/23 [==============================] - 0s 8ms/step - loss: 9.4831e-04 - accuracy: 1.0000 - val_loss: 3.2356 - val_accuracy: 0.4045\n",
      "Epoch 12/50\n",
      "23/23 [==============================] - 0s 8ms/step - loss: 9.0446e-04 - accuracy: 1.0000 - val_loss: 3.2176 - val_accuracy: 0.4000\n",
      "Epoch 13/50\n",
      "19/23 [=======================>......] - ETA: 0s - loss: 8.2587e-04 - accuracy: 1.0000Restoring model weights from the end of the best epoch: 3.\n",
      "23/23 [==============================] - 0s 8ms/step - loss: 8.6134e-04 - accuracy: 1.0000 - val_loss: 3.2267 - val_accuracy: 0.4045\n",
      "Epoch 13: early stopping\n"
     ]
    }
   ],
   "source": [
    "hist = top_layer.fit(X_train, y_train, validation_data = (X_test, y_test) ,epochs=50, verbose=1, callbacks = [early_stop])"
   ]
  },
  {
   "cell_type": "code",
   "execution_count": 291,
   "id": "01fe22b2",
   "metadata": {},
   "outputs": [
    {
     "name": "stdout",
     "output_type": "stream",
     "text": [
      "{'verbose': 1, 'epochs': 50, 'steps': 23}\n",
      "dict_keys(['loss', 'accuracy', 'val_loss', 'val_accuracy'])\n"
     ]
    },
    {
     "data": {
      "image/png": "[encoded data removed]",
      "text/plain": [
       "<Figure size 640x480 with 1 Axes>"
      ]
     },
     "metadata": {},
     "output_type": "display_data"
    }
   ],
   "source": [
    "print(hist.params)\n",
    "print(hist.history.keys())\n",
    "plt.plot(hist.history['loss'], label = 'loss')\n",
    "plt.plot(hist.history['val_accuracy'], label = 'accuracy')\n",
    "plt.legend(loc = 'lower right');"
   ]
  },
  {
   "cell_type": "markdown",
   "id": "533366e8",
   "metadata": {},
   "source": [
    "# Prediction"
   ]
  },
  {
   "cell_type": "code",
   "execution_count": 292,
   "id": "b3ee1e0e",
   "metadata": {},
   "outputs": [
    {
     "name": "stdout",
     "output_type": "stream",
     "text": [
      "7/7 [==============================] - 0s 3ms/step\n"
     ]
    }
   ],
   "source": [
    "pred = top_layer.predict(X_test)"
   ]
  },
  {
   "cell_type": "code",
   "execution_count": 293,
   "id": "2dcd2476",
   "metadata": {},
   "outputs": [],
   "source": [
    "pred = pd.DataFrame(pred)"
   ]
  },
  {
   "cell_type": "code",
   "execution_count": 294,
   "id": "bbbea17b",
   "metadata": {},
   "outputs": [
    {
     "data": {
      "text/html": [
       "<div>\n",
       "<style scoped>\n",
       "    .dataframe tbody tr th:only-of-type {\n",
       "        vertical-align: middle;\n",
       "    }\n",
       "\n",
       "    .dataframe tbody tr th {\n",
       "        vertical-align: top;\n",
       "    }\n",
       "\n",
       "    .dataframe thead th {\n",
       "        text-align: right;\n",
       "    }\n",
       "</style>\n",
       "<table border=\"1\" class=\"dataframe\">\n",
       "  <thead>\n",
       "    <tr style=\"text-align: right;\">\n",
       "      <th></th>\n",
       "      <th>0</th>\n",
       "      <th>1</th>\n",
       "      <th>2</th>\n",
       "    </tr>\n",
       "  </thead>\n",
       "  <tbody>\n",
       "    <tr>\n",
       "      <th>0</th>\n",
       "      <td>0.965900</td>\n",
       "      <td>0.029314</td>\n",
       "      <td>4.785421e-03</td>\n",
       "    </tr>\n",
       "    <tr>\n",
       "      <th>1</th>\n",
       "      <td>0.010896</td>\n",
       "      <td>0.409491</td>\n",
       "      <td>5.796126e-01</td>\n",
       "    </tr>\n",
       "    <tr>\n",
       "      <th>2</th>\n",
       "      <td>0.994472</td>\n",
       "      <td>0.005528</td>\n",
       "      <td>1.711059e-08</td>\n",
       "    </tr>\n",
       "    <tr>\n",
       "      <th>3</th>\n",
       "      <td>0.008601</td>\n",
       "      <td>0.983658</td>\n",
       "      <td>7.741389e-03</td>\n",
       "    </tr>\n",
       "    <tr>\n",
       "      <th>4</th>\n",
       "      <td>0.408783</td>\n",
       "      <td>0.051993</td>\n",
       "      <td>5.392233e-01</td>\n",
       "    </tr>\n",
       "    <tr>\n",
       "      <th>...</th>\n",
       "      <td>...</td>\n",
       "      <td>...</td>\n",
       "      <td>...</td>\n",
       "    </tr>\n",
       "    <tr>\n",
       "      <th>215</th>\n",
       "      <td>0.125409</td>\n",
       "      <td>0.869957</td>\n",
       "      <td>4.633423e-03</td>\n",
       "    </tr>\n",
       "    <tr>\n",
       "      <th>216</th>\n",
       "      <td>0.857738</td>\n",
       "      <td>0.134226</td>\n",
       "      <td>8.035735e-03</td>\n",
       "    </tr>\n",
       "    <tr>\n",
       "      <th>217</th>\n",
       "      <td>0.999361</td>\n",
       "      <td>0.000638</td>\n",
       "      <td>8.123582e-07</td>\n",
       "    </tr>\n",
       "    <tr>\n",
       "      <th>218</th>\n",
       "      <td>0.982370</td>\n",
       "      <td>0.017573</td>\n",
       "      <td>5.726310e-05</td>\n",
       "    </tr>\n",
       "    <tr>\n",
       "      <th>219</th>\n",
       "      <td>0.999960</td>\n",
       "      <td>0.000010</td>\n",
       "      <td>2.910864e-05</td>\n",
       "    </tr>\n",
       "  </tbody>\n",
       "</table>\n",
       "<p>220 rows × 3 columns</p>\n",
       "</div>"
      ],
      "text/plain": [
       "            0         1             2\n",
       "0    0.965900  0.029314  4.785421e-03\n",
       "1    0.010896  0.409491  5.796126e-01\n",
       "2    0.994472  0.005528  1.711059e-08\n",
       "3    0.008601  0.983658  7.741389e-03\n",
       "4    0.408783  0.051993  5.392233e-01\n",
       "..        ...       ...           ...\n",
       "215  0.125409  0.869957  4.633423e-03\n",
       "216  0.857738  0.134226  8.035735e-03\n",
       "217  0.999361  0.000638  8.123582e-07\n",
       "218  0.982370  0.017573  5.726310e-05\n",
       "219  0.999960  0.000010  2.910864e-05\n",
       "\n",
       "[220 rows x 3 columns]"
      ]
     },
     "execution_count": 294,
     "metadata": {},
     "output_type": "execute_result"
    }
   ],
   "source": [
    "pred"
   ]
  },
  {
   "cell_type": "code",
   "execution_count": 295,
   "id": "13fb2f84",
   "metadata": {},
   "outputs": [],
   "source": [
    "def return_to_index(row):\n",
    "    return row.idxmax()"
   ]
  },
  {
   "cell_type": "code",
   "execution_count": 296,
   "id": "2eb8a797",
   "metadata": {},
   "outputs": [],
   "source": [
    "pred = pred.apply(return_to_index, axis = 1) #passing each row into function at one time"
   ]
  },
  {
   "cell_type": "code",
   "execution_count": 297,
   "id": "2b432756",
   "metadata": {},
   "outputs": [
    {
     "data": {
      "text/plain": [
       "0.4727272727272727"
      ]
     },
     "execution_count": 297,
     "metadata": {},
     "output_type": "execute_result"
    }
   ],
   "source": [
    "(y_test == 0).mean()"
   ]
  },
  {
   "cell_type": "code",
   "execution_count": 298,
   "id": "a57aaa35",
   "metadata": {},
   "outputs": [
    {
     "data": {
      "text/plain": [
       "0.38181818181818183"
      ]
     },
     "execution_count": 298,
     "metadata": {},
     "output_type": "execute_result"
    }
   ],
   "source": [
    "(y_test == 1).mean()"
   ]
  },
  {
   "cell_type": "code",
   "execution_count": 299,
   "id": "751a52d8",
   "metadata": {},
   "outputs": [
    {
     "data": {
      "text/plain": [
       "0.14545454545454545"
      ]
     },
     "execution_count": 299,
     "metadata": {},
     "output_type": "execute_result"
    }
   ],
   "source": [
    "(y_test == 2).mean()"
   ]
  },
  {
   "cell_type": "code",
   "execution_count": 300,
   "id": "01d8eb08",
   "metadata": {},
   "outputs": [],
   "source": [
    "from sklearn.metrics import balanced_accuracy_score, ConfusionMatrixDisplay\n",
    "import matplotlib.pyplot as plt\n",
    "import numpy\n",
    "from sklearn import metrics\n",
    "from sklearn.metrics import ConfusionMatrixDisplay"
   ]
  },
  {
   "cell_type": "code",
   "execution_count": 301,
   "id": "0f40784b",
   "metadata": {},
   "outputs": [
    {
     "data": {
      "text/plain": [
       "<sklearn.metrics._plot.confusion_matrix.ConfusionMatrixDisplay at 0x7f8017f7fca0>"
      ]
     },
     "execution_count": 301,
     "metadata": {},
     "output_type": "execute_result"
    },
    {
     "data": {
      "image/png": "[encoded data removed]",
      "text/plain": [
       "<Figure size 640x480 with 2 Axes>"
      ]
     },
     "metadata": {},
     "output_type": "display_data"
    }
   ],
   "source": [
    "confusion_matrix = metrics.confusion_matrix(y_test, pred)\n",
    "cm_display = metrics.ConfusionMatrixDisplay(confusion_matrix = confusion_matrix)\n",
    "cm_display.plot()"
   ]
  },
  {
   "cell_type": "markdown",
   "id": "2dfabcf5",
   "metadata": {},
   "source": [
    "# 2. Tesing Out Prebuilt Networks -  Xception as convolution base"
   ]
  },
  {
   "cell_type": "code",
   "execution_count": 276,
   "id": "7ed91902",
   "metadata": {},
   "outputs": [
    {
     "name": "stdout",
     "output_type": "stream",
     "text": [
      "You must install pydot (`pip install pydot`) and install graphviz (see instructions at https://graphviz.gitlab.io/download/) for plot_model to work.\n"
     ]
    }
   ],
   "source": [
    "# 2. Tesing Out Prebuilt Networks -  Xception as convolution base\n",
    "from keras.applications import Xception\n",
    "conv_base = Xception(include_top = False, input_shape = (1424, 2144, 3), weights = 'imagenet')\n",
    "from keras.utils import plot_model\n",
    "plot_model(conv_base)"
   ]
  },
  {
   "cell_type": "markdown",
   "id": "b2a0f364",
   "metadata": {},
   "source": [
    "# Putting Xception to work\n"
   ]
  },
  {
   "cell_type": "code",
   "execution_count": 277,
   "id": "09890fb0",
   "metadata": {},
   "outputs": [],
   "source": [
    "from keras.layers import GlobalAveragePooling2D\n",
    "from tensorflow.keras.layers import Conv2D\n",
    "from keras.utils import to_categorical\n",
    "from keras import metrics"
   ]
  },
  {
   "cell_type": "code",
   "execution_count": 278,
   "id": "edfe2985",
   "metadata": {},
   "outputs": [],
   "source": [
    "top_layer = Sequential()\n",
    "top_layer.add(Dense(100, activation = 'relu'))\n",
    "top_layer.add(Dropout(0.2))\n",
    "top_layer.add(Dense(100, activation = 'relu'))\n",
    "top_layer.add(Dense(100, activation = 'relu'))\n",
    "top_layer.add(Dense(100, activation = 'relu'))\n",
    "top_layer.add(Dense(100, activation = 'relu'))\n",
    "top_layer.add(Dense(100, activation = 'relu'))\n",
    "top_layer.add(Dense(100, activation = 'relu'))\n",
    "top_layer.add(Flatten())\n",
    "top_layer.add(Dense(512,activation=\"relu\"))\n",
    "top_layer.add(Dense(3, activation = 'softmax'))"
   ]
  },
  {
   "cell_type": "code",
   "execution_count": 279,
   "id": "3162f307",
   "metadata": {},
   "outputs": [],
   "source": [
    "top_layer.compile(loss='sparse_categorical_crossentropy',\n",
    "              optimizer='adam', metrics = ['accuracy']) # precision-recall curve\n"
   ]
  },
  {
   "cell_type": "code",
   "execution_count": 280,
   "id": "0d1eee9c",
   "metadata": {},
   "outputs": [],
   "source": [
    "early_stop = EarlyStopping(monitor = 'val_accuracy', min_delta=0, patience = 10, restore_best_weights=True, verbose=1)"
   ]
  },
  {
   "cell_type": "code",
   "execution_count": 281,
   "id": "ee422675",
   "metadata": {},
   "outputs": [
    {
     "name": "stdout",
     "output_type": "stream",
     "text": [
      "Epoch 1/50\n",
      "23/23 [==============================] - 3s 56ms/step - loss: 1.0535 - accuracy: 0.4323 - val_loss: 1.0127 - val_accuracy: 0.4727\n",
      "Epoch 2/50\n",
      "23/23 [==============================] - 1s 39ms/step - loss: 1.0325 - accuracy: 0.4599 - val_loss: 1.0301 - val_accuracy: 0.3818\n",
      "Epoch 3/50\n",
      "23/23 [==============================] - 1s 40ms/step - loss: 1.0241 - accuracy: 0.4641 - val_loss: 1.0161 - val_accuracy: 0.4727\n",
      "Epoch 4/50\n",
      "23/23 [==============================] - 1s 39ms/step - loss: 1.0387 - accuracy: 0.4544 - val_loss: 1.0204 - val_accuracy: 0.4727\n",
      "Epoch 5/50\n",
      "23/23 [==============================] - 1s 39ms/step - loss: 1.0427 - accuracy: 0.4710 - val_loss: 1.0224 - val_accuracy: 0.4636\n",
      "Epoch 6/50\n",
      "23/23 [==============================] - 1s 40ms/step - loss: 1.0094 - accuracy: 0.4779 - val_loss: 1.0212 - val_accuracy: 0.5091\n",
      "Epoch 7/50\n",
      "23/23 [==============================] - 1s 39ms/step - loss: 0.9974 - accuracy: 0.5000 - val_loss: 1.0231 - val_accuracy: 0.4773\n",
      "Epoch 8/50\n",
      "23/23 [==============================] - 1s 40ms/step - loss: 0.9693 - accuracy: 0.4972 - val_loss: 1.0513 - val_accuracy: 0.4273\n",
      "Epoch 9/50\n",
      "23/23 [==============================] - 1s 40ms/step - loss: 0.9656 - accuracy: 0.5083 - val_loss: 1.0602 - val_accuracy: 0.4636\n",
      "Epoch 10/50\n",
      "23/23 [==============================] - 1s 39ms/step - loss: 0.9026 - accuracy: 0.5622 - val_loss: 1.0576 - val_accuracy: 0.4591\n",
      "Epoch 11/50\n",
      "23/23 [==============================] - 1s 40ms/step - loss: 0.7963 - accuracy: 0.6285 - val_loss: 1.3449 - val_accuracy: 0.4318\n",
      "Epoch 12/50\n",
      "23/23 [==============================] - 1s 40ms/step - loss: 0.7122 - accuracy: 0.6920 - val_loss: 1.2582 - val_accuracy: 0.3955\n",
      "Epoch 13/50\n",
      "23/23 [==============================] - 1s 39ms/step - loss: 0.5720 - accuracy: 0.7528 - val_loss: 1.7633 - val_accuracy: 0.4045\n",
      "Epoch 14/50\n",
      "23/23 [==============================] - 1s 39ms/step - loss: 0.4307 - accuracy: 0.8191 - val_loss: 1.9622 - val_accuracy: 0.4500\n",
      "Epoch 15/50\n",
      "23/23 [==============================] - 1s 40ms/step - loss: 0.3359 - accuracy: 0.8826 - val_loss: 2.5265 - val_accuracy: 0.3864\n",
      "Epoch 16/50\n",
      "23/23 [==============================] - ETA: 0s - loss: 0.1879 - accuracy: 0.9406Restoring model weights from the end of the best epoch: 6.\n",
      "23/23 [==============================] - 1s 40ms/step - loss: 0.1879 - accuracy: 0.9406 - val_loss: 2.6932 - val_accuracy: 0.4273\n",
      "Epoch 16: early stopping\n"
     ]
    }
   ],
   "source": [
    "hist = top_layer.fit(X_train, y_train, validation_data = (X_test, y_test) ,epochs=50, verbose=1, callbacks = [early_stop])"
   ]
  },
  {
   "cell_type": "code",
   "execution_count": 302,
   "id": "0aaaecd2",
   "metadata": {},
   "outputs": [
    {
     "name": "stdout",
     "output_type": "stream",
     "text": [
      "{'verbose': 1, 'epochs': 50, 'steps': 23}\n",
      "dict_keys(['loss', 'accuracy', 'val_loss', 'val_accuracy'])\n"
     ]
    },
    {
     "data": {
      "image/png": "[encoded data removed]",
      "text/plain": [
       "<Figure size 640x480 with 1 Axes>"
      ]
     },
     "metadata": {},
     "output_type": "display_data"
    }
   ],
   "source": [
    "print(hist.params)\n",
    "print(hist.history.keys())\n",
    "plt.plot(hist.history['loss'], label = 'loss')\n",
    "plt.plot(hist.history['val_accuracy'], label = 'accuracy')\n",
    "plt.legend(loc = 'lower right');"
   ]
  },
  {
   "cell_type": "markdown",
   "id": "c8df6d0c",
   "metadata": {},
   "source": [
    "# Prediction"
   ]
  },
  {
   "cell_type": "code",
   "execution_count": 303,
   "id": "5cd485f2",
   "metadata": {},
   "outputs": [
    {
     "name": "stdout",
     "output_type": "stream",
     "text": [
      "7/7 [==============================] - 0s 3ms/step\n"
     ]
    }
   ],
   "source": [
    "pred = top_layer.predict(X_test)"
   ]
  },
  {
   "cell_type": "code",
   "execution_count": 304,
   "id": "44fababe",
   "metadata": {},
   "outputs": [],
   "source": [
    "pred = pd.DataFrame(pred)"
   ]
  },
  {
   "cell_type": "code",
   "execution_count": 305,
   "id": "ea65a602",
   "metadata": {},
   "outputs": [],
   "source": [
    "def return_to_index(row):\n",
    "    return row.idxmax()"
   ]
  },
  {
   "cell_type": "code",
   "execution_count": 306,
   "id": "9cd9b348",
   "metadata": {},
   "outputs": [],
   "source": [
    "pred = pred.apply(return_to_index, axis = 1) #passing each row into function at one time"
   ]
  },
  {
   "cell_type": "code",
   "execution_count": null,
   "id": "dfef0490",
   "metadata": {},
   "outputs": [],
   "source": []
  },
  {
   "cell_type": "code",
   "execution_count": 307,
   "id": "c88588f3",
   "metadata": {},
   "outputs": [],
   "source": [
    "from sklearn.metrics import balanced_accuracy_score, ConfusionMatrixDisplay\n",
    "import matplotlib.pyplot as plt\n",
    "import numpy\n",
    "from sklearn import metrics\n",
    "from sklearn.metrics import ConfusionMatrixDisplay"
   ]
  },
  {
   "cell_type": "code",
   "execution_count": null,
   "id": "49cf6fb2",
   "metadata": {},
   "outputs": [],
   "source": []
  },
  {
   "cell_type": "code",
   "execution_count": 308,
   "id": "932559b6",
   "metadata": {},
   "outputs": [
    {
     "data": {
      "text/plain": [
       "<sklearn.metrics._plot.confusion_matrix.ConfusionMatrixDisplay at 0x7f8017c99d00>"
      ]
     },
     "execution_count": 308,
     "metadata": {},
     "output_type": "execute_result"
    },
    {
     "data": {
      "image/png": "[encoded data removed]",
      "text/plain": [
       "<Figure size 640x480 with 2 Axes>"
      ]
     },
     "metadata": {},
     "output_type": "display_data"
    }
   ],
   "source": [
    "confusion_matrix = metrics.confusion_matrix(y_test, pred)\n",
    "cm_display = metrics.ConfusionMatrixDisplay(confusion_matrix = confusion_matrix)\n",
    "cm_display.plot()"
   ]
  },
  {
   "cell_type": "markdown",
   "id": "d364fb31",
   "metadata": {},
   "source": [
    "# 3. Tesing Out Prebuilt Networks -  VGG16 as convolution base\n"
   ]
  },
  {
   "cell_type": "code",
   "execution_count": 309,
   "id": "63dd1838",
   "metadata": {},
   "outputs": [
    {
     "name": "stdout",
     "output_type": "stream",
     "text": [
      "You must install pydot (`pip install pydot`) and install graphviz (see instructions at https://graphviz.gitlab.io/download/) for plot_model to work.\n"
     ]
    }
   ],
   "source": [
    "from keras.applications import VGG16\n",
    "conv_base = VGG16(include_top = False, input_shape = (1424, 2144, 3), weights = 'imagenet')\n",
    "from keras.utils import plot_model\n",
    "plot_model(conv_base)"
   ]
  },
  {
   "cell_type": "code",
   "execution_count": 310,
   "id": "dcec30e1",
   "metadata": {},
   "outputs": [],
   "source": [
    "# Putting VGG16 to work"
   ]
  },
  {
   "cell_type": "code",
   "execution_count": 311,
   "id": "ea0e53da",
   "metadata": {},
   "outputs": [],
   "source": [
    "from keras.layers import GlobalAveragePooling2D\n",
    "from tensorflow.keras.layers import Conv2D\n",
    "from keras.utils import to_categorical\n",
    "from keras import metrics"
   ]
  },
  {
   "cell_type": "code",
   "execution_count": 312,
   "id": "90312337",
   "metadata": {},
   "outputs": [],
   "source": [
    "top_layer = Sequential()\n",
    "top_layer.add(Dense(100, activation = 'relu'))\n",
    "top_layer.add(Dropout(0.2))\n",
    "top_layer.add(Dense(100, activation = 'relu'))\n",
    "top_layer.add(Flatten())\n",
    "top_layer.add(Dense(512,activation=\"relu\"))\n",
    "top_layer.add(Dense(3, activation = 'softmax'))"
   ]
  },
  {
   "cell_type": "code",
   "execution_count": 313,
   "id": "8befea89",
   "metadata": {},
   "outputs": [],
   "source": [
    "top_layer.compile(loss='sparse_categorical_crossentropy',\n",
    "              optimizer='adam', metrics = ['accuracy']) # precision-recall curve\n"
   ]
  },
  {
   "cell_type": "code",
   "execution_count": 314,
   "id": "d53fd133",
   "metadata": {},
   "outputs": [],
   "source": [
    "early_stop = EarlyStopping(monitor = 'val_accuracy', min_delta=0, patience = 10, restore_best_weights=True, verbose=1)"
   ]
  },
  {
   "cell_type": "code",
   "execution_count": 315,
   "id": "b2907475",
   "metadata": {},
   "outputs": [
    {
     "name": "stdout",
     "output_type": "stream",
     "text": [
      "Epoch 1/20\n",
      "23/23 [==============================] - 2s 46ms/step - loss: 1.6458 - accuracy: 0.4033 - val_loss: 1.0135 - val_accuracy: 0.4318\n",
      "Epoch 2/20\n",
      "23/23 [==============================] - 1s 35ms/step - loss: 1.0300 - accuracy: 0.4793 - val_loss: 1.0276 - val_accuracy: 0.3818\n",
      "Epoch 3/20\n",
      "23/23 [==============================] - 1s 36ms/step - loss: 1.0076 - accuracy: 0.4710 - val_loss: 1.0415 - val_accuracy: 0.3909\n",
      "Epoch 4/20\n",
      "23/23 [==============================] - 1s 36ms/step - loss: 0.9911 - accuracy: 0.4986 - val_loss: 1.0231 - val_accuracy: 0.4545\n",
      "Epoch 5/20\n",
      "23/23 [==============================] - 1s 36ms/step - loss: 0.9526 - accuracy: 0.5083 - val_loss: 1.0569 - val_accuracy: 0.3773\n",
      "Epoch 6/20\n",
      "23/23 [==============================] - 1s 36ms/step - loss: 0.8916 - accuracy: 0.5442 - val_loss: 1.0315 - val_accuracy: 0.4455\n",
      "Epoch 7/20\n",
      "23/23 [==============================] - 1s 35ms/step - loss: 0.8047 - accuracy: 0.6160 - val_loss: 1.1663 - val_accuracy: 0.3591\n",
      "Epoch 8/20\n",
      "23/23 [==============================] - 1s 36ms/step - loss: 0.6798 - accuracy: 0.6809 - val_loss: 1.2940 - val_accuracy: 0.4045\n",
      "Epoch 9/20\n",
      "23/23 [==============================] - 1s 35ms/step - loss: 0.5272 - accuracy: 0.7666 - val_loss: 1.4472 - val_accuracy: 0.3773\n",
      "Epoch 10/20\n",
      "23/23 [==============================] - 1s 35ms/step - loss: 0.4738 - accuracy: 0.7901 - val_loss: 1.5043 - val_accuracy: 0.3909\n",
      "Epoch 11/20\n",
      "23/23 [==============================] - 1s 36ms/step - loss: 0.3423 - accuracy: 0.8536 - val_loss: 1.5461 - val_accuracy: 0.3773\n",
      "Epoch 12/20\n",
      "23/23 [==============================] - 1s 36ms/step - loss: 0.2645 - accuracy: 0.9061 - val_loss: 1.8273 - val_accuracy: 0.3409\n",
      "Epoch 13/20\n",
      "23/23 [==============================] - 1s 36ms/step - loss: 0.2640 - accuracy: 0.8992 - val_loss: 2.0375 - val_accuracy: 0.3455\n",
      "Epoch 14/20\n",
      "23/23 [==============================] - ETA: 0s - loss: 0.1743 - accuracy: 0.9365Restoring model weights from the end of the best epoch: 4.\n",
      "23/23 [==============================] - 1s 36ms/step - loss: 0.1743 - accuracy: 0.9365 - val_loss: 2.1171 - val_accuracy: 0.3500\n",
      "Epoch 14: early stopping\n"
     ]
    }
   ],
   "source": [
    "hist = top_layer.fit(X_train, y_train, validation_data = (X_test, y_test) ,epochs=50, verbose=1, callbacks = [early_stop])"
   ]
  },
  {
   "cell_type": "code",
   "execution_count": 316,
   "id": "c1ee4304",
   "metadata": {},
   "outputs": [
    {
     "name": "stdout",
     "output_type": "stream",
     "text": [
      "{'verbose': 1, 'epochs': 20, 'steps': 23}\n",
      "dict_keys(['loss', 'accuracy', 'val_loss', 'val_accuracy'])\n"
     ]
    },
    {
     "data": {
      "image/png": "[encoded data removed]",
      "text/plain": [
       "<Figure size 640x480 with 1 Axes>"
      ]
     },
     "metadata": {},
     "output_type": "display_data"
    }
   ],
   "source": [
    "print(hist.params)\n",
    "print(hist.history.keys())\n",
    "plt.plot(hist.history['loss'], label = 'loss')\n",
    "plt.plot(hist.history['val_accuracy'], label = 'accuracy')\n",
    "plt.legend(loc = 'lower right');"
   ]
  },
  {
   "cell_type": "markdown",
   "id": "52cf07f8",
   "metadata": {},
   "source": [
    "# Prediction"
   ]
  },
  {
   "cell_type": "code",
   "execution_count": 317,
   "id": "f0b5e358",
   "metadata": {},
   "outputs": [
    {
     "name": "stdout",
     "output_type": "stream",
     "text": [
      "7/7 [==============================] - 0s 7ms/step\n"
     ]
    }
   ],
   "source": [
    "pred = top_layer.predict(X_test)"
   ]
  },
  {
   "cell_type": "code",
   "execution_count": 318,
   "id": "bb736c37",
   "metadata": {},
   "outputs": [],
   "source": [
    "pred = pd.DataFrame(pred)"
   ]
  },
  {
   "cell_type": "code",
   "execution_count": 319,
   "id": "ac0b3180",
   "metadata": {},
   "outputs": [],
   "source": [
    "def return_to_index(row):\n",
    "    return row.idxmax()"
   ]
  },
  {
   "cell_type": "code",
   "execution_count": 320,
   "id": "537e71ec",
   "metadata": {},
   "outputs": [],
   "source": [
    "pred = pred.apply(return_to_index, axis = 1) #passing each row into function at one time"
   ]
  },
  {
   "cell_type": "code",
   "execution_count": null,
   "id": "da881cf8",
   "metadata": {},
   "outputs": [],
   "source": []
  },
  {
   "cell_type": "code",
   "execution_count": 321,
   "id": "876bba82",
   "metadata": {},
   "outputs": [],
   "source": [
    "from sklearn.metrics import balanced_accuracy_score, ConfusionMatrixDisplay\n",
    "import matplotlib.pyplot as plt\n",
    "import numpy\n",
    "from sklearn import metrics\n",
    "from sklearn.metrics import ConfusionMatrixDisplay"
   ]
  },
  {
   "cell_type": "code",
   "execution_count": 322,
   "id": "81669b14",
   "metadata": {},
   "outputs": [
    {
     "data": {
      "text/plain": [
       "<sklearn.metrics._plot.confusion_matrix.ConfusionMatrixDisplay at 0x7f80233dcb20>"
      ]
     },
     "execution_count": 322,
     "metadata": {},
     "output_type": "execute_result"
    },
    {
     "data": {
      "image/png": "[encoded data removed]",
      "text/plain": [
       "<Figure size 640x480 with 2 Axes>"
      ]
     },
     "metadata": {},
     "output_type": "display_data"
    }
   ],
   "source": [
    "confusion_matrix = metrics.confusion_matrix(y_test, pred)\n",
    "cm_display = metrics.ConfusionMatrixDisplay(confusion_matrix = confusion_matrix)\n",
    "cm_display.plot()"
   ]
  },
  {
   "cell_type": "markdown",
   "id": "81e438ce",
   "metadata": {},
   "source": [
    "# 4. Tesing Out Prebuilt Networks -  MobileNetV2 as convolution base"
   ]
  },
  {
   "cell_type": "code",
   "execution_count": 323,
   "id": "01831930",
   "metadata": {},
   "outputs": [
    {
     "name": "stdout",
     "output_type": "stream",
     "text": [
      "WARNING:tensorflow:`input_shape` is undefined or non-square, or `rows` is not in [96, 128, 160, 192, 224]. Weights for input shape (224, 224) will be loaded as the default.\n",
      "You must install pydot (`pip install pydot`) and install graphviz (see instructions at https://graphviz.gitlab.io/download/) for plot_model to work.\n"
     ]
    }
   ],
   "source": [
    "\n",
    "from keras.applications import MobileNetV2\n",
    "conv_base = MobileNetV2(include_top = False, input_shape = (1424, 2144, 3), weights = 'imagenet')\n",
    "from keras.utils import plot_model\n",
    "plot_model(conv_base)"
   ]
  },
  {
   "cell_type": "markdown",
   "id": "19675ae0",
   "metadata": {},
   "source": [
    "# Putting MobileNetV2 to work"
   ]
  },
  {
   "cell_type": "code",
   "execution_count": 324,
   "id": "69ffcc45",
   "metadata": {},
   "outputs": [],
   "source": [
    "from keras.layers import GlobalAveragePooling2D\n",
    "from tensorflow.keras.layers import Conv2D\n",
    "from keras.utils import to_categorical"
   ]
  },
  {
   "cell_type": "code",
   "execution_count": 325,
   "id": "98a56a83",
   "metadata": {},
   "outputs": [],
   "source": [
    "top_layer = Sequential()\n",
    "top_layer.add(Dense(100, activation = 'relu'))\n",
    "top_layer.add(Dropout(0.2))\n",
    "top_layer.add(Dense(100, activation = 'relu'))\n",
    "top_layer.add(Flatten())\n",
    "top_layer.add(Dense(512,activation=\"relu\"))\n",
    "top_layer.add(Dense(3, activation = 'softmax'))"
   ]
  },
  {
   "cell_type": "code",
   "execution_count": 326,
   "id": "35bc5989",
   "metadata": {},
   "outputs": [],
   "source": [
    "top_layer.compile(loss='sparse_categorical_crossentropy',\n",
    "              optimizer='adam', metrics = ['accuracy']) # precision-recall curve\n"
   ]
  },
  {
   "cell_type": "code",
   "execution_count": 327,
   "id": "9878bbba",
   "metadata": {},
   "outputs": [],
   "source": [
    "early_stop = EarlyStopping(monitor = 'val_accuracy', min_delta=0, patience = 10, restore_best_weights=True, verbose=1)"
   ]
  },
  {
   "cell_type": "code",
   "execution_count": 328,
   "id": "67b78ec2",
   "metadata": {},
   "outputs": [
    {
     "name": "stdout",
     "output_type": "stream",
     "text": [
      "Epoch 1/50\n",
      "23/23 [==============================] - 2s 46ms/step - loss: 1.2345 - accuracy: 0.4351 - val_loss: 1.0573 - val_accuracy: 0.3955\n",
      "Epoch 2/50\n",
      "23/23 [==============================] - 1s 36ms/step - loss: 1.0036 - accuracy: 0.4917 - val_loss: 1.0591 - val_accuracy: 0.3591\n",
      "Epoch 3/50\n",
      "23/23 [==============================] - 1s 36ms/step - loss: 1.0040 - accuracy: 0.4848 - val_loss: 1.1059 - val_accuracy: 0.3773\n",
      "Epoch 4/50\n",
      "23/23 [==============================] - 1s 36ms/step - loss: 0.9773 - accuracy: 0.5028 - val_loss: 1.0678 - val_accuracy: 0.3955\n",
      "Epoch 5/50\n",
      "23/23 [==============================] - 1s 36ms/step - loss: 0.9144 - accuracy: 0.5787 - val_loss: 1.0718 - val_accuracy: 0.4045\n",
      "Epoch 6/50\n",
      "23/23 [==============================] - 1s 36ms/step - loss: 0.7960 - accuracy: 0.6616 - val_loss: 1.2641 - val_accuracy: 0.3545\n",
      "Epoch 7/50\n",
      "23/23 [==============================] - 1s 36ms/step - loss: 0.6574 - accuracy: 0.7362 - val_loss: 1.3581 - val_accuracy: 0.4364\n",
      "Epoch 8/50\n",
      "23/23 [==============================] - 1s 36ms/step - loss: 0.5983 - accuracy: 0.7403 - val_loss: 1.5778 - val_accuracy: 0.3136\n",
      "Epoch 9/50\n",
      "23/23 [==============================] - 1s 36ms/step - loss: 0.3807 - accuracy: 0.8660 - val_loss: 1.6405 - val_accuracy: 0.3364\n",
      "Epoch 10/50\n",
      "23/23 [==============================] - 1s 36ms/step - loss: 0.2484 - accuracy: 0.9075 - val_loss: 1.6843 - val_accuracy: 0.3455\n",
      "Epoch 11/50\n",
      "23/23 [==============================] - 1s 36ms/step - loss: 0.1742 - accuracy: 0.9475 - val_loss: 2.0926 - val_accuracy: 0.3091\n",
      "Epoch 12/50\n",
      "23/23 [==============================] - 1s 36ms/step - loss: 0.1784 - accuracy: 0.9309 - val_loss: 2.2240 - val_accuracy: 0.3273\n",
      "Epoch 13/50\n",
      "23/23 [==============================] - 1s 36ms/step - loss: 0.1499 - accuracy: 0.9503 - val_loss: 2.2780 - val_accuracy: 0.3727\n",
      "Epoch 14/50\n",
      "23/23 [==============================] - 1s 36ms/step - loss: 0.1587 - accuracy: 0.9448 - val_loss: 2.3690 - val_accuracy: 0.3136\n",
      "Epoch 15/50\n",
      "23/23 [==============================] - 1s 36ms/step - loss: 0.0949 - accuracy: 0.9696 - val_loss: 2.2722 - val_accuracy: 0.3591\n",
      "Epoch 16/50\n",
      "23/23 [==============================] - 1s 36ms/step - loss: 0.0911 - accuracy: 0.9724 - val_loss: 2.5531 - val_accuracy: 0.3045\n",
      "Epoch 17/50\n",
      "23/23 [==============================] - ETA: 0s - loss: 0.0699 - accuracy: 0.9738Restoring model weights from the end of the best epoch: 7.\n",
      "23/23 [==============================] - 1s 36ms/step - loss: 0.0699 - accuracy: 0.9738 - val_loss: 2.7764 - val_accuracy: 0.3636\n",
      "Epoch 17: early stopping\n"
     ]
    }
   ],
   "source": [
    "hist = top_layer.fit(X_train, y_train, validation_data = (X_test, y_test) ,epochs=50, verbose=1, callbacks = [early_stop])"
   ]
  },
  {
   "cell_type": "code",
   "execution_count": 329,
   "id": "9806a4ec",
   "metadata": {},
   "outputs": [
    {
     "name": "stdout",
     "output_type": "stream",
     "text": [
      "{'verbose': 1, 'epochs': 50, 'steps': 23}\n",
      "dict_keys(['loss', 'accuracy', 'val_loss', 'val_accuracy'])\n"
     ]
    },
    {
     "data": {
      "image/png": "[encoded data removed]",
      "text/plain": [
       "<Figure size 640x480 with 1 Axes>"
      ]
     },
     "metadata": {},
     "output_type": "display_data"
    }
   ],
   "source": [
    "print(hist.params)\n",
    "print(hist.history.keys())\n",
    "plt.plot(hist.history['loss'], label = 'loss')\n",
    "plt.plot(hist.history['val_accuracy'], label = 'accuracy')\n",
    "plt.legend(loc = 'lower right');"
   ]
  },
  {
   "cell_type": "markdown",
   "id": "482feb04",
   "metadata": {},
   "source": [
    "# Prediction"
   ]
  },
  {
   "cell_type": "code",
   "execution_count": 331,
   "id": "09dfcfde",
   "metadata": {},
   "outputs": [
    {
     "name": "stdout",
     "output_type": "stream",
     "text": [
      "7/7 [==============================] - 0s 8ms/step\n"
     ]
    }
   ],
   "source": [
    "pred = top_layer.predict(X_test)"
   ]
  },
  {
   "cell_type": "code",
   "execution_count": 332,
   "id": "23c87124",
   "metadata": {},
   "outputs": [],
   "source": [
    "pred = pd.DataFrame(pred)"
   ]
  },
  {
   "cell_type": "code",
   "execution_count": 333,
   "id": "a582789b",
   "metadata": {},
   "outputs": [],
   "source": [
    "def return_to_index(row):\n",
    "    return row.idxmax()"
   ]
  },
  {
   "cell_type": "code",
   "execution_count": 334,
   "id": "ca4230fb",
   "metadata": {},
   "outputs": [],
   "source": [
    "pred = pred.apply(return_to_index, axis = 1) #passing each row into function at one time"
   ]
  },
  {
   "cell_type": "code",
   "execution_count": 335,
   "id": "04a4c925",
   "metadata": {},
   "outputs": [],
   "source": [
    "from sklearn.metrics import balanced_accuracy_score, ConfusionMatrixDisplay\n",
    "import matplotlib.pyplot as plt\n",
    "import numpy\n",
    "from sklearn import metrics\n",
    "from sklearn.metrics import ConfusionMatrixDisplay"
   ]
  },
  {
   "cell_type": "code",
   "execution_count": 336,
   "id": "cf22ecde",
   "metadata": {},
   "outputs": [
    {
     "data": {
      "text/plain": [
       "<sklearn.metrics._plot.confusion_matrix.ConfusionMatrixDisplay at 0x7f807ab7f190>"
      ]
     },
     "execution_count": 336,
     "metadata": {},
     "output_type": "execute_result"
    },
    {
     "data": {
      "image/png": "[encoded data removed]",
      "text/plain": [
       "<Figure size 640x480 with 2 Axes>"
      ]
     },
     "metadata": {},
     "output_type": "display_data"
    }
   ],
   "source": [
    "confusion_matrix = metrics.confusion_matrix(y_test, y_pred)\n",
    "cm_display = metrics.ConfusionMatrixDisplay(confusion_matrix = confusion_matrix)\n",
    "cm_display.plot()"
   ]
  },
  {
   "cell_type": "markdown",
   "id": "25f26cea",
   "metadata": {},
   "source": [
    "# 4. Tesing Out Prebuilt Networks -  EfficientNetB5 as convolution base\n"
   ]
  },
  {
   "cell_type": "code",
   "execution_count": 337,
   "id": "8dc172b6",
   "metadata": {},
   "outputs": [],
   "source": [
    "from keras.applications import EfficientNetB5"
   ]
  },
  {
   "cell_type": "code",
   "execution_count": 338,
   "id": "d45c4e55",
   "metadata": {},
   "outputs": [],
   "source": [
    "conv_base = EfficientNetB5(include_top = False, input_shape = (150, 150, 3))"
   ]
  },
  {
   "cell_type": "code",
   "execution_count": 339,
   "id": "5a1f7656",
   "metadata": {},
   "outputs": [],
   "source": [
    "from keras.utils import plot_model"
   ]
  },
  {
   "cell_type": "code",
   "execution_count": 340,
   "id": "6cd3db8c",
   "metadata": {},
   "outputs": [
    {
     "name": "stdout",
     "output_type": "stream",
     "text": [
      "You must install pydot (`pip install pydot`) and install graphviz (see instructions at https://graphviz.gitlab.io/download/) for plot_model to work.\n"
     ]
    }
   ],
   "source": [
    "plot_model(conv_base)"
   ]
  },
  {
   "cell_type": "code",
   "execution_count": 341,
   "id": "9bea6363",
   "metadata": {},
   "outputs": [],
   "source": [
    "# Putting EfficientNetB5 to work"
   ]
  },
  {
   "cell_type": "code",
   "execution_count": 342,
   "id": "443ec706",
   "metadata": {},
   "outputs": [],
   "source": [
    "from keras.layers import GlobalAveragePooling2D\n",
    "from tensorflow.keras.layers import Conv2D\n",
    "from keras.utils import to_categorical"
   ]
  },
  {
   "cell_type": "code",
   "execution_count": 343,
   "id": "4d4b213e",
   "metadata": {},
   "outputs": [],
   "source": [
    "top_layer = Sequential()\n",
    "top_layer.add(Dense(100, activation = 'relu'))\n",
    "top_layer.add(Dropout(0.2))\n",
    "top_layer.add(Dense(100, activation = 'relu'))\n",
    "top_layer.add(Flatten())\n",
    "top_layer.add(Dense(512,activation=\"relu\"))\n",
    "top_layer.add(Dense(3, activation = 'softmax'))"
   ]
  },
  {
   "cell_type": "code",
   "execution_count": 344,
   "id": "ab730d4f",
   "metadata": {},
   "outputs": [],
   "source": [
    "top_layer.compile(loss='sparse_categorical_crossentropy',\n",
    "              optimizer='adam', metrics = ['accuracy']) # precision-recall curve\n"
   ]
  },
  {
   "cell_type": "code",
   "execution_count": 345,
   "id": "77a7fb25",
   "metadata": {},
   "outputs": [],
   "source": [
    "early_stop = EarlyStopping(monitor = 'val_accuracy', min_delta=0, patience = 10, restore_best_weights=True, verbose=1)"
   ]
  },
  {
   "cell_type": "code",
   "execution_count": 346,
   "id": "f8d54bf3",
   "metadata": {},
   "outputs": [
    {
     "name": "stdout",
     "output_type": "stream",
     "text": [
      "Epoch 1/30\n",
      "23/23 [==============================] - 2s 44ms/step - loss: 1.3636 - accuracy: 0.4075 - val_loss: 1.0433 - val_accuracy: 0.3864\n",
      "Epoch 2/30\n",
      "23/23 [==============================] - 1s 35ms/step - loss: 1.0214 - accuracy: 0.4461 - val_loss: 1.0363 - val_accuracy: 0.3773\n",
      "Epoch 3/30\n",
      "23/23 [==============================] - 1s 35ms/step - loss: 1.0116 - accuracy: 0.4834 - val_loss: 1.0362 - val_accuracy: 0.3818\n",
      "Epoch 4/30\n",
      "23/23 [==============================] - 1s 35ms/step - loss: 0.9867 - accuracy: 0.5138 - val_loss: 1.0406 - val_accuracy: 0.4182\n",
      "Epoch 5/30\n",
      "23/23 [==============================] - 1s 35ms/step - loss: 0.9399 - accuracy: 0.5718 - val_loss: 1.0472 - val_accuracy: 0.4227\n",
      "Epoch 6/30\n",
      "23/23 [==============================] - 1s 35ms/step - loss: 0.8565 - accuracy: 0.6036 - val_loss: 1.0777 - val_accuracy: 0.4091\n",
      "Epoch 7/30\n",
      "23/23 [==============================] - 1s 35ms/step - loss: 0.7554 - accuracy: 0.6685 - val_loss: 1.2772 - val_accuracy: 0.3500\n",
      "Epoch 8/30\n",
      "23/23 [==============================] - 1s 35ms/step - loss: 0.6122 - accuracy: 0.7500 - val_loss: 1.3653 - val_accuracy: 0.4000\n",
      "Epoch 9/30\n",
      "23/23 [==============================] - 1s 36ms/step - loss: 0.5066 - accuracy: 0.8177 - val_loss: 1.3113 - val_accuracy: 0.3773\n",
      "Epoch 10/30\n",
      "23/23 [==============================] - 1s 36ms/step - loss: 0.3685 - accuracy: 0.8729 - val_loss: 1.5028 - val_accuracy: 0.3864\n",
      "Epoch 11/30\n",
      "23/23 [==============================] - 1s 35ms/step - loss: 0.2388 - accuracy: 0.9213 - val_loss: 1.8842 - val_accuracy: 0.3273\n",
      "Epoch 12/30\n",
      "23/23 [==============================] - 1s 35ms/step - loss: 0.2012 - accuracy: 0.9378 - val_loss: 2.3150 - val_accuracy: 0.4000\n",
      "Epoch 13/30\n",
      "23/23 [==============================] - 1s 35ms/step - loss: 0.1486 - accuracy: 0.9420 - val_loss: 2.2755 - val_accuracy: 0.3318\n",
      "Epoch 14/30\n",
      "23/23 [==============================] - 1s 36ms/step - loss: 0.1106 - accuracy: 0.9599 - val_loss: 2.2423 - val_accuracy: 0.3682\n",
      "Epoch 15/30\n",
      "23/23 [==============================] - ETA: 0s - loss: 0.1112 - accuracy: 0.9586Restoring model weights from the end of the best epoch: 5.\n",
      "23/23 [==============================] - 1s 36ms/step - loss: 0.1112 - accuracy: 0.9586 - val_loss: 2.6032 - val_accuracy: 0.4000\n",
      "Epoch 15: early stopping\n"
     ]
    }
   ],
   "source": [
    "hist = top_layer.fit(X_train, y_train, validation_data = (X_test, y_test) ,epochs=30, verbose=1,callbacks = [early_stop])"
   ]
  },
  {
   "cell_type": "code",
   "execution_count": 355,
   "id": "f5478365",
   "metadata": {},
   "outputs": [
    {
     "name": "stdout",
     "output_type": "stream",
     "text": [
      "{'verbose': 1, 'epochs': 30, 'steps': 23}\n",
      "dict_keys(['loss', 'accuracy', 'val_loss', 'val_accuracy'])\n"
     ]
    },
    {
     "data": {
      "image/png": "[encoded data removed]",
      "text/plain": [
       "<Figure size 640x480 with 1 Axes>"
      ]
     },
     "metadata": {},
     "output_type": "display_data"
    }
   ],
   "source": [
    "print(hist.params)\n",
    "print(hist.history.keys())\n",
    "plt.plot(hist.history['loss'], label = 'loss')\n",
    "plt.plot(hist.history['val_accuracy'], label = 'accuracy')\n",
    "plt.legend(loc = 'lower right');"
   ]
  },
  {
   "cell_type": "code",
   "execution_count": 348,
   "id": "21552afd",
   "metadata": {},
   "outputs": [],
   "source": [
    "# Prediction"
   ]
  },
  {
   "cell_type": "code",
   "execution_count": 356,
   "id": "10cac0c5",
   "metadata": {},
   "outputs": [
    {
     "name": "stdout",
     "output_type": "stream",
     "text": [
      "7/7 [==============================] - 0s 8ms/step\n"
     ]
    }
   ],
   "source": [
    "pred = top_layer.predict(X_test)"
   ]
  },
  {
   "cell_type": "code",
   "execution_count": 357,
   "id": "3dd62de1",
   "metadata": {},
   "outputs": [],
   "source": [
    "pred = pd.DataFrame(pred)"
   ]
  },
  {
   "cell_type": "code",
   "execution_count": 358,
   "id": "8959faf3",
   "metadata": {},
   "outputs": [],
   "source": [
    "def return_to_index(row):\n",
    "    return row.idxmax()"
   ]
  },
  {
   "cell_type": "code",
   "execution_count": 359,
   "id": "15bb8a2e",
   "metadata": {},
   "outputs": [],
   "source": [
    "pred = pred.apply(return_to_index, axis = 1) #passing each row into function at one time"
   ]
  },
  {
   "cell_type": "code",
   "execution_count": 360,
   "id": "5b5f4342",
   "metadata": {},
   "outputs": [],
   "source": [
    "from sklearn.metrics import balanced_accuracy_score, ConfusionMatrixDisplay\n",
    "import matplotlib.pyplot as plt\n",
    "import numpy\n",
    "from sklearn import metrics\n",
    "from sklearn.metrics import ConfusionMatrixDisplay"
   ]
  },
  {
   "cell_type": "code",
   "execution_count": 361,
   "id": "12a0a98f",
   "metadata": {},
   "outputs": [
    {
     "data": {
      "text/plain": [
       "<sklearn.metrics._plot.confusion_matrix.ConfusionMatrixDisplay at 0x7f800f71df10>"
      ]
     },
     "execution_count": 361,
     "metadata": {},
     "output_type": "execute_result"
    },
    {
     "data": {
      "image/png": "[encoded data removed]",
      "text/plain": [
       "<Figure size 640x480 with 2 Axes>"
      ]
     },
     "metadata": {},
     "output_type": "display_data"
    }
   ],
   "source": [
    "confusion_matrix = metrics.confusion_matrix(y_test, y_pred)\n",
    "cm_display = metrics.ConfusionMatrixDisplay(confusion_matrix = confusion_matrix)\n",
    "cm_display.plot()"
   ]
  },
  {
   "cell_type": "markdown",
   "id": "d6ee2610",
   "metadata": {},
   "source": [
    "# Testing out SE-ResNeXt"
   ]
  },
  {
   "cell_type": "code",
   "execution_count": 362,
   "id": "5c8cb234",
   "metadata": {},
   "outputs": [],
   "source": [
    "# for keras\n",
    "from classification_models.keras import Classifiers"
   ]
  },
  {
   "cell_type": "code",
   "execution_count": 363,
   "id": "9cd1b711",
   "metadata": {},
   "outputs": [],
   "source": [
    "ResNeXt50, preprocess_input = Classifiers.get('resnext50')\n",
    "model = ResNeXt50(include_top = False, input_shape=(224, 224, 3), weights='imagenet')"
   ]
  },
  {
   "cell_type": "code",
   "execution_count": 364,
   "id": "9d86ab6c",
   "metadata": {},
   "outputs": [],
   "source": [
    "# Putting SE-ResNeXt to work"
   ]
  },
  {
   "cell_type": "code",
   "execution_count": 365,
   "id": "28626841",
   "metadata": {},
   "outputs": [],
   "source": [
    "from keras.layers import GlobalAveragePooling2D\n",
    "from tensorflow.keras.layers import Conv2D\n",
    "from keras.utils import to_categorical"
   ]
  },
  {
   "cell_type": "code",
   "execution_count": 366,
   "id": "2283bf7d",
   "metadata": {},
   "outputs": [],
   "source": [
    "top_layer = Sequential()\n",
    "top_layer.add(Dense(100, activation = 'relu'))\n",
    "top_layer.add(Dropout(0.2))\n",
    "top_layer.add(Dense(100, activation = 'relu'))\n",
    "top_layer.add(Flatten())\n",
    "top_layer.add(Dense(512,activation=\"relu\"))\n",
    "top_layer.add(Dense(3, activation = 'softmax'))"
   ]
  },
  {
   "cell_type": "code",
   "execution_count": 367,
   "id": "733133b4",
   "metadata": {},
   "outputs": [],
   "source": [
    "top_layer.compile(loss='sparse_categorical_crossentropy',\n",
    "              optimizer='adam', metrics = ['accuracy']) # precision-recall curve\n"
   ]
  },
  {
   "cell_type": "code",
   "execution_count": 368,
   "id": "a8886ffa",
   "metadata": {},
   "outputs": [],
   "source": [
    "early_stop = EarlyStopping(monitor = 'val_accuracy', min_delta=0, patience = 10, restore_best_weights=True, verbose=1)"
   ]
  },
  {
   "cell_type": "code",
   "execution_count": 369,
   "id": "4f935470",
   "metadata": {},
   "outputs": [
    {
     "name": "stdout",
     "output_type": "stream",
     "text": [
      "Epoch 1/30\n",
      "23/23 [==============================] - 2s 47ms/step - loss: 1.3762 - accuracy: 0.4185 - val_loss: 1.0571 - val_accuracy: 0.4727\n",
      "Epoch 2/30\n",
      "23/23 [==============================] - 1s 40ms/step - loss: 1.0245 - accuracy: 0.5069 - val_loss: 1.0252 - val_accuracy: 0.4727\n",
      "Epoch 3/30\n",
      "23/23 [==============================] - 1s 37ms/step - loss: 0.9869 - accuracy: 0.4959 - val_loss: 1.0352 - val_accuracy: 0.4182\n",
      "Epoch 4/30\n",
      "23/23 [==============================] - 1s 37ms/step - loss: 0.9267 - accuracy: 0.5594 - val_loss: 1.0343 - val_accuracy: 0.4000\n",
      "Epoch 5/30\n",
      "23/23 [==============================] - 1s 36ms/step - loss: 0.8370 - accuracy: 0.6077 - val_loss: 1.0885 - val_accuracy: 0.3909\n",
      "Epoch 6/30\n",
      "23/23 [==============================] - 1s 36ms/step - loss: 0.7325 - accuracy: 0.6837 - val_loss: 1.1473 - val_accuracy: 0.3909\n",
      "Epoch 7/30\n",
      "23/23 [==============================] - 1s 42ms/step - loss: 0.6067 - accuracy: 0.7445 - val_loss: 1.3445 - val_accuracy: 0.3364\n",
      "Epoch 8/30\n",
      "23/23 [==============================] - 1s 37ms/step - loss: 0.5241 - accuracy: 0.7928 - val_loss: 1.5122 - val_accuracy: 0.3909\n",
      "Epoch 9/30\n",
      "23/23 [==============================] - 1s 37ms/step - loss: 0.3953 - accuracy: 0.8439 - val_loss: 1.6963 - val_accuracy: 0.3409\n",
      "Epoch 10/30\n",
      "23/23 [==============================] - 1s 36ms/step - loss: 0.3295 - accuracy: 0.8660 - val_loss: 1.4934 - val_accuracy: 0.3864\n",
      "Epoch 11/30\n",
      "23/23 [==============================] - ETA: 0s - loss: 0.2023 - accuracy: 0.9365Restoring model weights from the end of the best epoch: 1.\n",
      "23/23 [==============================] - 1s 38ms/step - loss: 0.2023 - accuracy: 0.9365 - val_loss: 1.6995 - val_accuracy: 0.4636\n",
      "Epoch 11: early stopping\n"
     ]
    }
   ],
   "source": [
    "hist = top_layer.fit(X_train, y_train, validation_data = (X_test, y_test) ,epochs=30, verbose=1,callbacks = [early_stop])"
   ]
  },
  {
   "cell_type": "code",
   "execution_count": 370,
   "id": "7b566d1a",
   "metadata": {},
   "outputs": [
    {
     "name": "stdout",
     "output_type": "stream",
     "text": [
      "{'verbose': 1, 'epochs': 30, 'steps': 23}\n",
      "dict_keys(['loss', 'accuracy', 'val_loss', 'val_accuracy'])\n"
     ]
    },
    {
     "data": {
      "image/png": "[encoded data removed]",
      "text/plain": [
       "<Figure size 640x480 with 1 Axes>"
      ]
     },
     "metadata": {},
     "output_type": "display_data"
    }
   ],
   "source": [
    "print(hist.params)\n",
    "print(hist.history.keys())\n",
    "plt.plot(hist.history['loss'], label = 'loss')\n",
    "plt.plot(hist.history['val_accuracy'], label = 'accuracy')\n",
    "plt.legend(loc = 'lower right');"
   ]
  },
  {
   "cell_type": "code",
   "execution_count": 134,
   "id": "d8862cd8",
   "metadata": {},
   "outputs": [],
   "source": [
    "# Prediction"
   ]
  },
  {
   "cell_type": "code",
   "execution_count": 136,
   "id": "58778e7e",
   "metadata": {},
   "outputs": [
    {
     "name": "stdout",
     "output_type": "stream",
     "text": [
      "7/7 [==============================] - 0s 7ms/step\n"
     ]
    }
   ],
   "source": [
    "pred = top_layer.predict(X_test)"
   ]
  },
  {
   "cell_type": "code",
   "execution_count": 141,
   "id": "f596630b",
   "metadata": {},
   "outputs": [
    {
     "data": {
      "text/html": [
       "<div>\n",
       "<style scoped>\n",
       "    .dataframe tbody tr th:only-of-type {\n",
       "        vertical-align: middle;\n",
       "    }\n",
       "\n",
       "    .dataframe tbody tr th {\n",
       "        vertical-align: top;\n",
       "    }\n",
       "\n",
       "    .dataframe thead th {\n",
       "        text-align: right;\n",
       "    }\n",
       "</style>\n",
       "<table border=\"1\" class=\"dataframe\">\n",
       "  <thead>\n",
       "    <tr style=\"text-align: right;\">\n",
       "      <th></th>\n",
       "      <th>0</th>\n",
       "      <th>1</th>\n",
       "      <th>2</th>\n",
       "    </tr>\n",
       "  </thead>\n",
       "  <tbody>\n",
       "    <tr>\n",
       "      <th>0</th>\n",
       "      <td>0.576372</td>\n",
       "      <td>0.342958</td>\n",
       "      <td>0.080671</td>\n",
       "    </tr>\n",
       "    <tr>\n",
       "      <th>1</th>\n",
       "      <td>0.540711</td>\n",
       "      <td>0.229168</td>\n",
       "      <td>0.230120</td>\n",
       "    </tr>\n",
       "    <tr>\n",
       "      <th>2</th>\n",
       "      <td>0.966808</td>\n",
       "      <td>0.012482</td>\n",
       "      <td>0.020709</td>\n",
       "    </tr>\n",
       "    <tr>\n",
       "      <th>3</th>\n",
       "      <td>0.680668</td>\n",
       "      <td>0.220859</td>\n",
       "      <td>0.098474</td>\n",
       "    </tr>\n",
       "    <tr>\n",
       "      <th>4</th>\n",
       "      <td>0.462226</td>\n",
       "      <td>0.388805</td>\n",
       "      <td>0.148969</td>\n",
       "    </tr>\n",
       "    <tr>\n",
       "      <th>...</th>\n",
       "      <td>...</td>\n",
       "      <td>...</td>\n",
       "      <td>...</td>\n",
       "    </tr>\n",
       "    <tr>\n",
       "      <th>215</th>\n",
       "      <td>0.678293</td>\n",
       "      <td>0.262837</td>\n",
       "      <td>0.058871</td>\n",
       "    </tr>\n",
       "    <tr>\n",
       "      <th>216</th>\n",
       "      <td>0.784855</td>\n",
       "      <td>0.133658</td>\n",
       "      <td>0.081487</td>\n",
       "    </tr>\n",
       "    <tr>\n",
       "      <th>217</th>\n",
       "      <td>0.464073</td>\n",
       "      <td>0.433766</td>\n",
       "      <td>0.102161</td>\n",
       "    </tr>\n",
       "    <tr>\n",
       "      <th>218</th>\n",
       "      <td>0.491443</td>\n",
       "      <td>0.380220</td>\n",
       "      <td>0.128336</td>\n",
       "    </tr>\n",
       "    <tr>\n",
       "      <th>219</th>\n",
       "      <td>0.418661</td>\n",
       "      <td>0.501686</td>\n",
       "      <td>0.079653</td>\n",
       "    </tr>\n",
       "  </tbody>\n",
       "</table>\n",
       "<p>220 rows × 3 columns</p>\n",
       "</div>"
      ],
      "text/plain": [
       "            0         1         2\n",
       "0    0.576372  0.342958  0.080671\n",
       "1    0.540711  0.229168  0.230120\n",
       "2    0.966808  0.012482  0.020709\n",
       "3    0.680668  0.220859  0.098474\n",
       "4    0.462226  0.388805  0.148969\n",
       "..        ...       ...       ...\n",
       "215  0.678293  0.262837  0.058871\n",
       "216  0.784855  0.133658  0.081487\n",
       "217  0.464073  0.433766  0.102161\n",
       "218  0.491443  0.380220  0.128336\n",
       "219  0.418661  0.501686  0.079653\n",
       "\n",
       "[220 rows x 3 columns]"
      ]
     },
     "execution_count": 141,
     "metadata": {},
     "output_type": "execute_result"
    }
   ],
   "source": [
    "pred = pd.DataFrame(pred)\n",
    "pred"
   ]
  },
  {
   "cell_type": "code",
   "execution_count": 142,
   "id": "04e2f7a5",
   "metadata": {},
   "outputs": [],
   "source": [
    "def return_to_index(row):\n",
    "    return row.idxmax()"
   ]
  },
  {
   "cell_type": "code",
   "execution_count": null,
   "id": "cbf07c71",
   "metadata": {},
   "outputs": [],
   "source": [
    "pred = pred.apply(return_to_index, axis = 1) #passing each row into function at one time"
   ]
  },
  {
   "cell_type": "code",
   "execution_count": 139,
   "id": "0da4caf6",
   "metadata": {},
   "outputs": [],
   "source": [
    "from sklearn.metrics import balanced_accuracy_score, ConfusionMatrixDisplay\n",
    "import matplotlib.pyplot as plt\n",
    "import numpy\n",
    "from sklearn import metrics\n",
    "from sklearn.metrics import ConfusionMatrixDisplay"
   ]
  },
  {
   "cell_type": "code",
   "execution_count": 140,
   "id": "bc927ac7",
   "metadata": {},
   "outputs": [
    {
     "data": {
      "text/plain": [
       "<sklearn.metrics._plot.confusion_matrix.ConfusionMatrixDisplay at 0x7f80095acd00>"
      ]
     },
     "execution_count": 140,
     "metadata": {},
     "output_type": "execute_result"
    },
    {
     "data": {
      "image/png": "[encoded data removed]",
      "text/plain": [
       "<Figure size 640x480 with 2 Axes>"
      ]
     },
     "metadata": {},
     "output_type": "display_data"
    }
   ],
   "source": [
    "confusion_matrix = metrics.confusion_matrix(y_test, y_pred)\n",
    "cm_display = metrics.ConfusionMatrixDisplay(confusion_matrix = confusion_matrix)\n",
    "cm_display.plot()"
   ]
  },
  {
   "cell_type": "code",
   "execution_count": null,
   "id": "20ff9895",
   "metadata": {},
   "outputs": [],
   "source": []
  },
  {
   "cell_type": "code",
   "execution_count": null,
   "id": "35b76d79",
   "metadata": {},
   "outputs": [],
   "source": []
  },
  {
   "cell_type": "code",
   "execution_count": null,
   "id": "acddc001",
   "metadata": {},
   "outputs": [],
   "source": []
  },
  {
   "cell_type": "code",
   "execution_count": null,
   "id": "b7d01492",
   "metadata": {},
   "outputs": [],
   "source": []
  },
  {
   "cell_type": "code",
   "execution_count": null,
   "id": "265b4eba",
   "metadata": {},
   "outputs": [],
   "source": []
  },
  {
   "cell_type": "code",
   "execution_count": null,
   "id": "ebfc2582",
   "metadata": {},
   "outputs": [],
   "source": []
  },
  {
   "cell_type": "code",
   "execution_count": null,
   "id": "c035ebaa",
   "metadata": {},
   "outputs": [],
   "source": []
  }
 ],
 "metadata": {
  "kernelspec": {
   "display_name": "Python 3 (ipykernel)",
   "language": "python",
   "name": "python3"
  },
  "language_info": {
   "codemirror_mode": {
    "name": "ipython",
    "version": 3
   },
   "file_extension": ".py",
   "mimetype": "text/x-python",
   "name": "python",
   "nbconvert_exporter": "python",
   "pygments_lexer": "ipython3",
   "version": "3.9.15"
  }
 },
 "nbformat": 4,
 "nbformat_minor": 5
}
