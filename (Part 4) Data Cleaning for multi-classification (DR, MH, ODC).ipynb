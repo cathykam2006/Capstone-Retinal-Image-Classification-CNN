{
 "cells": [
  {
   "cell_type": "code",
   "execution_count": 2,
   "id": "83dda7ee-4001-419d-9cfc-f5fdb0e47cda",
   "metadata": {},
   "outputs": [],
   "source": [
    "import pandas as pd\n",
    "import numpy as np"
   ]
  },
  {
   "cell_type": "code",
   "execution_count": 3,
   "id": "05206c7d-a28d-4b29-b208-fc8f5570d2ff",
   "metadata": {},
   "outputs": [
    {
     "data": {
      "text/plain": [
       "'/Users/kamwingsze/GA/project-capstone (Illuminado Capstone Project) *Part 2 - multi classification'"
      ]
     },
     "execution_count": 3,
     "metadata": {},
     "output_type": "execute_result"
    }
   ],
   "source": [
    "pwd"
   ]
  },
  {
   "cell_type": "code",
   "execution_count": 4,
   "id": "b2472dfb-db9b-4406-88f8-5963f1cfa868",
   "metadata": {},
   "outputs": [
    {
     "name": "stdout",
     "output_type": "stream",
     "text": [
      "/Users/kamwingsze/GA\n"
     ]
    }
   ],
   "source": [
    "cd .."
   ]
  },
  {
   "cell_type": "code",
   "execution_count": 5,
   "id": "696adaac-914c-4355-93cf-57f882fef740",
   "metadata": {},
   "outputs": [
    {
     "name": "stdout",
     "output_type": "stream",
     "text": [
      "/Users/kamwingsze/GA/project-capstone (Illuminado Capstone Project) *Part 2 - multi classification\n"
     ]
    }
   ],
   "source": [
    "cd project-capstone (Illuminado Capstone Project) *Part 2 - multi classification"
   ]
  },
  {
   "cell_type": "code",
   "execution_count": 10,
   "id": "de9b4928-7829-47c5-a167-86b4c75727e3",
   "metadata": {},
   "outputs": [
    {
     "data": {
      "text/html": [
       "<div>\n",
       "<style scoped>\n",
       "    .dataframe tbody tr th:only-of-type {\n",
       "        vertical-align: middle;\n",
       "    }\n",
       "\n",
       "    .dataframe tbody tr th {\n",
       "        vertical-align: top;\n",
       "    }\n",
       "\n",
       "    .dataframe thead th {\n",
       "        text-align: right;\n",
       "    }\n",
       "</style>\n",
       "<table border=\"1\" class=\"dataframe\">\n",
       "  <thead>\n",
       "    <tr style=\"text-align: right;\">\n",
       "      <th></th>\n",
       "      <th>ID</th>\n",
       "      <th>Disease_Risk</th>\n",
       "      <th>DR</th>\n",
       "      <th>ARMD</th>\n",
       "      <th>MH</th>\n",
       "      <th>DN</th>\n",
       "      <th>MYA</th>\n",
       "      <th>BRVO</th>\n",
       "      <th>TSLN</th>\n",
       "      <th>ERM</th>\n",
       "      <th>...</th>\n",
       "      <th>CME</th>\n",
       "      <th>PTCR</th>\n",
       "      <th>CF</th>\n",
       "      <th>VH</th>\n",
       "      <th>MCA</th>\n",
       "      <th>VS</th>\n",
       "      <th>BRAO</th>\n",
       "      <th>PLQ</th>\n",
       "      <th>HPED</th>\n",
       "      <th>CL</th>\n",
       "    </tr>\n",
       "  </thead>\n",
       "  <tbody>\n",
       "    <tr>\n",
       "      <th>0</th>\n",
       "      <td>1</td>\n",
       "      <td>1</td>\n",
       "      <td>1</td>\n",
       "      <td>0</td>\n",
       "      <td>0</td>\n",
       "      <td>0</td>\n",
       "      <td>0</td>\n",
       "      <td>0</td>\n",
       "      <td>0</td>\n",
       "      <td>0</td>\n",
       "      <td>...</td>\n",
       "      <td>0</td>\n",
       "      <td>0</td>\n",
       "      <td>0</td>\n",
       "      <td>0</td>\n",
       "      <td>0</td>\n",
       "      <td>0</td>\n",
       "      <td>0</td>\n",
       "      <td>0</td>\n",
       "      <td>0</td>\n",
       "      <td>0</td>\n",
       "    </tr>\n",
       "    <tr>\n",
       "      <th>1</th>\n",
       "      <td>2</td>\n",
       "      <td>1</td>\n",
       "      <td>1</td>\n",
       "      <td>0</td>\n",
       "      <td>0</td>\n",
       "      <td>0</td>\n",
       "      <td>0</td>\n",
       "      <td>0</td>\n",
       "      <td>0</td>\n",
       "      <td>0</td>\n",
       "      <td>...</td>\n",
       "      <td>0</td>\n",
       "      <td>0</td>\n",
       "      <td>0</td>\n",
       "      <td>0</td>\n",
       "      <td>0</td>\n",
       "      <td>0</td>\n",
       "      <td>0</td>\n",
       "      <td>0</td>\n",
       "      <td>0</td>\n",
       "      <td>0</td>\n",
       "    </tr>\n",
       "    <tr>\n",
       "      <th>2</th>\n",
       "      <td>3</td>\n",
       "      <td>1</td>\n",
       "      <td>1</td>\n",
       "      <td>0</td>\n",
       "      <td>0</td>\n",
       "      <td>0</td>\n",
       "      <td>0</td>\n",
       "      <td>0</td>\n",
       "      <td>0</td>\n",
       "      <td>0</td>\n",
       "      <td>...</td>\n",
       "      <td>0</td>\n",
       "      <td>0</td>\n",
       "      <td>0</td>\n",
       "      <td>0</td>\n",
       "      <td>0</td>\n",
       "      <td>0</td>\n",
       "      <td>0</td>\n",
       "      <td>0</td>\n",
       "      <td>0</td>\n",
       "      <td>0</td>\n",
       "    </tr>\n",
       "    <tr>\n",
       "      <th>3</th>\n",
       "      <td>4</td>\n",
       "      <td>1</td>\n",
       "      <td>0</td>\n",
       "      <td>0</td>\n",
       "      <td>1</td>\n",
       "      <td>0</td>\n",
       "      <td>0</td>\n",
       "      <td>0</td>\n",
       "      <td>0</td>\n",
       "      <td>0</td>\n",
       "      <td>...</td>\n",
       "      <td>0</td>\n",
       "      <td>0</td>\n",
       "      <td>0</td>\n",
       "      <td>0</td>\n",
       "      <td>0</td>\n",
       "      <td>0</td>\n",
       "      <td>0</td>\n",
       "      <td>0</td>\n",
       "      <td>0</td>\n",
       "      <td>0</td>\n",
       "    </tr>\n",
       "    <tr>\n",
       "      <th>4</th>\n",
       "      <td>5</td>\n",
       "      <td>1</td>\n",
       "      <td>1</td>\n",
       "      <td>0</td>\n",
       "      <td>0</td>\n",
       "      <td>0</td>\n",
       "      <td>0</td>\n",
       "      <td>0</td>\n",
       "      <td>0</td>\n",
       "      <td>0</td>\n",
       "      <td>...</td>\n",
       "      <td>0</td>\n",
       "      <td>0</td>\n",
       "      <td>0</td>\n",
       "      <td>0</td>\n",
       "      <td>0</td>\n",
       "      <td>0</td>\n",
       "      <td>0</td>\n",
       "      <td>0</td>\n",
       "      <td>0</td>\n",
       "      <td>0</td>\n",
       "    </tr>\n",
       "    <tr>\n",
       "      <th>...</th>\n",
       "      <td>...</td>\n",
       "      <td>...</td>\n",
       "      <td>...</td>\n",
       "      <td>...</td>\n",
       "      <td>...</td>\n",
       "      <td>...</td>\n",
       "      <td>...</td>\n",
       "      <td>...</td>\n",
       "      <td>...</td>\n",
       "      <td>...</td>\n",
       "      <td>...</td>\n",
       "      <td>...</td>\n",
       "      <td>...</td>\n",
       "      <td>...</td>\n",
       "      <td>...</td>\n",
       "      <td>...</td>\n",
       "      <td>...</td>\n",
       "      <td>...</td>\n",
       "      <td>...</td>\n",
       "      <td>...</td>\n",
       "      <td>...</td>\n",
       "    </tr>\n",
       "    <tr>\n",
       "      <th>1915</th>\n",
       "      <td>1916</td>\n",
       "      <td>1</td>\n",
       "      <td>0</td>\n",
       "      <td>0</td>\n",
       "      <td>0</td>\n",
       "      <td>0</td>\n",
       "      <td>0</td>\n",
       "      <td>0</td>\n",
       "      <td>0</td>\n",
       "      <td>0</td>\n",
       "      <td>...</td>\n",
       "      <td>0</td>\n",
       "      <td>0</td>\n",
       "      <td>0</td>\n",
       "      <td>0</td>\n",
       "      <td>0</td>\n",
       "      <td>0</td>\n",
       "      <td>0</td>\n",
       "      <td>0</td>\n",
       "      <td>0</td>\n",
       "      <td>0</td>\n",
       "    </tr>\n",
       "    <tr>\n",
       "      <th>1916</th>\n",
       "      <td>1917</td>\n",
       "      <td>1</td>\n",
       "      <td>1</td>\n",
       "      <td>0</td>\n",
       "      <td>0</td>\n",
       "      <td>0</td>\n",
       "      <td>0</td>\n",
       "      <td>0</td>\n",
       "      <td>0</td>\n",
       "      <td>0</td>\n",
       "      <td>...</td>\n",
       "      <td>0</td>\n",
       "      <td>0</td>\n",
       "      <td>0</td>\n",
       "      <td>0</td>\n",
       "      <td>0</td>\n",
       "      <td>0</td>\n",
       "      <td>0</td>\n",
       "      <td>0</td>\n",
       "      <td>0</td>\n",
       "      <td>0</td>\n",
       "    </tr>\n",
       "    <tr>\n",
       "      <th>1917</th>\n",
       "      <td>1918</td>\n",
       "      <td>0</td>\n",
       "      <td>0</td>\n",
       "      <td>0</td>\n",
       "      <td>0</td>\n",
       "      <td>0</td>\n",
       "      <td>0</td>\n",
       "      <td>0</td>\n",
       "      <td>0</td>\n",
       "      <td>0</td>\n",
       "      <td>...</td>\n",
       "      <td>0</td>\n",
       "      <td>0</td>\n",
       "      <td>0</td>\n",
       "      <td>0</td>\n",
       "      <td>0</td>\n",
       "      <td>0</td>\n",
       "      <td>0</td>\n",
       "      <td>0</td>\n",
       "      <td>0</td>\n",
       "      <td>0</td>\n",
       "    </tr>\n",
       "    <tr>\n",
       "      <th>1918</th>\n",
       "      <td>1919</td>\n",
       "      <td>0</td>\n",
       "      <td>0</td>\n",
       "      <td>0</td>\n",
       "      <td>0</td>\n",
       "      <td>0</td>\n",
       "      <td>0</td>\n",
       "      <td>0</td>\n",
       "      <td>0</td>\n",
       "      <td>0</td>\n",
       "      <td>...</td>\n",
       "      <td>0</td>\n",
       "      <td>0</td>\n",
       "      <td>0</td>\n",
       "      <td>0</td>\n",
       "      <td>0</td>\n",
       "      <td>0</td>\n",
       "      <td>0</td>\n",
       "      <td>0</td>\n",
       "      <td>0</td>\n",
       "      <td>0</td>\n",
       "    </tr>\n",
       "    <tr>\n",
       "      <th>1919</th>\n",
       "      <td>1920</td>\n",
       "      <td>0</td>\n",
       "      <td>0</td>\n",
       "      <td>0</td>\n",
       "      <td>0</td>\n",
       "      <td>0</td>\n",
       "      <td>0</td>\n",
       "      <td>0</td>\n",
       "      <td>0</td>\n",
       "      <td>0</td>\n",
       "      <td>...</td>\n",
       "      <td>0</td>\n",
       "      <td>0</td>\n",
       "      <td>0</td>\n",
       "      <td>0</td>\n",
       "      <td>0</td>\n",
       "      <td>0</td>\n",
       "      <td>0</td>\n",
       "      <td>0</td>\n",
       "      <td>0</td>\n",
       "      <td>0</td>\n",
       "    </tr>\n",
       "  </tbody>\n",
       "</table>\n",
       "<p>1920 rows × 47 columns</p>\n",
       "</div>"
      ],
      "text/plain": [
       "        ID  Disease_Risk  DR  ARMD  MH  DN  MYA  BRVO  TSLN  ERM  ...  CME  \\\n",
       "0        1             1   1     0   0   0    0     0     0    0  ...    0   \n",
       "1        2             1   1     0   0   0    0     0     0    0  ...    0   \n",
       "2        3             1   1     0   0   0    0     0     0    0  ...    0   \n",
       "3        4             1   0     0   1   0    0     0     0    0  ...    0   \n",
       "4        5             1   1     0   0   0    0     0     0    0  ...    0   \n",
       "...    ...           ...  ..   ...  ..  ..  ...   ...   ...  ...  ...  ...   \n",
       "1915  1916             1   0     0   0   0    0     0     0    0  ...    0   \n",
       "1916  1917             1   1     0   0   0    0     0     0    0  ...    0   \n",
       "1917  1918             0   0     0   0   0    0     0     0    0  ...    0   \n",
       "1918  1919             0   0     0   0   0    0     0     0    0  ...    0   \n",
       "1919  1920             0   0     0   0   0    0     0     0    0  ...    0   \n",
       "\n",
       "      PTCR  CF  VH  MCA  VS  BRAO  PLQ  HPED  CL  \n",
       "0        0   0   0    0   0     0    0     0   0  \n",
       "1        0   0   0    0   0     0    0     0   0  \n",
       "2        0   0   0    0   0     0    0     0   0  \n",
       "3        0   0   0    0   0     0    0     0   0  \n",
       "4        0   0   0    0   0     0    0     0   0  \n",
       "...    ...  ..  ..  ...  ..   ...  ...   ...  ..  \n",
       "1915     0   0   0    0   0     0    0     0   0  \n",
       "1916     0   0   0    0   0     0    0     0   0  \n",
       "1917     0   0   0    0   0     0    0     0   0  \n",
       "1918     0   0   0    0   0     0    0     0   0  \n",
       "1919     0   0   0    0   0     0    0     0   0  \n",
       "\n",
       "[1920 rows x 47 columns]"
      ]
     },
     "execution_count": 10,
     "metadata": {},
     "output_type": "execute_result"
    }
   ],
   "source": [
    "train = pd.read_csv('RFMiD_Training_Labels.csv')\n",
    "train"
   ]
  },
  {
   "cell_type": "code",
   "execution_count": 13,
   "id": "95fab767-76ed-46ee-bb85-7674647fe948",
   "metadata": {},
   "outputs": [
    {
     "data": {
      "text/plain": [
       "'37'"
      ]
     },
     "execution_count": 13,
     "metadata": {},
     "output_type": "execute_result"
    }
   ],
   "source": [
    "DR = list(train.loc[train['DR'] == 1]['ID'].astype(str))\n",
    "DR[10]"
   ]
  },
  {
   "cell_type": "code",
   "execution_count": 795,
   "id": "d3b5fdc7-fb5d-4819-8e50-876efee12857",
   "metadata": {},
   "outputs": [
    {
     "data": {
      "text/plain": [
       "'6'"
      ]
     },
     "execution_count": 795,
     "metadata": {},
     "output_type": "execute_result"
    }
   ],
   "source": [
    "ARMD = list(train.loc[train['ARMD'] == 1]['ID'].astype(str))\n",
    "ARMD[0]"
   ]
  },
  {
   "cell_type": "code",
   "execution_count": 17,
   "id": "1d69acca-a9b4-4535-a242-f949e4472b79",
   "metadata": {},
   "outputs": [
    {
     "data": {
      "text/plain": [
       "'113'"
      ]
     },
     "execution_count": 17,
     "metadata": {},
     "output_type": "execute_result"
    }
   ],
   "source": [
    "MH = list(train.loc[train['MH'] == 1]['ID'].astype(str))\n",
    "MH[20]"
   ]
  },
  {
   "cell_type": "code",
   "execution_count": 797,
   "id": "9c0015a7-9eff-491a-9afb-7d444e0c0a85",
   "metadata": {},
   "outputs": [
    {
     "data": {
      "text/plain": [
       "'13'"
      ]
     },
     "execution_count": 797,
     "metadata": {},
     "output_type": "execute_result"
    }
   ],
   "source": [
    "DN = list(train.loc[train['DN'] == 1]['ID'].astype(str))\n",
    "DN[0]"
   ]
  },
  {
   "cell_type": "code",
   "execution_count": 798,
   "id": "69538e83-82a3-454c-a0f1-fafac5008fcb",
   "metadata": {},
   "outputs": [
    {
     "data": {
      "text/plain": [
       "'6'"
      ]
     },
     "execution_count": 798,
     "metadata": {},
     "output_type": "execute_result"
    }
   ],
   "source": [
    "MYA = list(train.loc[train['MYA'] == 1]['ID'].astype(str))\n",
    "MYA[0]"
   ]
  },
  {
   "cell_type": "code",
   "execution_count": 799,
   "id": "632801a0-faf7-40c7-8271-befcb65f50eb",
   "metadata": {},
   "outputs": [
    {
     "data": {
      "text/plain": [
       "'41'"
      ]
     },
     "execution_count": 799,
     "metadata": {},
     "output_type": "execute_result"
    }
   ],
   "source": [
    "BRVO = list(train.loc[train['BRVO'] == 1]['ID'].astype(str))\n",
    "BRVO[0]"
   ]
  },
  {
   "cell_type": "code",
   "execution_count": 800,
   "id": "84c7eeae-4325-4bfd-8d0c-1bfd544d79a5",
   "metadata": {},
   "outputs": [
    {
     "data": {
      "text/plain": [
       "'24'"
      ]
     },
     "execution_count": 800,
     "metadata": {},
     "output_type": "execute_result"
    }
   ],
   "source": [
    "TSLN = list(train.loc[train['TSLN'] == 1]['ID'].astype(str))\n",
    "TSLN[0]"
   ]
  },
  {
   "cell_type": "code",
   "execution_count": 801,
   "id": "287d74a3-0594-47bd-a174-b98bd881803a",
   "metadata": {},
   "outputs": [
    {
     "data": {
      "text/plain": [
       "'9'"
      ]
     },
     "execution_count": 801,
     "metadata": {},
     "output_type": "execute_result"
    }
   ],
   "source": [
    "ERM = list(train.loc[train['ERM'] == 1]['ID'].astype(str))\n",
    "ERM[0]"
   ]
  },
  {
   "cell_type": "code",
   "execution_count": 802,
   "id": "cb0f5554-e088-4e5d-8e87-104807fb4331",
   "metadata": {},
   "outputs": [
    {
     "data": {
      "text/plain": [
       "'5'"
      ]
     },
     "execution_count": 802,
     "metadata": {},
     "output_type": "execute_result"
    }
   ],
   "source": [
    "LS = list(train.loc[train['LS'] == 1]['ID'].astype(str))\n",
    "LS[0]"
   ]
  },
  {
   "cell_type": "code",
   "execution_count": 803,
   "id": "a71ea79e-9e8e-4693-b3e9-d234271256ca",
   "metadata": {},
   "outputs": [
    {
     "data": {
      "text/plain": [
       "'15'"
      ]
     },
     "execution_count": 803,
     "metadata": {},
     "output_type": "execute_result"
    }
   ],
   "source": [
    "MS = list(train.loc[train['MS'] == 1]['ID'].astype(str))\n",
    "MS[0]"
   ]
  },
  {
   "cell_type": "code",
   "execution_count": 804,
   "id": "5129a4a5-627e-4508-afb6-a619389ef17c",
   "metadata": {},
   "outputs": [
    {
     "data": {
      "text/plain": [
       "'53'"
      ]
     },
     "execution_count": 804,
     "metadata": {},
     "output_type": "execute_result"
    }
   ],
   "source": [
    "CSR = list(train.loc[train['CSR'] == 1]['ID'].astype(str))\n",
    "CSR[0]"
   ]
  },
  {
   "cell_type": "code",
   "execution_count": 20,
   "id": "1e2f48f5-1d04-4b1c-8a8f-92b514028c13",
   "metadata": {},
   "outputs": [
    {
     "data": {
      "text/plain": [
       "'122'"
      ]
     },
     "execution_count": 20,
     "metadata": {},
     "output_type": "execute_result"
    }
   ],
   "source": [
    "ODC = list(train.loc[train['ODC'] == 1]['ID'].astype(str))\n",
    "ODC[20]"
   ]
  },
  {
   "cell_type": "code",
   "execution_count": 806,
   "id": "1142bbad-c376-4815-b8fe-3ed95b9cd028",
   "metadata": {},
   "outputs": [
    {
     "data": {
      "text/plain": [
       "'58'"
      ]
     },
     "execution_count": 806,
     "metadata": {},
     "output_type": "execute_result"
    }
   ],
   "source": [
    "CRVO = list(train.loc[train['CRVO'] == 1]['ID'].astype(str))\n",
    "CRVO[0]"
   ]
  },
  {
   "cell_type": "code",
   "execution_count": 807,
   "id": "2c8485d8-2c7b-4455-be78-675ebd074e9b",
   "metadata": {},
   "outputs": [
    {
     "data": {
      "text/plain": [
       "'18'"
      ]
     },
     "execution_count": 807,
     "metadata": {},
     "output_type": "execute_result"
    }
   ],
   "source": [
    "TV = list(train.loc[train['TV'] == 1]['ID'].astype(str))\n",
    "TV[0]"
   ]
  },
  {
   "cell_type": "code",
   "execution_count": 808,
   "id": "228d5878-f7b0-4e2f-b856-a676d4352383",
   "metadata": {},
   "outputs": [
    {
     "data": {
      "text/plain": [
       "'112'"
      ]
     },
     "execution_count": 808,
     "metadata": {},
     "output_type": "execute_result"
    }
   ],
   "source": [
    "AH = list(train.loc[train['AH'] == 1]['ID'].astype(str))\n",
    "AH[0]"
   ]
  },
  {
   "cell_type": "code",
   "execution_count": 809,
   "id": "e47cc950-87c1-45c9-bf40-0427f138fb63",
   "metadata": {},
   "outputs": [
    {
     "data": {
      "text/plain": [
       "'27'"
      ]
     },
     "execution_count": 809,
     "metadata": {},
     "output_type": "execute_result"
    }
   ],
   "source": [
    "ODP = list(train.loc[train['ODP'] == 1]['ID'].astype(str))\n",
    "ODP[0]"
   ]
  },
  {
   "cell_type": "code",
   "execution_count": 810,
   "id": "87a4d4c6-c9f4-4406-8ad5-c5ccf4a3bef3",
   "metadata": {},
   "outputs": [
    {
     "data": {
      "text/plain": [
       "'55'"
      ]
     },
     "execution_count": 810,
     "metadata": {},
     "output_type": "execute_result"
    }
   ],
   "source": [
    "ODE = list(train.loc[train['ODE'] == 1]['ID'].astype(str))\n",
    "ODE[0]"
   ]
  },
  {
   "cell_type": "code",
   "execution_count": 811,
   "id": "c9e41471-f37b-4b70-9c37-2c3e399519f6",
   "metadata": {},
   "outputs": [
    {
     "data": {
      "text/plain": [
       "'1221'"
      ]
     },
     "execution_count": 811,
     "metadata": {},
     "output_type": "execute_result"
    }
   ],
   "source": [
    "ST = list(train.loc[train['ST'] == 1]['ID'].astype(str))\n",
    "ST[0]"
   ]
  },
  {
   "cell_type": "code",
   "execution_count": 812,
   "id": "08402735-f707-427a-8f1c-aacd2cdddd13",
   "metadata": {},
   "outputs": [
    {
     "data": {
      "text/plain": [
       "'199'"
      ]
     },
     "execution_count": 812,
     "metadata": {},
     "output_type": "execute_result"
    }
   ],
   "source": [
    "AION = list(train.loc[train['AION'] == 1]['ID'].astype(str))\n",
    "AION[0]"
   ]
  },
  {
   "cell_type": "code",
   "execution_count": 813,
   "id": "9c96e8d8-a07e-46f2-97f3-0e2edafbb778",
   "metadata": {},
   "outputs": [
    {
     "data": {
      "text/plain": [
       "'147'"
      ]
     },
     "execution_count": 813,
     "metadata": {},
     "output_type": "execute_result"
    }
   ],
   "source": [
    "PT = list(train.loc[train['PT'] == 1]['ID'].astype(str))\n",
    "PT[0]"
   ]
  },
  {
   "cell_type": "code",
   "execution_count": 814,
   "id": "d3435164-48c2-4799-8ff5-1f1aad5cea68",
   "metadata": {},
   "outputs": [
    {
     "data": {
      "text/plain": [
       "'180'"
      ]
     },
     "execution_count": 814,
     "metadata": {},
     "output_type": "execute_result"
    }
   ],
   "source": [
    "RS = list(train.loc[train['RS'] == 1]['ID'].astype(str))\n",
    "RS[0]"
   ]
  },
  {
   "cell_type": "code",
   "execution_count": 815,
   "id": "bf441b1c-be67-4857-97ae-faf37772be7f",
   "metadata": {},
   "outputs": [
    {
     "data": {
      "text/plain": [
       "'30'"
      ]
     },
     "execution_count": 815,
     "metadata": {},
     "output_type": "execute_result"
    }
   ],
   "source": [
    "CRS = list(train.loc[train['CRS'] == 1]['ID'].astype(str))\n",
    "CRS[0]"
   ]
  },
  {
   "cell_type": "code",
   "execution_count": 816,
   "id": "171ab084-d13a-479b-83f6-365bc90a8b39",
   "metadata": {},
   "outputs": [
    {
     "data": {
      "text/plain": [
       "'27'"
      ]
     },
     "execution_count": 816,
     "metadata": {},
     "output_type": "execute_result"
    }
   ],
   "source": [
    "EDN = list(train.loc[train['EDN'] == 1]['ID'].astype(str))\n",
    "EDN[0]"
   ]
  },
  {
   "cell_type": "code",
   "execution_count": 817,
   "id": "5b5c7917-9634-41aa-86ef-3c25f6130803",
   "metadata": {},
   "outputs": [
    {
     "data": {
      "text/plain": [
       "'60'"
      ]
     },
     "execution_count": 817,
     "metadata": {},
     "output_type": "execute_result"
    }
   ],
   "source": [
    "RPEC = list(train.loc[train['RPEC'] == 1]['ID'].astype(str))\n",
    "RPEC[0]"
   ]
  },
  {
   "cell_type": "code",
   "execution_count": 818,
   "id": "5f73f330-a81d-4636-9e72-3ad5dcbbb30d",
   "metadata": {},
   "outputs": [
    {
     "data": {
      "text/plain": [
       "'173'"
      ]
     },
     "execution_count": 818,
     "metadata": {},
     "output_type": "execute_result"
    }
   ],
   "source": [
    "MHL = list(train.loc[train['MHL'] == 1]['ID'].astype(str))\n",
    "MHL[0]"
   ]
  },
  {
   "cell_type": "code",
   "execution_count": 819,
   "id": "f3d7d27a-bf44-4a7d-a7c3-9f2951633c11",
   "metadata": {},
   "outputs": [
    {
     "data": {
      "text/plain": [
       "'630'"
      ]
     },
     "execution_count": 819,
     "metadata": {},
     "output_type": "execute_result"
    }
   ],
   "source": [
    "RP = list(train.loc[train['RP'] == 1]['ID'].astype(str))\n",
    "RP[0]"
   ]
  },
  {
   "cell_type": "code",
   "execution_count": 820,
   "id": "cf354c68-76b9-47c8-b134-bd6746409f6f",
   "metadata": {},
   "outputs": [
    {
     "data": {
      "text/plain": [
       "'260'"
      ]
     },
     "execution_count": 820,
     "metadata": {},
     "output_type": "execute_result"
    }
   ],
   "source": [
    "CWS = list(train.loc[train['CWS'] == 1]['ID'].astype(str))\n",
    "CWS[0]"
   ]
  },
  {
   "cell_type": "code",
   "execution_count": 821,
   "id": "1d8fea2e-6a51-4661-816b-65369a78d376",
   "metadata": {},
   "outputs": [
    {
     "data": {
      "text/plain": [
       "'807'"
      ]
     },
     "execution_count": 821,
     "metadata": {},
     "output_type": "execute_result"
    }
   ],
   "source": [
    "CB = list(train.loc[train['CB'] == 1]['ID'].astype(str))\n",
    "CB[0]"
   ]
  },
  {
   "cell_type": "code",
   "execution_count": 822,
   "id": "d0e7e5c4-6d7c-481e-a2a7-3aeca50753f0",
   "metadata": {},
   "outputs": [],
   "source": [
    "#ODPM = list(train.loc[train['ODPM'] == 1]['ID'].astype(str))\n",
    "#ODPM[0]"
   ]
  },
  {
   "cell_type": "code",
   "execution_count": 823,
   "id": "ab18392f-5eb1-479e-ab7d-a2a077b3c37e",
   "metadata": {},
   "outputs": [
    {
     "data": {
      "text/plain": [
       "'82'"
      ]
     },
     "execution_count": 823,
     "metadata": {},
     "output_type": "execute_result"
    }
   ],
   "source": [
    "PRH = list(train.loc[train['PRH'] == 1]['ID'].astype(str))\n",
    "PRH[0]"
   ]
  },
  {
   "cell_type": "code",
   "execution_count": 824,
   "id": "8222cbeb-2287-4c7c-bbab-faecc9b1aa95",
   "metadata": {},
   "outputs": [
    {
     "data": {
      "text/plain": [
       "'193'"
      ]
     },
     "execution_count": 824,
     "metadata": {},
     "output_type": "execute_result"
    }
   ],
   "source": [
    "MNF = list(train.loc[train['MNF'] == 1]['ID'].astype(str))\n",
    "MNF[0]"
   ]
  },
  {
   "cell_type": "code",
   "execution_count": 825,
   "id": "59919041-c6fc-49f1-b241-1ab337c9cd5d",
   "metadata": {},
   "outputs": [],
   "source": [
    "#HR = list(train.loc[train['HR'] == 1]['ID'].astype(str))\n",
    "#HR[0]"
   ]
  },
  {
   "cell_type": "code",
   "execution_count": 826,
   "id": "0576b854-c76b-4c98-b7b6-b062204c04fa",
   "metadata": {},
   "outputs": [
    {
     "data": {
      "text/plain": [
       "'275'"
      ]
     },
     "execution_count": 826,
     "metadata": {},
     "output_type": "execute_result"
    }
   ],
   "source": [
    "CRAO = list(train.loc[train['CRAO'] == 1]['ID'].astype(str))\n",
    "CRAO[0]"
   ]
  },
  {
   "cell_type": "code",
   "execution_count": 827,
   "id": "5252ef13-d401-43c0-b308-d8939587c430",
   "metadata": {},
   "outputs": [
    {
     "data": {
      "text/plain": [
       "'162'"
      ]
     },
     "execution_count": 827,
     "metadata": {},
     "output_type": "execute_result"
    }
   ],
   "source": [
    "TD = list(train.loc[train['TD'] == 1]['ID'].astype(str))\n",
    "TD[0]"
   ]
  },
  {
   "cell_type": "code",
   "execution_count": 828,
   "id": "beaa91b6-52cd-44ec-9f29-10ac7b2420de",
   "metadata": {},
   "outputs": [
    {
     "data": {
      "text/plain": [
       "'599'"
      ]
     },
     "execution_count": 828,
     "metadata": {},
     "output_type": "execute_result"
    }
   ],
   "source": [
    "CME = list(train.loc[train['CME'] == 1]['ID'].astype(str))\n",
    "CME[0]"
   ]
  },
  {
   "cell_type": "code",
   "execution_count": 829,
   "id": "1dea47ea-e019-479d-957a-2c2c7d6acc27",
   "metadata": {},
   "outputs": [
    {
     "data": {
      "text/plain": [
       "'483'"
      ]
     },
     "execution_count": 829,
     "metadata": {},
     "output_type": "execute_result"
    }
   ],
   "source": [
    "PTCR = list(train.loc[train['PTCR'] == 1]['ID'].astype(str))\n",
    "PTCR[0]"
   ]
  },
  {
   "cell_type": "code",
   "execution_count": 830,
   "id": "40be4a48-53bb-413f-9e75-8552ea32bf5e",
   "metadata": {},
   "outputs": [
    {
     "data": {
      "text/plain": [
       "'302'"
      ]
     },
     "execution_count": 830,
     "metadata": {},
     "output_type": "execute_result"
    }
   ],
   "source": [
    "CF = list(train.loc[train['CF'] == 1]['ID'].astype(str))\n",
    "CF[0]"
   ]
  },
  {
   "cell_type": "code",
   "execution_count": 831,
   "id": "e2a46176-aef6-4812-900f-e3783ff62f2e",
   "metadata": {},
   "outputs": [
    {
     "data": {
      "text/plain": [
       "'1146'"
      ]
     },
     "execution_count": 831,
     "metadata": {},
     "output_type": "execute_result"
    }
   ],
   "source": [
    "VH = list(train.loc[train['VH'] == 1]['ID'].astype(str))\n",
    "VH[0]"
   ]
  },
  {
   "cell_type": "code",
   "execution_count": 832,
   "id": "f8d0cb37-3645-4e60-9dab-768aa8d47b55",
   "metadata": {},
   "outputs": [
    {
     "data": {
      "text/plain": [
       "'781'"
      ]
     },
     "execution_count": 832,
     "metadata": {},
     "output_type": "execute_result"
    }
   ],
   "source": [
    "MCA = list(train.loc[train['MCA'] == 1]['ID'].astype(str))\n",
    "MCA[0]"
   ]
  },
  {
   "cell_type": "code",
   "execution_count": 833,
   "id": "5bf65862-718c-48f5-96af-6d62bcaaa4c0",
   "metadata": {},
   "outputs": [
    {
     "data": {
      "text/plain": [
       "'1256'"
      ]
     },
     "execution_count": 833,
     "metadata": {},
     "output_type": "execute_result"
    }
   ],
   "source": [
    "VS = list(train.loc[train['VS'] == 1]['ID'].astype(str))\n",
    "VS[0]"
   ]
  },
  {
   "cell_type": "code",
   "execution_count": 834,
   "id": "1174fdb0-1b36-4a89-bc10-f2f973b5ef61",
   "metadata": {},
   "outputs": [
    {
     "data": {
      "text/plain": [
       "'792'"
      ]
     },
     "execution_count": 834,
     "metadata": {},
     "output_type": "execute_result"
    }
   ],
   "source": [
    "BRAO = list(train.loc[train['BRAO'] == 1]['ID'].astype(str))\n",
    "BRAO[0]"
   ]
  },
  {
   "cell_type": "code",
   "execution_count": 835,
   "id": "c4ee9031-71ff-4c7a-859e-63351fe8210d",
   "metadata": {},
   "outputs": [
    {
     "data": {
      "text/plain": [
       "'1598'"
      ]
     },
     "execution_count": 835,
     "metadata": {},
     "output_type": "execute_result"
    }
   ],
   "source": [
    "PLQ = list(train.loc[train['PLQ'] == 1]['ID'].astype(str))\n",
    "PLQ[0]"
   ]
  },
  {
   "cell_type": "code",
   "execution_count": 836,
   "id": "1c57ef3f-60ff-4dcb-91ec-1078e14d6071",
   "metadata": {},
   "outputs": [
    {
     "data": {
      "text/plain": [
       "'1492'"
      ]
     },
     "execution_count": 836,
     "metadata": {},
     "output_type": "execute_result"
    }
   ],
   "source": [
    "HPED = list(train.loc[train['HPED'] == 1]['ID'].astype(str))\n",
    "HPED[0]"
   ]
  },
  {
   "cell_type": "code",
   "execution_count": 837,
   "id": "a8d40663-82b9-4812-9385-6254aaab8e2c",
   "metadata": {},
   "outputs": [
    {
     "data": {
      "text/plain": [
       "'1648'"
      ]
     },
     "execution_count": 837,
     "metadata": {},
     "output_type": "execute_result"
    }
   ],
   "source": [
    "CL = list(train.loc[train['CL'] == 1]['ID'].astype(str))\n",
    "CL[0]"
   ]
  },
  {
   "cell_type": "code",
   "execution_count": 838,
   "id": "b845e884-0f35-42ab-a0cd-cdbd084cbd22",
   "metadata": {},
   "outputs": [],
   "source": [
    "import os"
   ]
  },
  {
   "cell_type": "code",
   "execution_count": 839,
   "id": "581164bc-4903-4f07-aa08-86e20e54ef0b",
   "metadata": {},
   "outputs": [
    {
     "data": {
      "text/plain": [
       "'/Users/kamwingsze/GA/project-capstone (Illuminado Capstone Project) *Part 2 - multi classification/Train Set'"
      ]
     },
     "execution_count": 839,
     "metadata": {},
     "output_type": "execute_result"
    }
   ],
   "source": [
    "pwd"
   ]
  },
  {
   "cell_type": "code",
   "execution_count": 840,
   "id": "8a7fcbcb-5ee4-40aa-a416-4bcc0cd23893",
   "metadata": {},
   "outputs": [
    {
     "data": {
      "text/plain": [
       "False"
      ]
     },
     "execution_count": 840,
     "metadata": {},
     "output_type": "execute_result"
    }
   ],
   "source": [
    "6 in ARMD"
   ]
  },
  {
   "cell_type": "code",
   "execution_count": 841,
   "id": "9db7eaf4-846f-4e46-bf3c-446bc93b3077",
   "metadata": {},
   "outputs": [],
   "source": [
    "#sorting the images into the their disease pile\n",
    "\n",
    "ims = os.listdir()\n",
    "\n",
    "for im in ims:\n",
    "    if im.replace('.png', '') in DR:\n",
    "        os.rename(im, f\"DR/{im}\")"
   ]
  },
  {
   "cell_type": "code",
   "execution_count": 842,
   "id": "eed4cafe-350a-4a65-8edd-9b8ee5f35a87",
   "metadata": {},
   "outputs": [],
   "source": [
    "for im in ims:\n",
    "    if im.replace('.png', '') in ARMD:\n",
    "        os.rename(im, f\"ARMD/{im}\")"
   ]
  },
  {
   "cell_type": "code",
   "execution_count": 843,
   "id": "680b4547-128c-43c5-ab54-06e5cf9a1931",
   "metadata": {},
   "outputs": [],
   "source": [
    "for im in ims:\n",
    "    if im.replace('.png', '') in MH:\n",
    "        os.rename(im, f\"MH/{im}\")"
   ]
  },
  {
   "cell_type": "code",
   "execution_count": 844,
   "id": "1279107b-b38d-4daf-88cc-598a462e5ada",
   "metadata": {},
   "outputs": [],
   "source": [
    "for im in ims:\n",
    "    if im.replace('.png', '') in DN:\n",
    "        os.rename(im, f\"DN/{im}\")"
   ]
  },
  {
   "cell_type": "code",
   "execution_count": 845,
   "id": "027daeec-70af-4f9e-9368-774fdc407718",
   "metadata": {},
   "outputs": [],
   "source": [
    "for im in ims:\n",
    "    if im.replace('.png', '') in MYA:\n",
    "        os.rename(im, f\"MYA/{im}\")"
   ]
  },
  {
   "cell_type": "code",
   "execution_count": 846,
   "id": "813e7f82-e98e-4f1d-915a-7ba579bc03d7",
   "metadata": {},
   "outputs": [],
   "source": [
    "for im in ims:\n",
    "    if im.replace('.png', '') in BRVO:\n",
    "        os.rename(im, f\"BRVO/{im}\")"
   ]
  },
  {
   "cell_type": "code",
   "execution_count": 847,
   "id": "c1b695df-3acc-4aa1-ba4c-e8fdf95be787",
   "metadata": {},
   "outputs": [],
   "source": [
    "for im in ims:\n",
    "    if im.replace('.png', '') in TSLN:\n",
    "        os.rename(im, f\"TSLN/{im}\")"
   ]
  },
  {
   "cell_type": "code",
   "execution_count": 848,
   "id": "05b9403c-ecf6-443e-9234-65a18e98fec5",
   "metadata": {},
   "outputs": [],
   "source": [
    "for im in ims:\n",
    "    if im.replace('.png', '') in ERM:\n",
    "        os.rename(im, f\"ERM/{im}\")"
   ]
  },
  {
   "cell_type": "code",
   "execution_count": 849,
   "id": "36df8e13-54f8-40e6-b93b-197dd1167a77",
   "metadata": {},
   "outputs": [],
   "source": [
    "for im in ims:\n",
    "    if im.replace('.png', '') in LS:\n",
    "        os.rename(im, f\"LS/{im}\")"
   ]
  },
  {
   "cell_type": "code",
   "execution_count": 850,
   "id": "4b5af649-5cb8-4287-94d0-51f3eeee9ab8",
   "metadata": {},
   "outputs": [],
   "source": [
    "for im in ims:\n",
    "    if im.replace('.png', '') in MS:\n",
    "        os.rename(im, f\"MS/{im}\")"
   ]
  },
  {
   "cell_type": "code",
   "execution_count": 851,
   "id": "c61887ae-49db-42ab-a03b-a04ccaaeff5b",
   "metadata": {},
   "outputs": [],
   "source": [
    "for im in ims:\n",
    "    if im.replace('.png', '') in CSR:\n",
    "        os.rename(im, f\"CSR/{im}\")"
   ]
  },
  {
   "cell_type": "code",
   "execution_count": 852,
   "id": "696f5a47-8a3d-47a1-88e4-159a1d5e3199",
   "metadata": {},
   "outputs": [],
   "source": [
    "for im in ims:\n",
    "    if im.replace('.png', '') in ODC:\n",
    "        os.rename(im, f\"ODC/{im}\")"
   ]
  },
  {
   "cell_type": "code",
   "execution_count": 853,
   "id": "09cdd828-0468-4832-9228-dbcaed9e5a5d",
   "metadata": {},
   "outputs": [],
   "source": [
    "for im in ims:\n",
    "    if im.replace('.png', '') in CRVO:\n",
    "        os.rename(im, f\"CRVO/{im}\")"
   ]
  },
  {
   "cell_type": "code",
   "execution_count": 854,
   "id": "ad43374c-b10a-4be7-9f23-2586fb004e13",
   "metadata": {},
   "outputs": [],
   "source": [
    "for im in ims:\n",
    "    if im.replace('.png', '') in TV:\n",
    "        os.rename(im, f\"TV/{im}\")"
   ]
  },
  {
   "cell_type": "code",
   "execution_count": 855,
   "id": "9ad89f6e-5ace-4a40-a59d-01209bc50393",
   "metadata": {},
   "outputs": [],
   "source": [
    "for im in ims:\n",
    "    if im.replace('.png', '') in AH:\n",
    "        os.rename(im, f\"AH/{im}\")"
   ]
  },
  {
   "cell_type": "code",
   "execution_count": 856,
   "id": "9a676e21-9a01-4d01-ab27-7a9930bc8881",
   "metadata": {},
   "outputs": [],
   "source": [
    "for im in ims:\n",
    "    if im.replace('.png', '') in ODP:\n",
    "        os.rename(im, f\"ODP/{im}\")"
   ]
  },
  {
   "cell_type": "code",
   "execution_count": 857,
   "id": "7523078b-5329-48b6-9c47-3487ced4bb73",
   "metadata": {},
   "outputs": [],
   "source": [
    "for im in ims:\n",
    "    if im.replace('.png', '') in ODE:\n",
    "        os.rename(im, f\"ODE/{im}\")"
   ]
  },
  {
   "cell_type": "code",
   "execution_count": 892,
   "id": "960e1041-842c-4947-9d07-d3e5934a236d",
   "metadata": {},
   "outputs": [],
   "source": [
    "for im in ims:\n",
    "    if im.replace('.png', '') in ST:\n",
    "        os.rename(im, f\"ST/{im}\")"
   ]
  },
  {
   "cell_type": "code",
   "execution_count": 893,
   "id": "dd1ad4a4-8797-4d85-9404-e206b9f44398",
   "metadata": {},
   "outputs": [],
   "source": [
    "for im in ims:\n",
    "    if im.replace('.png', '') in AION:\n",
    "        os.rename(im, f\"AION/{im}\")"
   ]
  },
  {
   "cell_type": "code",
   "execution_count": 894,
   "id": "2555653f-38a5-4976-bc10-c1549ddcea3d",
   "metadata": {},
   "outputs": [],
   "source": [
    "for im in ims:\n",
    "    if im.replace('.png', '') in PT:\n",
    "        os.rename(im, f\"PT/{im}\")"
   ]
  },
  {
   "cell_type": "code",
   "execution_count": 1,
   "id": "40af403c-37c6-4bd4-a55c-dabd25c69136",
   "metadata": {},
   "outputs": [],
   "source": [
    "#for im in ims:\n",
    "    #if im.replace('.png', '') in RT:\n",
    "        #os.rename(im, f\"RT/{im}\")"
   ]
  },
  {
   "cell_type": "code",
   "execution_count": 896,
   "id": "e5f653c5-e96c-4a4e-a0fe-195598b81d24",
   "metadata": {},
   "outputs": [],
   "source": [
    "for im in ims:\n",
    "    if im.replace('.png', '') in RS:\n",
    "        os.rename(im, f\"RS/{im}\")"
   ]
  },
  {
   "cell_type": "code",
   "execution_count": 885,
   "id": "e2a02941-9947-42aa-bddd-6811ba63afa3",
   "metadata": {},
   "outputs": [],
   "source": [
    "for im in ims:\n",
    "    if im.replace('.png', '') in CRS:\n",
    "        os.rename(im, f\"CRS/{im}\")"
   ]
  },
  {
   "cell_type": "code",
   "execution_count": 886,
   "id": "8ed17070-9155-4dde-bc59-2cb89297aa94",
   "metadata": {},
   "outputs": [],
   "source": [
    "for im in ims:\n",
    "    if im.replace('.png', '') in EDN:\n",
    "        os.rename(im, f\"EDN/{im}\")"
   ]
  },
  {
   "cell_type": "code",
   "execution_count": 865,
   "id": "929425fa-9365-4db7-acf8-80ca1ad8c8bf",
   "metadata": {},
   "outputs": [],
   "source": [
    "for im in ims:\n",
    "    if im.replace('.png', '') in RPEC:\n",
    "        os.rename(im, f\"RPEC/{im}\")"
   ]
  },
  {
   "cell_type": "code",
   "execution_count": 866,
   "id": "7a89bd88-5a6a-4b66-896a-3866748f484c",
   "metadata": {},
   "outputs": [],
   "source": [
    "for im in ims:\n",
    "    if im.replace('.png', '') in MHL:\n",
    "        os.rename(im, f\"MHL/{im}\")"
   ]
  },
  {
   "cell_type": "code",
   "execution_count": 867,
   "id": "8f244a93-fea2-410b-a4ad-10b95f61f297",
   "metadata": {},
   "outputs": [],
   "source": [
    "for im in ims:\n",
    "    if im.replace('.png', '') in RP:\n",
    "        os.rename(im, f\"RP/{im}\")"
   ]
  },
  {
   "cell_type": "code",
   "execution_count": 868,
   "id": "019b9bd6-4f6d-4f78-919a-01ffb99ca7c7",
   "metadata": {},
   "outputs": [],
   "source": [
    "for im in ims:\n",
    "    if im.replace('.png', '') in CWS:\n",
    "        os.rename(im, f\"CWS/{im}\")"
   ]
  },
  {
   "cell_type": "code",
   "execution_count": 869,
   "id": "80722e53-ff30-4a74-85c5-b8650af8b38a",
   "metadata": {},
   "outputs": [],
   "source": [
    "for im in ims:\n",
    "    if im.replace('.png', '') in CB:\n",
    "        os.rename(im, f\"CB/{im}\")"
   ]
  },
  {
   "cell_type": "code",
   "execution_count": 870,
   "id": "aca18bc5-30d9-4180-b3a6-21a1f3b382bc",
   "metadata": {},
   "outputs": [
    {
     "ename": "NameError",
     "evalue": "name 'ODPM' is not defined",
     "output_type": "error",
     "traceback": [
      "\u001b[0;31m---------------------------------------------------------------------------\u001b[0m",
      "\u001b[0;31mNameError\u001b[0m                                 Traceback (most recent call last)",
      "\u001b[0;32m/var/folders/w0/sh538wjn68n6sktngvrggw480000gn/T/ipykernel_42655/2242073520.py\u001b[0m in \u001b[0;36m<module>\u001b[0;34m\u001b[0m\n\u001b[1;32m      1\u001b[0m \u001b[0;32mfor\u001b[0m \u001b[0mim\u001b[0m \u001b[0;32min\u001b[0m \u001b[0mims\u001b[0m\u001b[0;34m:\u001b[0m\u001b[0;34m\u001b[0m\u001b[0;34m\u001b[0m\u001b[0m\n\u001b[0;32m----> 2\u001b[0;31m     \u001b[0;32mif\u001b[0m \u001b[0mim\u001b[0m\u001b[0;34m.\u001b[0m\u001b[0mreplace\u001b[0m\u001b[0;34m(\u001b[0m\u001b[0;34m'.png'\u001b[0m\u001b[0;34m,\u001b[0m \u001b[0;34m''\u001b[0m\u001b[0;34m)\u001b[0m \u001b[0;32min\u001b[0m \u001b[0mODPM\u001b[0m\u001b[0;34m:\u001b[0m\u001b[0;34m\u001b[0m\u001b[0;34m\u001b[0m\u001b[0m\n\u001b[0m\u001b[1;32m      3\u001b[0m         \u001b[0mos\u001b[0m\u001b[0;34m.\u001b[0m\u001b[0mrename\u001b[0m\u001b[0;34m(\u001b[0m\u001b[0mim\u001b[0m\u001b[0;34m,\u001b[0m \u001b[0;34mf\"ODPM/{im}\"\u001b[0m\u001b[0;34m)\u001b[0m\u001b[0;34m\u001b[0m\u001b[0;34m\u001b[0m\u001b[0m\n",
      "\u001b[0;31mNameError\u001b[0m: name 'ODPM' is not defined"
     ]
    }
   ],
   "source": [
    "for im in ims:\n",
    "    if im.replace('.png', '') in ODPM:\n",
    "        os.rename(im, f\"ODPM/{im}\")"
   ]
  },
  {
   "cell_type": "code",
   "execution_count": 871,
   "id": "2805243f-82a9-4401-966b-3432b52201b6",
   "metadata": {},
   "outputs": [],
   "source": [
    "for im in ims:\n",
    "    if im.replace('.png', '') in PRH:\n",
    "        os.rename(im, f\"PRH/{im}\")"
   ]
  },
  {
   "cell_type": "code",
   "execution_count": 872,
   "id": "ed7b0577-80e4-4c8e-9a0a-9aed2f2f12ac",
   "metadata": {},
   "outputs": [],
   "source": [
    "for im in ims:\n",
    "    if im.replace('.png', '') in MNF:\n",
    "        os.rename(im, f\"MNF/{im}\")"
   ]
  },
  {
   "cell_type": "code",
   "execution_count": 873,
   "id": "33006b95-d801-420f-932a-00c4ddf4e05f",
   "metadata": {},
   "outputs": [],
   "source": [
    "#for im in ims:\n",
    "    #if im.replace('.png', '') in HR:\n",
    "        #os.rename(im, f\"HR/{im}\")"
   ]
  },
  {
   "cell_type": "code",
   "execution_count": 770,
   "id": "5adaedd9-f4a3-46b2-ac0d-93d1f915598e",
   "metadata": {},
   "outputs": [],
   "source": [
    "for im in ims:\n",
    "    if im.replace('.png', '') in CRAO:\n",
    "        os.rename(im, f\"CRAO/{im}\")"
   ]
  },
  {
   "cell_type": "code",
   "execution_count": 658,
   "id": "b6f58311-26e9-40aa-9d04-07764000323e",
   "metadata": {},
   "outputs": [],
   "source": [
    "for im in ims:\n",
    "    if im.replace('.png', '') in TD:\n",
    "        os.rename(im, f\"TD/{im}\")"
   ]
  },
  {
   "cell_type": "code",
   "execution_count": 451,
   "id": "a41e1ab6-b2b1-46e3-9284-fad4f10a4515",
   "metadata": {},
   "outputs": [],
   "source": [
    "for im in ims:\n",
    "    if im.replace('.png', '') in CME:\n",
    "        os.rename(im, f\"CME/{im}\")"
   ]
  },
  {
   "cell_type": "code",
   "execution_count": 452,
   "id": "475566fe-4a96-44e0-81ac-1d133936083b",
   "metadata": {},
   "outputs": [],
   "source": [
    "for im in ims:\n",
    "    if im.replace('.png', '') in PTCR:\n",
    "        os.rename(im, f\"PTCR/{im}\")"
   ]
  },
  {
   "cell_type": "code",
   "execution_count": 453,
   "id": "ad7af16d-5ec3-4277-b106-0137593cbb48",
   "metadata": {},
   "outputs": [],
   "source": [
    "for im in ims:\n",
    "    if im.replace('.png', '') in CF:\n",
    "        os.rename(im, f\"CF/{im}\")"
   ]
  },
  {
   "cell_type": "code",
   "execution_count": 454,
   "id": "8c8ffb7b-29ce-4469-bb90-47419d85b8fb",
   "metadata": {},
   "outputs": [],
   "source": [
    "for im in ims:\n",
    "    if im.replace('.png', '') in VH:\n",
    "        os.rename(im, f\"VH/{im}\")"
   ]
  },
  {
   "cell_type": "code",
   "execution_count": 455,
   "id": "3ca863ac-130b-41f4-9807-94e96a1755e4",
   "metadata": {},
   "outputs": [],
   "source": [
    "for im in ims:\n",
    "    if im.replace('.png', '') in MCA:\n",
    "        os.rename(im, f\"MCA/{im}\")"
   ]
  },
  {
   "cell_type": "code",
   "execution_count": 456,
   "id": "d73509d9-5613-46d1-a128-a470b6436f9c",
   "metadata": {},
   "outputs": [],
   "source": [
    "for im in ims:\n",
    "    if im.replace('.png', '') in VS:\n",
    "        os.rename(im, f\"VS/{im}\")"
   ]
  },
  {
   "cell_type": "code",
   "execution_count": 457,
   "id": "c66e7479-92c5-443c-8a44-7466f8e92c17",
   "metadata": {},
   "outputs": [],
   "source": [
    "for im in ims:\n",
    "    if im.replace('.png', '') in BRAO:\n",
    "        os.rename(im, f\"BRAO/{im}\")"
   ]
  },
  {
   "cell_type": "code",
   "execution_count": 458,
   "id": "479d5202-3db8-4b71-b876-4a3b1423c82b",
   "metadata": {},
   "outputs": [],
   "source": [
    "for im in ims:\n",
    "    if im.replace('.png', '') in PLQ:\n",
    "        os.rename(im, f\"PLQ/{im}\")"
   ]
  },
  {
   "cell_type": "code",
   "execution_count": 459,
   "id": "d4fb17d5-99af-40ec-8492-1b2ec740d522",
   "metadata": {},
   "outputs": [],
   "source": [
    "for im in ims:\n",
    "    if im.replace('.png', '') in HPED:\n",
    "        os.rename(im, f\"HPED/{im}\")"
   ]
  },
  {
   "cell_type": "code",
   "execution_count": 460,
   "id": "022bf9f4-5fa6-4623-9583-bc58417a6c16",
   "metadata": {},
   "outputs": [],
   "source": [
    "for im in ims:\n",
    "    if im.replace('.png', '') in CL:\n",
    "        os.rename(im, f\"CL/{im}\")"
   ]
  },
  {
   "cell_type": "code",
   "execution_count": 63,
   "id": "a1b32de5-16ab-4c08-b2c5-63ca5996e308",
   "metadata": {},
   "outputs": [
    {
     "name": "stdout",
     "output_type": "stream",
     "text": [
      "[Errno 2] No such file or directory: 'Test Set'\n",
      "/Users/kamwingsze/GA/project-capstone (Illuminado Capstone Project) *Part 2 - multi classification/Test Set\n"
     ]
    }
   ],
   "source": [
    "cd Test Set"
   ]
  },
  {
   "cell_type": "code",
   "execution_count": 74,
   "id": "6cbdca4d-53d4-4780-896d-6af0ce8e84f9",
   "metadata": {},
   "outputs": [
    {
     "data": {
      "text/html": [
       "<div>\n",
       "<style scoped>\n",
       "    .dataframe tbody tr th:only-of-type {\n",
       "        vertical-align: middle;\n",
       "    }\n",
       "\n",
       "    .dataframe tbody tr th {\n",
       "        vertical-align: top;\n",
       "    }\n",
       "\n",
       "    .dataframe thead th {\n",
       "        text-align: right;\n",
       "    }\n",
       "</style>\n",
       "<table border=\"1\" class=\"dataframe\">\n",
       "  <thead>\n",
       "    <tr style=\"text-align: right;\">\n",
       "      <th></th>\n",
       "      <th>ID</th>\n",
       "      <th>Disease_Risk</th>\n",
       "      <th>DR</th>\n",
       "      <th>ARMD</th>\n",
       "      <th>MH</th>\n",
       "      <th>DN</th>\n",
       "      <th>MYA</th>\n",
       "      <th>BRVO</th>\n",
       "      <th>TSLN</th>\n",
       "      <th>ERM</th>\n",
       "      <th>...</th>\n",
       "      <th>CME</th>\n",
       "      <th>PTCR</th>\n",
       "      <th>CF</th>\n",
       "      <th>VH</th>\n",
       "      <th>MCA</th>\n",
       "      <th>VS</th>\n",
       "      <th>BRAO</th>\n",
       "      <th>PLQ</th>\n",
       "      <th>HPED</th>\n",
       "      <th>CL</th>\n",
       "    </tr>\n",
       "  </thead>\n",
       "  <tbody>\n",
       "    <tr>\n",
       "      <th>0</th>\n",
       "      <td>1</td>\n",
       "      <td>1</td>\n",
       "      <td>1</td>\n",
       "      <td>0</td>\n",
       "      <td>0</td>\n",
       "      <td>0</td>\n",
       "      <td>0</td>\n",
       "      <td>0</td>\n",
       "      <td>1</td>\n",
       "      <td>0</td>\n",
       "      <td>...</td>\n",
       "      <td>0</td>\n",
       "      <td>0</td>\n",
       "      <td>0</td>\n",
       "      <td>0</td>\n",
       "      <td>0</td>\n",
       "      <td>0</td>\n",
       "      <td>0</td>\n",
       "      <td>0</td>\n",
       "      <td>0</td>\n",
       "      <td>0</td>\n",
       "    </tr>\n",
       "    <tr>\n",
       "      <th>1</th>\n",
       "      <td>2</td>\n",
       "      <td>1</td>\n",
       "      <td>1</td>\n",
       "      <td>0</td>\n",
       "      <td>0</td>\n",
       "      <td>0</td>\n",
       "      <td>0</td>\n",
       "      <td>1</td>\n",
       "      <td>0</td>\n",
       "      <td>0</td>\n",
       "      <td>...</td>\n",
       "      <td>0</td>\n",
       "      <td>0</td>\n",
       "      <td>0</td>\n",
       "      <td>0</td>\n",
       "      <td>0</td>\n",
       "      <td>0</td>\n",
       "      <td>0</td>\n",
       "      <td>0</td>\n",
       "      <td>0</td>\n",
       "      <td>0</td>\n",
       "    </tr>\n",
       "    <tr>\n",
       "      <th>2</th>\n",
       "      <td>3</td>\n",
       "      <td>1</td>\n",
       "      <td>1</td>\n",
       "      <td>0</td>\n",
       "      <td>0</td>\n",
       "      <td>0</td>\n",
       "      <td>0</td>\n",
       "      <td>0</td>\n",
       "      <td>0</td>\n",
       "      <td>0</td>\n",
       "      <td>...</td>\n",
       "      <td>0</td>\n",
       "      <td>0</td>\n",
       "      <td>0</td>\n",
       "      <td>0</td>\n",
       "      <td>0</td>\n",
       "      <td>0</td>\n",
       "      <td>0</td>\n",
       "      <td>0</td>\n",
       "      <td>0</td>\n",
       "      <td>0</td>\n",
       "    </tr>\n",
       "    <tr>\n",
       "      <th>3</th>\n",
       "      <td>4</td>\n",
       "      <td>1</td>\n",
       "      <td>0</td>\n",
       "      <td>0</td>\n",
       "      <td>0</td>\n",
       "      <td>0</td>\n",
       "      <td>0</td>\n",
       "      <td>0</td>\n",
       "      <td>0</td>\n",
       "      <td>0</td>\n",
       "      <td>...</td>\n",
       "      <td>0</td>\n",
       "      <td>0</td>\n",
       "      <td>0</td>\n",
       "      <td>0</td>\n",
       "      <td>0</td>\n",
       "      <td>0</td>\n",
       "      <td>0</td>\n",
       "      <td>0</td>\n",
       "      <td>0</td>\n",
       "      <td>0</td>\n",
       "    </tr>\n",
       "    <tr>\n",
       "      <th>4</th>\n",
       "      <td>5</td>\n",
       "      <td>1</td>\n",
       "      <td>0</td>\n",
       "      <td>0</td>\n",
       "      <td>0</td>\n",
       "      <td>0</td>\n",
       "      <td>0</td>\n",
       "      <td>0</td>\n",
       "      <td>0</td>\n",
       "      <td>0</td>\n",
       "      <td>...</td>\n",
       "      <td>0</td>\n",
       "      <td>0</td>\n",
       "      <td>0</td>\n",
       "      <td>0</td>\n",
       "      <td>0</td>\n",
       "      <td>0</td>\n",
       "      <td>0</td>\n",
       "      <td>0</td>\n",
       "      <td>0</td>\n",
       "      <td>0</td>\n",
       "    </tr>\n",
       "    <tr>\n",
       "      <th>...</th>\n",
       "      <td>...</td>\n",
       "      <td>...</td>\n",
       "      <td>...</td>\n",
       "      <td>...</td>\n",
       "      <td>...</td>\n",
       "      <td>...</td>\n",
       "      <td>...</td>\n",
       "      <td>...</td>\n",
       "      <td>...</td>\n",
       "      <td>...</td>\n",
       "      <td>...</td>\n",
       "      <td>...</td>\n",
       "      <td>...</td>\n",
       "      <td>...</td>\n",
       "      <td>...</td>\n",
       "      <td>...</td>\n",
       "      <td>...</td>\n",
       "      <td>...</td>\n",
       "      <td>...</td>\n",
       "      <td>...</td>\n",
       "      <td>...</td>\n",
       "    </tr>\n",
       "    <tr>\n",
       "      <th>635</th>\n",
       "      <td>636</td>\n",
       "      <td>1</td>\n",
       "      <td>0</td>\n",
       "      <td>0</td>\n",
       "      <td>0</td>\n",
       "      <td>0</td>\n",
       "      <td>1</td>\n",
       "      <td>0</td>\n",
       "      <td>0</td>\n",
       "      <td>0</td>\n",
       "      <td>...</td>\n",
       "      <td>0</td>\n",
       "      <td>0</td>\n",
       "      <td>0</td>\n",
       "      <td>0</td>\n",
       "      <td>0</td>\n",
       "      <td>0</td>\n",
       "      <td>0</td>\n",
       "      <td>0</td>\n",
       "      <td>0</td>\n",
       "      <td>0</td>\n",
       "    </tr>\n",
       "    <tr>\n",
       "      <th>636</th>\n",
       "      <td>637</td>\n",
       "      <td>1</td>\n",
       "      <td>0</td>\n",
       "      <td>0</td>\n",
       "      <td>0</td>\n",
       "      <td>0</td>\n",
       "      <td>1</td>\n",
       "      <td>0</td>\n",
       "      <td>0</td>\n",
       "      <td>0</td>\n",
       "      <td>...</td>\n",
       "      <td>0</td>\n",
       "      <td>0</td>\n",
       "      <td>0</td>\n",
       "      <td>0</td>\n",
       "      <td>0</td>\n",
       "      <td>0</td>\n",
       "      <td>0</td>\n",
       "      <td>0</td>\n",
       "      <td>0</td>\n",
       "      <td>0</td>\n",
       "    </tr>\n",
       "    <tr>\n",
       "      <th>637</th>\n",
       "      <td>638</td>\n",
       "      <td>1</td>\n",
       "      <td>0</td>\n",
       "      <td>0</td>\n",
       "      <td>0</td>\n",
       "      <td>0</td>\n",
       "      <td>0</td>\n",
       "      <td>1</td>\n",
       "      <td>0</td>\n",
       "      <td>0</td>\n",
       "      <td>...</td>\n",
       "      <td>0</td>\n",
       "      <td>0</td>\n",
       "      <td>0</td>\n",
       "      <td>0</td>\n",
       "      <td>0</td>\n",
       "      <td>0</td>\n",
       "      <td>0</td>\n",
       "      <td>0</td>\n",
       "      <td>0</td>\n",
       "      <td>0</td>\n",
       "    </tr>\n",
       "    <tr>\n",
       "      <th>638</th>\n",
       "      <td>639</td>\n",
       "      <td>1</td>\n",
       "      <td>0</td>\n",
       "      <td>0</td>\n",
       "      <td>0</td>\n",
       "      <td>0</td>\n",
       "      <td>0</td>\n",
       "      <td>0</td>\n",
       "      <td>0</td>\n",
       "      <td>0</td>\n",
       "      <td>...</td>\n",
       "      <td>0</td>\n",
       "      <td>0</td>\n",
       "      <td>0</td>\n",
       "      <td>0</td>\n",
       "      <td>0</td>\n",
       "      <td>0</td>\n",
       "      <td>0</td>\n",
       "      <td>0</td>\n",
       "      <td>0</td>\n",
       "      <td>0</td>\n",
       "    </tr>\n",
       "    <tr>\n",
       "      <th>639</th>\n",
       "      <td>640</td>\n",
       "      <td>1</td>\n",
       "      <td>0</td>\n",
       "      <td>1</td>\n",
       "      <td>0</td>\n",
       "      <td>0</td>\n",
       "      <td>1</td>\n",
       "      <td>0</td>\n",
       "      <td>0</td>\n",
       "      <td>0</td>\n",
       "      <td>...</td>\n",
       "      <td>0</td>\n",
       "      <td>0</td>\n",
       "      <td>0</td>\n",
       "      <td>0</td>\n",
       "      <td>0</td>\n",
       "      <td>0</td>\n",
       "      <td>0</td>\n",
       "      <td>0</td>\n",
       "      <td>0</td>\n",
       "      <td>0</td>\n",
       "    </tr>\n",
       "  </tbody>\n",
       "</table>\n",
       "<p>640 rows × 47 columns</p>\n",
       "</div>"
      ],
      "text/plain": [
       "      ID  Disease_Risk  DR  ARMD  MH  DN  MYA  BRVO  TSLN  ERM  ...  CME  \\\n",
       "0      1             1   1     0   0   0    0     0     1    0  ...    0   \n",
       "1      2             1   1     0   0   0    0     1     0    0  ...    0   \n",
       "2      3             1   1     0   0   0    0     0     0    0  ...    0   \n",
       "3      4             1   0     0   0   0    0     0     0    0  ...    0   \n",
       "4      5             1   0     0   0   0    0     0     0    0  ...    0   \n",
       "..   ...           ...  ..   ...  ..  ..  ...   ...   ...  ...  ...  ...   \n",
       "635  636             1   0     0   0   0    1     0     0    0  ...    0   \n",
       "636  637             1   0     0   0   0    1     0     0    0  ...    0   \n",
       "637  638             1   0     0   0   0    0     1     0    0  ...    0   \n",
       "638  639             1   0     0   0   0    0     0     0    0  ...    0   \n",
       "639  640             1   0     1   0   0    1     0     0    0  ...    0   \n",
       "\n",
       "     PTCR  CF  VH  MCA  VS  BRAO  PLQ  HPED  CL  \n",
       "0       0   0   0    0   0     0    0     0   0  \n",
       "1       0   0   0    0   0     0    0     0   0  \n",
       "2       0   0   0    0   0     0    0     0   0  \n",
       "3       0   0   0    0   0     0    0     0   0  \n",
       "4       0   0   0    0   0     0    0     0   0  \n",
       "..    ...  ..  ..  ...  ..   ...  ...   ...  ..  \n",
       "635     0   0   0    0   0     0    0     0   0  \n",
       "636     0   0   0    0   0     0    0     0   0  \n",
       "637     0   0   0    0   0     0    0     0   0  \n",
       "638     0   0   0    0   0     0    0     0   0  \n",
       "639     0   0   0    0   0     0    0     0   0  \n",
       "\n",
       "[640 rows x 47 columns]"
      ]
     },
     "execution_count": 74,
     "metadata": {},
     "output_type": "execute_result"
    }
   ],
   "source": [
    "test = pd.read_csv('RFMiD_Testing_Labels.csv')\n",
    "test"
   ]
  },
  {
   "cell_type": "code",
   "execution_count": 75,
   "id": "b73783d7-f064-4abb-8b29-2723aae4a5aa",
   "metadata": {},
   "outputs": [
    {
     "data": {
      "text/plain": [
       "'1'"
      ]
     },
     "execution_count": 75,
     "metadata": {},
     "output_type": "execute_result"
    }
   ],
   "source": [
    "DR = list(test.loc[test['DR'] == 1]['ID'].astype(str))\n",
    "DR[0]"
   ]
  },
  {
   "cell_type": "code",
   "execution_count": 76,
   "id": "0c5de280-937f-4ea9-b252-a963e9e2d6ae",
   "metadata": {},
   "outputs": [
    {
     "data": {
      "text/plain": [
       "'24'"
      ]
     },
     "execution_count": 76,
     "metadata": {},
     "output_type": "execute_result"
    }
   ],
   "source": [
    "MH = list(test.loc[test['MH'] == 1]['ID'].astype(str))\n",
    "MH[0]"
   ]
  },
  {
   "cell_type": "code",
   "execution_count": 77,
   "id": "6248c5ed-3626-495e-b73a-4fb6e07389ee",
   "metadata": {},
   "outputs": [
    {
     "data": {
      "text/plain": [
       "'3'"
      ]
     },
     "execution_count": 77,
     "metadata": {},
     "output_type": "execute_result"
    }
   ],
   "source": [
    "ODC = list(test.loc[test['ODC'] == 1]['ID'].astype(str))\n",
    "ODC[0]"
   ]
  },
  {
   "cell_type": "code",
   "execution_count": null,
   "id": "da6c5405-ab94-45c1-a382-da17844c59e5",
   "metadata": {},
   "outputs": [],
   "source": []
  },
  {
   "cell_type": "code",
   "execution_count": 78,
   "id": "30e8477c-d60f-403a-a74b-8870b42e8795",
   "metadata": {},
   "outputs": [],
   "source": [
    "#sorting the images into the their disease pile\n",
    "import os\n",
    "ims = os.listdir()\n",
    "\n",
    "for im in ims:\n",
    "    if im.replace('.png', '') in DR:\n",
    "        os.rename(im, f\"DR/{im}\")"
   ]
  },
  {
   "cell_type": "code",
   "execution_count": 79,
   "id": "087e359b-82a9-4e63-bc05-7e34a20b0431",
   "metadata": {},
   "outputs": [],
   "source": [
    "for im in ims:\n",
    "    if im.replace('.png', '') in MH:\n",
    "        os.rename(im, f\"MH/{im}\")"
   ]
  },
  {
   "cell_type": "code",
   "execution_count": 80,
   "id": "b6daa55b-73f3-4913-ad69-564fb3ca4795",
   "metadata": {},
   "outputs": [],
   "source": [
    "for im in ims:\n",
    "    if im.replace('.png', '') in ODC:\n",
    "        os.rename(im, f\"ODC/{im}\")"
   ]
  },
  {
   "cell_type": "code",
   "execution_count": null,
   "id": "777d4f55-d794-40d6-9bea-8c8758adb9fb",
   "metadata": {},
   "outputs": [],
   "source": []
  },
  {
   "cell_type": "code",
   "execution_count": null,
   "id": "c8c7e4ff-b9ec-4da1-bf96-a76ee374c855",
   "metadata": {},
   "outputs": [],
   "source": []
  },
  {
   "cell_type": "code",
   "execution_count": null,
   "id": "22bc1fca-0e3e-4c8e-bb3e-d406dcc16d1e",
   "metadata": {},
   "outputs": [],
   "source": []
  }
 ],
 "metadata": {
  "kernelspec": {
   "display_name": "Python 3 (ipykernel)",
   "language": "python",
   "name": "python3"
  },
  "language_info": {
   "codemirror_mode": {
    "name": "ipython",
    "version": 3
   },
   "file_extension": ".py",
   "mimetype": "text/x-python",
   "name": "python",
   "nbconvert_exporter": "python",
   "pygments_lexer": "ipython3",
   "version": "3.9.15"
  }
 },
 "nbformat": 4,
 "nbformat_minor": 5
}
